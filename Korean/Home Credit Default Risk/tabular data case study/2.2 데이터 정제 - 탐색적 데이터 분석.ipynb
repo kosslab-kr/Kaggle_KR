{
 "cells": [
  {
   "cell_type": "markdown",
   "metadata": {},
   "source": [
    "#### (Home credit competition 중심으로)\n",
    "## 2.2 데이터 정제 - 탐색적 데이터 분석(EDA : Exploratory data analysis)\n",
    "---\n",
    "### 소스 및 데이터는 아래 kaggle을 참조하였습니다. \n",
    "* 캐글 주소 : https://www.kaggle.com/willkoehrsen/start-here-a-gentle-introduction\n",
    "* 해당 커널의 한글 번역은 파파고와 구글을 활용하였습니다.\n",
    "___"
   ]
  },
  {
   "cell_type": "code",
   "execution_count": 1,
   "metadata": {},
   "outputs": [],
   "source": [
    "# 라이브러리 \n",
    "import pandas as pd\n",
    "import numpy as np\n",
    "import os\n",
    "\n",
    "from sklearn.preprocessing import LabelEncoder\n",
    "import warnings\n",
    "warnings.filterwarnings('ignore')\n",
    "\n",
    "import matplotlib.pyplot as plt\n",
    "import seaborn as sns\n",
    "\n",
    "%matplotlib inline "
   ]
  },
  {
   "cell_type": "code",
   "execution_count": 2,
   "metadata": {},
   "outputs": [],
   "source": [
    "# 데이터 셋\n",
    "app_train = pd.read_csv('d:/Projects/Cp/input/application_train.csv')\n",
    "app_test = pd.read_csv('d:/Projects/Cp/input/application_test.csv')"
   ]
  },
  {
   "cell_type": "markdown",
   "metadata": {},
   "source": [
    "#### 탐색적 데이터 분석(EDA)\n",
    "\n",
    "* EDA 수행 시 찾아야하는 것은 데이터 내의 이상(예외) 입니다.\n",
    "> 잘못 입력한 숫자, 측정장비 오류, 유효하지만 극단적인 측정치\n",
    "* 예외를 정량적으로 설명하는 한가지 방법은 describe 메소드를 사용하여 열의 통계를 살펴보는 것입니다."
   ]
  },
  {
   "cell_type": "markdown",
   "metadata": {},
   "source": [
    "#### 이상(예외)값 탐색\n",
    "\n",
    "* DAYS_BIRTH(생일) 열의 숫자는 신청 당시의 고객의 연령과 관련하여 기록되기 때문에 음수이다. \n",
    "* 년으로 환산한 통계를 보려면 DAYS_BIRTH(새일) 열에 -1을 곱하고 년중 일수로 나눈 후 describe 메소드를 사용한다.\n",
    "* DAYS_BIRTH(생일) 데이터는 상한/하한에 대한 이상치가 없어 적절하게 보인다. "
   ]
  },
  {
   "cell_type": "code",
   "execution_count": 3,
   "metadata": {},
   "outputs": [
    {
     "data": {
      "text/plain": [
       "count    307511.000000\n",
       "mean         43.936973\n",
       "std          11.956133\n",
       "min          20.517808\n",
       "25%          34.008219\n",
       "50%          43.150685\n",
       "75%          53.923288\n",
       "max          69.120548\n",
       "Name: DAYS_BIRTH, dtype: float64"
      ]
     },
     "execution_count": 3,
     "metadata": {},
     "output_type": "execute_result"
    }
   ],
   "source": [
    "(app_train['DAYS_BIRTH'] / -365).describe()"
   ]
  },
  {
   "cell_type": "markdown",
   "metadata": {},
   "source": [
    "* DAYS_EMPLOYED(취업일)에 대한 통계를 보자."
   ]
  },
  {
   "cell_type": "code",
   "execution_count": 4,
   "metadata": {},
   "outputs": [
    {
     "data": {
      "text/plain": [
       "count    307511.000000\n",
       "mean      63815.045904\n",
       "std      141275.766519\n",
       "min      -17912.000000\n",
       "25%       -2760.000000\n",
       "50%       -1213.000000\n",
       "75%        -289.000000\n",
       "max      365243.000000\n",
       "Name: DAYS_EMPLOYED, dtype: float64"
      ]
     },
     "execution_count": 4,
     "metadata": {},
     "output_type": "execute_result"
    }
   ],
   "source": [
    "app_train['DAYS_EMPLOYED'].describe()"
   ]
  },
  {
   "cell_type": "markdown",
   "metadata": {},
   "source": [
    "* DAYS_EMPLOYED(취업일)을 년으로 환산 후 통계 구하기"
   ]
  },
  {
   "cell_type": "code",
   "execution_count": 5,
   "metadata": {},
   "outputs": [
    {
     "data": {
      "text/plain": [
       "count    307511.000000\n",
       "mean        174.835742\n",
       "std         387.056895\n",
       "min         -49.073973\n",
       "25%          -7.561644\n",
       "50%          -3.323288\n",
       "75%          -0.791781\n",
       "max        1000.665753\n",
       "Name: DAYS_EMPLOYED, dtype: float64"
      ]
     },
     "execution_count": 5,
     "metadata": {},
     "output_type": "execute_result"
    }
   ],
   "source": [
    "(app_train['DAYS_EMPLOYED'] / 365).describe()"
   ]
  },
  {
   "cell_type": "markdown",
   "metadata": {},
   "source": [
    "* DAYS_EMPLOYED(취업일) 최대 값은 1000년이다. 이는 타당한 값으로 보이지 않는다."
   ]
  },
  {
   "cell_type": "code",
   "execution_count": 6,
   "metadata": {},
   "outputs": [
    {
     "data": {
      "image/png": "[encoded data removed]",
      "text/plain": [
       "<Figure size 432x288 with 1 Axes>"
      ]
     },
     "metadata": {},
     "output_type": "display_data"
    }
   ],
   "source": [
    "app_train['DAYS_EMPLOYED'].plot.hist(title = 'Days Employment Histogram');\n",
    "plt.xlabel('Days Employment');"
   ]
  },
  {
   "cell_type": "markdown",
   "metadata": {},
   "source": [
    "#### 취업일이 1000년인 이상치 고객들은 다른 고객들보다 채무불이행이 더 높거나 낮은 경향이 있는지 확인\n",
    "\n",
    "* 취업일이 1000년인 고객과 그외 고객으로 데이터 발췌"
   ]
  },
  {
   "cell_type": "code",
   "execution_count": 7,
   "metadata": {},
   "outputs": [],
   "source": [
    "anom = app_train[app_train['DAYS_EMPLOYED'] == 365243]\n",
    "non_anom = app_train[app_train['DAYS_EMPLOYED'] != 365243]"
   ]
  },
  {
   "cell_type": "markdown",
   "metadata": {},
   "source": [
    "* 대출금 상환여부 컬럼(target) : 0 - 상환, 1 - 미상환\n",
    "* 이상치에 해당하는 고객의 채무불이행율과 그외 고객의 채무불이행율 확인\n",
    "* 이상치에 해당하는 고객 수 : 55,374"
   ]
  },
  {
   "cell_type": "code",
   "execution_count": 8,
   "metadata": {},
   "outputs": [
    {
     "name": "stdout",
     "output_type": "stream",
     "text": [
      "The non-anomalies default on 8.66% of loans\n",
      "The anomalies default on 5.40% of loans\n",
      "There are 55374 anomalous days of employment\n"
     ]
    }
   ],
   "source": [
    "print('The non-anomalies default on %0.2f%% of loans' % (100 * non_anom['TARGET'].mean()))\n",
    "print('The anomalies default on %0.2f%% of loans' % (100 * anom['TARGET'].mean()))\n",
    "print('There are %d anomalous days of employment' % len(anom))"
   ]
  },
  {
   "cell_type": "markdown",
   "metadata": {},
   "source": [
    "* 취업일(DAYS_EMPLOYED)이 1000년인 이상치 고객들은 다른 고객에 비해 채무불이행률이 낮다는 것을 확인\n",
    "* 즉 취업일(DAYS_EMPLOYED)이 이상치에 해당하는 데이터는 무시할 수 없으므로 모델에 영향을 주지 않으면서 유용하게 쓸 수 있는 방법 모색  \n",
    "___"
   ]
  },
  {
   "cell_type": "markdown",
   "metadata": {},
   "source": [
    "* 해결책으로 테이터 셋에 이상치인 1000년에 해당하는 취업일(DAYS_EMPLOYED)을 NaN으로 만들고 비정상 여부를 나타내는 새로운 부울(Bool)형 열을 추가한다. "
   ]
  },
  {
   "cell_type": "markdown",
   "metadata": {},
   "source": [
    "#### 훈련용 데이터 셋에 부울(Bool)형 DAYS_EMPLOYED_ANOM 열(컬럼) 추가\n",
    "* 취업일(DAYS_EMPLOYED)이 1000년인 경우 DAYS_EMPLOYED_ANOM에 True, 아닌 경우 False 값 설정"
   ]
  },
  {
   "cell_type": "code",
   "execution_count": 9,
   "metadata": {},
   "outputs": [],
   "source": [
    "app_train['DAYS_EMPLOYED_ANOM'] = app_train[\"DAYS_EMPLOYED\"] == 365243"
   ]
  },
  {
   "cell_type": "markdown",
   "metadata": {},
   "source": [
    "* 취업일(DAYS_EMPLOYED)이 1000년인 경우 NaN으로 변경"
   ]
  },
  {
   "cell_type": "code",
   "execution_count": 10,
   "metadata": {},
   "outputs": [],
   "source": [
    "app_train['DAYS_EMPLOYED'].replace({365243: np.nan}, inplace = True)"
   ]
  },
  {
   "cell_type": "markdown",
   "metadata": {},
   "source": [
    "* 이상치가 제거된 취업일(DAYS_EMPLOYED)의 통계 및 그래프"
   ]
  },
  {
   "cell_type": "code",
   "execution_count": 11,
   "metadata": {},
   "outputs": [
    {
     "data": {
      "text/plain": [
       "count    252137.000000\n",
       "mean      -2384.169325\n",
       "std        2338.360162\n",
       "min      -17912.000000\n",
       "25%       -3175.000000\n",
       "50%       -1648.000000\n",
       "75%        -767.000000\n",
       "max           0.000000\n",
       "Name: DAYS_EMPLOYED, dtype: float64"
      ]
     },
     "execution_count": 11,
     "metadata": {},
     "output_type": "execute_result"
    }
   ],
   "source": [
    "app_train['DAYS_EMPLOYED'].describe()"
   ]
  },
  {
   "cell_type": "code",
   "execution_count": 12,
   "metadata": {},
   "outputs": [
    {
     "data": {
      "image/png": "[encoded data removed]",
      "text/plain": [
       "<Figure size 432x288 with 1 Axes>"
      ]
     },
     "metadata": {},
     "output_type": "display_data"
    }
   ],
   "source": [
    "app_train['DAYS_EMPLOYED'].plot.hist(title = 'Days Employment Histogram');\n",
    "plt.xlabel('Days Employment');"
   ]
  },
  {
   "cell_type": "markdown",
   "metadata": {},
   "source": [
    "* 훈련용 데이터에 대해 수행하는 모든 작업은 테스트 데이터에도 적용합니다.\n",
    "* 이상치를 나타내는 부울(Bool)형 새 열을 만들고 이상치에 해당하는 취업일(DAYS_EMPLOYED)이 1000년인 값을 np.Nan으로 변경 "
   ]
  },
  {
   "cell_type": "code",
   "execution_count": 13,
   "metadata": {},
   "outputs": [
    {
     "name": "stdout",
     "output_type": "stream",
     "text": [
      "There are 9274 anomalies in the test data out of 48744 entries\n"
     ]
    }
   ],
   "source": [
    "app_test['DAYS_EMPLOYED_ANOM'] = app_test[\"DAYS_EMPLOYED\"] == 365243\n",
    "app_test[\"DAYS_EMPLOYED\"].replace({365243: np.nan}, inplace = True)\n",
    "\n",
    "print('There are %d anomalies in the test data out of %d entries' % (app_test[\"DAYS_EMPLOYED_ANOM\"].sum(), len(app_test)))"
   ]
  }
 ],
 "metadata": {
  "kernelspec": {
   "display_name": "Python 3",
   "language": "python",
   "name": "python3"
  },
  "language_info": {
   "codemirror_mode": {
    "name": "ipython",
    "version": 3
   },
   "file_extension": ".py",
   "mimetype": "text/x-python",
   "name": "python",
   "nbconvert_exporter": "python",
   "pygments_lexer": "ipython3",
   "version": "3.6.5"
  }
 },
 "nbformat": 4,
 "nbformat_minor": 2
}
