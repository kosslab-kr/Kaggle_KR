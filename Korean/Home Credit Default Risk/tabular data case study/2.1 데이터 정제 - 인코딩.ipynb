{
 "cells": [
  {
   "cell_type": "markdown",
   "metadata": {},
   "source": [
    "#### (Home credit competition 중심으로)\n",
    "## 2.1 데이터 정제하기-레이블/원 핫 인코딩\n",
    "\n",
    "---\n",
    "### 소스 및 데이터는 아래 kaggle을 참조하였습니다. \n",
    "* 캐글 주소 : https://www.kaggle.com/willkoehrsen/start-here-a-gentle-introduction\n",
    "* 해당 커널의 한글 번역은 파파고와 구글을 활용하였습니다.\n",
    "___"
   ]
  },
  {
   "cell_type": "code",
   "execution_count": 1,
   "metadata": {},
   "outputs": [],
   "source": [
    "# 라이브러리 \n",
    "import pandas as pd\n",
    "import numpy as np\n",
    "import os\n",
    "\n",
    "from sklearn.preprocessing import LabelEncoder\n",
    "import warnings\n",
    "warnings.filterwarnings('ignore')\n",
    "\n",
    "import matplotlib.pyplot as plt\n",
    "import seaborn as sns\n",
    "\n",
    "%matplotlib inline "
   ]
  },
  {
   "cell_type": "code",
   "execution_count": 2,
   "metadata": {},
   "outputs": [],
   "source": [
    "# 데이터 셋\n",
    "app_train = pd.read_csv('d:/Projects/Cp/input/application_train.csv')\n",
    "app_test = pd.read_csv('d:/Projects/Cp/input/application_test.csv')"
   ]
  },
  {
   "cell_type": "markdown",
   "metadata": {},
   "source": [
    "### 컬럼의 데이터형 확인 "
   ]
  },
  {
   "cell_type": "markdown",
   "metadata": {},
   "source": [
    "* 학습용 데이터 특정 컬럼 데이터형 확인"
   ]
  },
  {
   "cell_type": "code",
   "execution_count": 3,
   "metadata": {},
   "outputs": [
    {
     "data": {
      "text/plain": [
       "dtype('int64')"
      ]
     },
     "execution_count": 3,
     "metadata": {},
     "output_type": "execute_result"
    }
   ],
   "source": [
    "app_train['TARGET'].dtype"
   ]
  },
  {
   "cell_type": "markdown",
   "metadata": {},
   "source": [
    "* 학습용 데이터 전체 열(컬럼) 데이터형 확인"
   ]
  },
  {
   "cell_type": "code",
   "execution_count": 4,
   "metadata": {},
   "outputs": [
    {
     "name": "stdout",
     "output_type": "stream",
     "text": [
      "SK_ID_CURR                      int64\n",
      "TARGET                          int64\n",
      "NAME_CONTRACT_TYPE             object\n",
      "CODE_GENDER                    object\n",
      "FLAG_OWN_CAR                   object\n",
      "FLAG_OWN_REALTY                object\n",
      "CNT_CHILDREN                    int64\n",
      "AMT_INCOME_TOTAL              float64\n",
      "AMT_CREDIT                    float64\n",
      "AMT_ANNUITY                   float64\n",
      "AMT_GOODS_PRICE               float64\n",
      "NAME_TYPE_SUITE                object\n",
      "NAME_INCOME_TYPE               object\n",
      "NAME_EDUCATION_TYPE            object\n",
      "NAME_FAMILY_STATUS             object\n",
      "NAME_HOUSING_TYPE              object\n",
      "REGION_POPULATION_RELATIVE    float64\n",
      "DAYS_BIRTH                      int64\n",
      "DAYS_EMPLOYED                   int64\n",
      "DAYS_REGISTRATION             float64\n",
      "DAYS_ID_PUBLISH                 int64\n",
      "OWN_CAR_AGE                   float64\n",
      "FLAG_MOBIL                      int64\n",
      "FLAG_EMP_PHONE                  int64\n",
      "FLAG_WORK_PHONE                 int64\n",
      "FLAG_CONT_MOBILE                int64\n",
      "FLAG_PHONE                      int64\n",
      "FLAG_EMAIL                      int64\n",
      "OCCUPATION_TYPE                object\n",
      "CNT_FAM_MEMBERS               float64\n",
      "                               ...   \n",
      "DEF_30_CNT_SOCIAL_CIRCLE      float64\n",
      "OBS_60_CNT_SOCIAL_CIRCLE      float64\n",
      "DEF_60_CNT_SOCIAL_CIRCLE      float64\n",
      "DAYS_LAST_PHONE_CHANGE        float64\n",
      "FLAG_DOCUMENT_2                 int64\n",
      "FLAG_DOCUMENT_3                 int64\n",
      "FLAG_DOCUMENT_4                 int64\n",
      "FLAG_DOCUMENT_5                 int64\n",
      "FLAG_DOCUMENT_6                 int64\n",
      "FLAG_DOCUMENT_7                 int64\n",
      "FLAG_DOCUMENT_8                 int64\n",
      "FLAG_DOCUMENT_9                 int64\n",
      "FLAG_DOCUMENT_10                int64\n",
      "FLAG_DOCUMENT_11                int64\n",
      "FLAG_DOCUMENT_12                int64\n",
      "FLAG_DOCUMENT_13                int64\n",
      "FLAG_DOCUMENT_14                int64\n",
      "FLAG_DOCUMENT_15                int64\n",
      "FLAG_DOCUMENT_16                int64\n",
      "FLAG_DOCUMENT_17                int64\n",
      "FLAG_DOCUMENT_18                int64\n",
      "FLAG_DOCUMENT_19                int64\n",
      "FLAG_DOCUMENT_20                int64\n",
      "FLAG_DOCUMENT_21                int64\n",
      "AMT_REQ_CREDIT_BUREAU_HOUR    float64\n",
      "AMT_REQ_CREDIT_BUREAU_DAY     float64\n",
      "AMT_REQ_CREDIT_BUREAU_WEEK    float64\n",
      "AMT_REQ_CREDIT_BUREAU_MON     float64\n",
      "AMT_REQ_CREDIT_BUREAU_QRT     float64\n",
      "AMT_REQ_CREDIT_BUREAU_YEAR    float64\n",
      "Length: 122, dtype: object\n"
     ]
    }
   ],
   "source": [
    "print(app_train.dtypes)"
   ]
  },
  {
   "cell_type": "code",
   "execution_count": 5,
   "metadata": {},
   "outputs": [
    {
     "data": {
      "text/plain": [
       "float64    65\n",
       "int64      41\n",
       "object     16\n",
       "dtype: int64"
      ]
     },
     "execution_count": 5,
     "metadata": {},
     "output_type": "execute_result"
    }
   ],
   "source": [
    "# 열의 각 유형 수\n",
    "app_train.dtypes.value_counts()"
   ]
  },
  {
   "cell_type": "markdown",
   "metadata": {},
   "source": [
    "데이터의 유형\n",
    "\n",
    "* int64, float64는 숫자 변수(이산 또는 연속형) 106개\n",
    "* 객체(object)열은 문자열 포함하며 범주형 : 16개"
   ]
  },
  {
   "cell_type": "code",
   "execution_count": 6,
   "metadata": {},
   "outputs": [
    {
     "data": {
      "text/plain": [
       "ORGANIZATION_TYPE             58\n",
       "OCCUPATION_TYPE               18\n",
       "NAME_INCOME_TYPE               8\n",
       "WALLSMATERIAL_MODE             7\n",
       "WEEKDAY_APPR_PROCESS_START     7\n",
       "NAME_TYPE_SUITE                7\n",
       "NAME_HOUSING_TYPE              6\n",
       "NAME_FAMILY_STATUS             6\n",
       "NAME_EDUCATION_TYPE            5\n",
       "FONDKAPREMONT_MODE             4\n",
       "HOUSETYPE_MODE                 3\n",
       "CODE_GENDER                    3\n",
       "EMERGENCYSTATE_MODE            2\n",
       "FLAG_OWN_REALTY                2\n",
       "FLAG_OWN_CAR                   2\n",
       "NAME_CONTRACT_TYPE             2\n",
       "dtype: int64"
      ]
     },
     "execution_count": 6,
     "metadata": {},
     "output_type": "execute_result"
    }
   ],
   "source": [
    "# 범주형 열(컬럼)의 고유 항목 수 내림차순 정렬\n",
    "app_train.select_dtypes('object').apply(pd.Series.nunique, axis = 0).sort_values(ascending=False)"
   ]
  },
  {
   "cell_type": "markdown",
   "metadata": {},
   "source": [
    "* 범주형 열은 비교적 적은 수의 고유 항목을 가지고 있음을 알 수 있다.\n",
    "* 범주형 고유항목에 널(Null)은 미포함"
   ]
  },
  {
   "cell_type": "markdown",
   "metadata": {},
   "source": [
    "#### 레이블 인코딩\n",
    "기계학습 모델은 LightGBM과 같은 일부 모델을 제외하고 범주형 변수를 처리할 수 없습니다. 따라서 범주형 변수를 모델로 전달하기 전에 숫자로 표현(인코딩) 하는 방법을 찾아야 합니다.\n",
    "\n",
    "* 레이블 인코딩 : 각 범주형 값에 숫자 지정\n",
    "\n",
    "|ex)|범주형|숫자|\n",
    "|:---:|:---:|:---:|\n",
    "|0|양말|0|\n",
    "|1|여우|1|\n",
    "|2|양말|2|\n",
    "|3|상자|1|\n",
    "\n",
    "* 새로운 열이 추가되지 않습니다.\n",
    "* 범주에 지정된 숫자는 임의이며 범주의 고유한 특성을 반영하지 않습니다.\n",
    "* 그러나 기계학습 모델은 범주형에 지정된 숫자값에 가중치를 할 당하여 모델에 영향을 줄수 있습니다. \n",
    "* 따라서 범주형 값(남자/여자)이 두가지 고유한 값만 있는 경우에는 레이블 인코딩이 문제가 되지 않지만 두가지 이상의 범주형 값을 가진다면 원 핫 인코딩이 안전합니다.\n",
    "---\n",
    "\n",
    "* 원 핫 인코딩\n",
    "\n",
    "|ex)|범주형|범주형특성_상자|범주형특성_여우|범주형특성_양말|\n",
    "|:---:|:---:|:---:|:---:|:---:|\n",
    "|0|양말|0|0|1|\n",
    "|1|여우|0|1|0|\n",
    "|2|양말|0|0|1|\n",
    "|3|상자|1|0|0|\n",
    "\n",
    "* 원 핫 인코딩의 단점은 범주형 변수로 데이터의 크기가 늘어나는 것입니다.\n",
    "* 이를 처리하기 위해 PCA, 차원 감소 방법으로 차원 수를 줄입니다.\n",
    "\n",
    "[ 참고자료 ] 파이썬 파이브러리를 활용한 머신러닝 266페이지, 안드레아스 뮐러, 세라 가이도 지음, 한빛미디어, 2017)"
   ]
  },
  {
   "cell_type": "markdown",
   "metadata": {},
   "source": [
    "#### 해당 데이터의 범주형 처리\n",
    "* 2개 범주형 변수 : 레이블인코딩 사용\n",
    "* 2개 이상 범부형 변수 : 원 핫 인코딩 사용"
   ]
  },
  {
   "cell_type": "code",
   "execution_count": 7,
   "metadata": {},
   "outputs": [
    {
     "name": "stdout",
     "output_type": "stream",
     "text": [
      "NAME_CONTRACT_TYPE\n",
      "FLAG_OWN_CAR\n",
      "FLAG_OWN_REALTY\n"
     ]
    }
   ],
   "source": [
    "# 데이터형이 오브젝트이면서 고유항목수가 2이하인 열\n",
    "\n",
    "for col in app_train:\n",
    "    if app_train[col].dtype == 'object':\n",
    "        if len(list(app_train[col].unique())) <= 2:\n",
    "            print(col)"
   ]
  },
  {
   "cell_type": "markdown",
   "metadata": {},
   "source": [
    "위에서 고유항목 수가 2인 열은 다음과 같이 4개이나\n",
    "\n",
    "1. EMERGENCYSTATE_MODE            \n",
    "2. FLAG_OWN_REALTY               \n",
    "3. FLAG_OWN_CAR                  \n",
    "4. NAME_CONTRACT_TYPE             \n",
    "\n",
    "실제로는 3개 열만 해당이 됨\n",
    "\n",
    "1. NAME_CONTRACT_TYPE\n",
    "2. FLAG_OWN_CAR\n",
    "3. FLAG_OWN_REALTY"
   ]
  },
  {
   "cell_type": "code",
   "execution_count": 8,
   "metadata": {},
   "outputs": [
    {
     "name": "stdout",
     "output_type": "stream",
     "text": [
      "app_train 데이터의 총 행 :  307511\n",
      "EMERGENCYSTATE_MODE 열의 결측값 수 :  145755\n",
      "EMERGENCYSTATE_MODE 열의 수 :  145755\n",
      "--------------------------------------------------------------------\n",
      "EMERGENCYSTATE_MODE 범주\n"
     ]
    },
    {
     "data": {
      "text/plain": [
       "No     159428\n",
       "Yes      2328\n",
       "Name: EMERGENCYSTATE_MODE, dtype: int64"
      ]
     },
     "execution_count": 8,
     "metadata": {},
     "output_type": "execute_result"
    }
   ],
   "source": [
    "print(\"app_train 데이터의 총 행 : \", app_train.shape[0])\n",
    "print(\"EMERGENCYSTATE_MODE 열의 결측값 수 : \", app_train['EMERGENCYSTATE_MODE'].isnull().sum())\n",
    "print(\"EMERGENCYSTATE_MODE 열의 수 : \", app_train['EMERGENCYSTATE_MODE'].isnull().sum())\n",
    "print(\"--------------------------------------------------------------------\")\n",
    "print(\"EMERGENCYSTATE_MODE 범주\")\n",
    "app_train['EMERGENCYSTATE_MODE'].value_counts()"
   ]
  },
  {
   "cell_type": "markdown",
   "metadata": {},
   "source": [
    "* 즉 EMERGENCYSTATE_MODE 열은 다음과 같이 3개의 항목을 가지고 있고 apply(pd.Series.nunique, axis = 0) 처리 시 Null값은 제외하고 구하므로 실제 범주항목은 3이나 2로 구해졌다 \n",
    "\n",
    "|범주값|갯수|\n",
    "|:---:|---:|\n",
    "|No|159428|\n",
    "|Yes|2328|\n",
    "|Null|145755|"
   ]
  },
  {
   "cell_type": "code",
   "execution_count": 9,
   "metadata": {},
   "outputs": [
    {
     "name": "stdout",
     "output_type": "stream",
     "text": [
      "after app_train Features shape :  (307511, 122)\n",
      "after app_test Features shape :  (48744, 121)\n"
     ]
    }
   ],
   "source": [
    "# 레이블 인코딩 전 데이터 크기\n",
    "print('after app_train Features shape : ', app_train.shape)\n",
    "print('after app_test Features shape : ', app_test.shape) "
   ]
  },
  {
   "cell_type": "code",
   "execution_count": 10,
   "metadata": {},
   "outputs": [
    {
     "name": "stdout",
     "output_type": "stream",
     "text": [
      "Cash loans         278232\n",
      "Revolving loans     29279\n",
      "Name: NAME_CONTRACT_TYPE, dtype: int64\n",
      "--------------------------------------------\n",
      "N    202924\n",
      "Y    104587\n",
      "Name: FLAG_OWN_CAR, dtype: int64\n",
      "--------------------------------------------\n",
      "Y    213312\n",
      "N     94199\n",
      "Name: FLAG_OWN_REALTY, dtype: int64\n"
     ]
    }
   ],
   "source": [
    "# 레이블 인코딩 전 데이터 범주 항목\n",
    "print(app_train['NAME_CONTRACT_TYPE'].value_counts())\n",
    "print(\"--------------------------------------------\")\n",
    "print(app_train['FLAG_OWN_CAR'].value_counts())\n",
    "print(\"--------------------------------------------\")\n",
    "print(app_train['FLAG_OWN_REALTY'].value_counts())"
   ]
  },
  {
   "cell_type": "code",
   "execution_count": 11,
   "metadata": {},
   "outputs": [
    {
     "name": "stdout",
     "output_type": "stream",
     "text": [
      "NAME_CONTRACT_TYPE\n",
      "FLAG_OWN_CAR\n",
      "FLAG_OWN_REALTY\n",
      "3 columns were label encoded.\n"
     ]
    }
   ],
   "source": [
    "#  레이블 인코딩 \n",
    "le = LabelEncoder()\n",
    "le_count = 0\n",
    "\n",
    "for col in app_train:    \n",
    "    if app_train[col].dtype == 'object':\n",
    "        if len(list(app_train[col].unique())) <= 2: \n",
    "            print(col)\n",
    "            le.fit(app_train[col])\n",
    "            app_train[col] = le.transform(app_train[col])\n",
    "            app_test[col]  = le.transform(app_test [col])            \n",
    "            le_count += 1\n",
    "            \n",
    "print('%d columns were label encoded.' % le_count)"
   ]
  },
  {
   "cell_type": "code",
   "execution_count": 12,
   "metadata": {},
   "outputs": [
    {
     "name": "stdout",
     "output_type": "stream",
     "text": [
      "before app_train Features shape :  (307511, 122)\n",
      "before app_test Features shape :  (48744, 121)\n"
     ]
    }
   ],
   "source": [
    "# 레이블 인코딩 후 데이터 형태\n",
    "print('before app_train Features shape : ', app_train.shape)\n",
    "print('before app_test Features shape : ', app_test.shape)"
   ]
  },
  {
   "cell_type": "code",
   "execution_count": 13,
   "metadata": {},
   "outputs": [
    {
     "name": "stdout",
     "output_type": "stream",
     "text": [
      "0    278232\n",
      "1     29279\n",
      "Name: NAME_CONTRACT_TYPE, dtype: int64\n",
      "--------------------------------------------\n",
      "0    202924\n",
      "1    104587\n",
      "Name: FLAG_OWN_CAR, dtype: int64\n",
      "--------------------------------------------\n",
      "1    213312\n",
      "0     94199\n",
      "Name: FLAG_OWN_REALTY, dtype: int64\n"
     ]
    }
   ],
   "source": [
    "# 레이블 인코딩 후 데이터 범주 항목\n",
    "print(app_train['NAME_CONTRACT_TYPE'].value_counts())\n",
    "print(\"--------------------------------------------\")\n",
    "print(app_train['FLAG_OWN_CAR'].value_counts())\n",
    "print(\"--------------------------------------------\")\n",
    "print(app_train['FLAG_OWN_REALTY'].value_counts())"
   ]
  },
  {
   "cell_type": "markdown",
   "metadata": {},
   "source": [
    "* 레이블 인코딩은 열의 추가가 없고 범주형 항목이 1/0으로 바뀌는 것을 확인 할 수 있다."
   ]
  },
  {
   "cell_type": "code",
   "execution_count": 14,
   "metadata": {},
   "outputs": [
    {
     "name": "stdout",
     "output_type": "stream",
     "text": [
      "after app_train Features shape :  (307511, 122)\n",
      "after app_test Features shape :  (48744, 121)\n"
     ]
    }
   ],
   "source": [
    "# 원 핫 인코딩 전 데이터 크기\n",
    "print('after app_train Features shape : ', app_train.shape)\n",
    "print('after app_test Features shape : ', app_test.shape) "
   ]
  },
  {
   "cell_type": "code",
   "execution_count": 15,
   "metadata": {},
   "outputs": [],
   "source": [
    "# 원 핫 인코딩\n",
    "app_train = pd.get_dummies(app_train)\n",
    "app_test = pd.get_dummies(app_test)"
   ]
  },
  {
   "cell_type": "code",
   "execution_count": 16,
   "metadata": {},
   "outputs": [
    {
     "name": "stdout",
     "output_type": "stream",
     "text": [
      "after app_train Features shape :  (307511, 243)\n",
      "after app_test Features shape :  (48744, 239)\n"
     ]
    }
   ],
   "source": [
    "# 원 핫 인코딩 후 데이터 크기\n",
    "print('after app_train Features shape : ', app_train.shape)\n",
    "print('after app_test Features shape : ', app_test.shape) "
   ]
  },
  {
   "cell_type": "markdown",
   "metadata": {},
   "source": [
    "* 원 핫 인코딩 후 열의 수가 늘어난 것을 확인 할 수 있다."
   ]
  },
  {
   "cell_type": "markdown",
   "metadata": {},
   "source": [
    "#### 학습용 데이터와 테스트용 데이터 열(컬럼) 맞추기\n",
    "* 원 핫 인코딩 후 학습용 데이터와 테스트용 데이터의 열(컬럼)의 갯수를 보면 서로 불일치\n",
    "* 학습용 데이터에만 있고 테스트용 데이터에는 없는 TARGET(대출금 상환여부)열을 감안하더라도 학습용 데이터가 테스트용 데이터 보다 열(컬럼)이 3개가 더 많다.\n",
    "* 이를 맞추는 작업을 한다.\n",
    "---"
   ]
  },
  {
   "cell_type": "markdown",
   "metadata": {},
   "source": [
    "* 학습용 데이터의 TARGET(대출금 상환여부)열을 따로 보관 후 학습용 데이터와 테스트용 데이터를 열 기준으로 정렬하여 서로 없는 열(컬럼) 삭제\n",
    "* 따로 보관한 TARGET(대출금 상환여부)열을 학습용 데이터에 추가"
   ]
  },
  {
   "cell_type": "code",
   "execution_count": 17,
   "metadata": {},
   "outputs": [
    {
     "name": "stdout",
     "output_type": "stream",
     "text": [
      "Training Features shape:  (307511, 240)\n",
      "Testing Features shape:  (48744, 239)\n"
     ]
    }
   ],
   "source": [
    "# TARGET(대출금 상환여부)열 따로 보관\n",
    "train_labels = app_train['TARGET']\n",
    "\n",
    "# 열(컬럼)기준 데이터 정렬하여 서로 없는 열(컬럼) 삭제\n",
    "app_train, app_test = app_train.align(app_test, join = 'inner', axis = 1)\n",
    "\n",
    "# 학습용 데이터에 TARGET(대출금 상환여부)열 추가\n",
    "app_train['TARGET'] = train_labels\n",
    "\n",
    "print('Training Features shape: ', app_train.shape)\n",
    "print('Testing Features shape: ', app_test.shape)"
   ]
  }
 ],
 "metadata": {
  "kernelspec": {
   "display_name": "Python 3",
   "language": "python",
   "name": "python3"
  },
  "language_info": {
   "codemirror_mode": {
    "name": "ipython",
    "version": 3
   },
   "file_extension": ".py",
   "mimetype": "text/x-python",
   "name": "python",
   "nbconvert_exporter": "python",
   "pygments_lexer": "ipython3",
   "version": "3.6.5"
  }
 },
 "nbformat": 4,
 "nbformat_minor": 2
}
