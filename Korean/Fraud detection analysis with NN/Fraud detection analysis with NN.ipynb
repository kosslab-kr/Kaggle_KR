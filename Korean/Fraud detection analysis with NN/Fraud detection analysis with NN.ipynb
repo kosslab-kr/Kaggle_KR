{
 "cells": [
  {
   "cell_type": "markdown",
   "metadata": {},
   "source": [
    "# Fraud detection analysis with NN\n",
    "\n",
    "해당 커널은 캐글의 데이터 셋 [Credit Card Fraud Detection](https://www.kaggle.com/mlg-ulb/creditcardfraud)으로 이상치 감지(Anomaly Dectection)를 한 커널 [Fraud detection analysis with NN](https://www.kaggle.com/mnpathak1/fraud-detection-analysis-with-nn)를 번역한 것입니다."
   ]
  },
  {
   "cell_type": "markdown",
   "metadata": {},
   "source": [
    "# 신용 카드 사기 예측\n",
    "\n",
    "이 분석에서는 거래(Transaction) 데이터에서 신용카드 사기를 예측하는 것이 목표입니다. 사기 데이터는 매우 편향된 데이터입니다. 대부분의 사기 데이터는 하나의 클래스고 나머지는 다른 클래스입니다. 만약 다수로 차지하는 클래스를 예측할 경우, 전체적인 정확도는 매우 높을테지만, 다른 클래스를 완전히 놓치게 될것입니다. 그 다른 클래스가 우리가 예측할 신용카드 사기 거래입니다. 저는 Tensorflow로 예측 모델을 만들것이며, t-SNE로 신용카드 데이터를 2차원으로 시각화하여 살펴볼 것입니다. Reference를 자세히 보시면 이 분석을 이해하는데 도움이 될 것입니다.\n",
    "\n",
    "이 분석은 다음과 같은 파트로 구성되어 있습니다.\n",
    "\n",
    "* [데이터 탐색](#1.-데이터-탐색)\n",
    "* 신경망 구성\n",
    "    * Tensorflow를 사용한 FC 네트워크\n",
    "    * Keras를 사용한 FC 네트워크\n",
    "    * Keras를 사용한 Autoencoder 네트워크: **사기 트랜잭션 감지**\n",
    "* t-SNE를 사용한 데이터 시각화"
   ]
  },
  {
   "cell_type": "markdown",
   "metadata": {
    "_cell_guid": "2aa4e867-568a-4dc1-a3d5-550a433a4410",
    "_uuid": "08592981d1e6d425e22a1b5100e9477d4042c2b3"
   },
   "source": [
    "### 0. 필요한 패키지 및 데이터 로드"
   ]
  },
  {
   "cell_type": "code",
   "execution_count": 1,
   "metadata": {
    "_cell_guid": "38f6daf8-0c7e-4828-b7c7-9f360b74cba2",
    "_uuid": "7bce1457305f4af15a8906b5fbe0f86b122b7682"
   },
   "outputs": [],
   "source": [
    "import pandas as pd\n",
    "import numpy as np \n",
    "import tensorflow as tf\n",
    "from sklearn.model_selection import train_test_split\n",
    "import matplotlib.pyplot as plt\n",
    "from sklearn.utils import shuffle\n",
    "from sklearn.metrics import confusion_matrix\n",
    "import seaborn as sns\n",
    "import matplotlib.gridspec as gridspec\n",
    "from sklearn.preprocessing import StandardScaler\n",
    "from sklearn.manifold import TSNE\n",
    "# from show_confusion_matrix import show_confusion_matrix \n",
    "# the above is from http://notmatthancock.github.io/2015/10/28/confusion-matrix.html"
   ]
  },
  {
   "cell_type": "code",
   "execution_count": 2,
   "metadata": {
    "_cell_guid": "7ba71260-0875-4985-b4c5-f2a2ec628b54",
    "_uuid": "286e20d11c5ead05833ca6ac9e00c5939c13d5fa"
   },
   "outputs": [],
   "source": [
    "df = pd.read_csv(\"./input/creditcard.csv\")"
   ]
  },
  {
   "cell_type": "markdown",
   "metadata": {
    "_cell_guid": "2b7a15f3-cdf5-4a09-8ae1-cd447dc78415",
    "_uuid": "7d6d44f8767d33f377b0cc7c5b8ba3a11ff6b1f6"
   },
   "source": [
    "### 1. 데이터 탐색"
   ]
  },
  {
   "cell_type": "code",
   "execution_count": 3,
   "metadata": {
    "_cell_guid": "c6a0171a-c2d9-4c72-baae-fba61d477c72",
    "_uuid": "a1c048a75eb006044448a22827ef7de59efc494d",
    "scrolled": false
   },
   "outputs": [
    {
     "name": "stdout",
     "output_type": "stream",
     "text": [
      "<class 'pandas.core.frame.DataFrame'>\n",
      "RangeIndex: 284807 entries, 0 to 284806\n",
      "Data columns (total 31 columns):\n",
      "Time      284807 non-null float64\n",
      "V1        284807 non-null float64\n",
      "V2        284807 non-null float64\n",
      "V3        284807 non-null float64\n",
      "V4        284807 non-null float64\n",
      "V5        284807 non-null float64\n",
      "V6        284807 non-null float64\n",
      "V7        284807 non-null float64\n",
      "V8        284807 non-null float64\n",
      "V9        284807 non-null float64\n",
      "V10       284807 non-null float64\n",
      "V11       284807 non-null float64\n",
      "V12       284807 non-null float64\n",
      "V13       284807 non-null float64\n",
      "V14       284807 non-null float64\n",
      "V15       284807 non-null float64\n",
      "V16       284807 non-null float64\n",
      "V17       284807 non-null float64\n",
      "V18       284807 non-null float64\n",
      "V19       284807 non-null float64\n",
      "V20       284807 non-null float64\n",
      "V21       284807 non-null float64\n",
      "V22       284807 non-null float64\n",
      "V23       284807 non-null float64\n",
      "V24       284807 non-null float64\n",
      "V25       284807 non-null float64\n",
      "V26       284807 non-null float64\n",
      "V27       284807 non-null float64\n",
      "V28       284807 non-null float64\n",
      "Amount    284807 non-null float64\n",
      "Class     284807 non-null int64\n",
      "dtypes: float64(30), int64(1)\n",
      "memory usage: 67.4 MB\n"
     ]
    }
   ],
   "source": [
    "df.info()"
   ]
  },
  {
   "cell_type": "markdown",
   "metadata": {},
   "source": [
    "주어진 *creditcard.csv* 데이터 셋에는 거래 시간 Feature(Time), 28 개의 이름없는 Features(V1~V28), 거래 금액(Amount) Feature로 구성되어 있습니다.\n",
    "\n",
    "한 번 처음 몇 Rows와 각 칼럼들의 기초적인 통계를 보도록 하겠습니다."
   ]
  },
  {
   "cell_type": "code",
   "execution_count": 4,
   "metadata": {
    "_cell_guid": "f08cc4ff-90bb-4c95-995d-07656f0d6a9d",
    "_uuid": "b0eb1ab69917df26b9ca2e2198f519b9db9052c7"
   },
   "outputs": [
    {
     "data": {
      "text/html": [
       "<div>\n",
       "<style scoped>\n",
       "    .dataframe tbody tr th:only-of-type {\n",
       "        vertical-align: middle;\n",
       "    }\n",
       "\n",
       "    .dataframe tbody tr th {\n",
       "        vertical-align: top;\n",
       "    }\n",
       "\n",
       "    .dataframe thead th {\n",
       "        text-align: right;\n",
       "    }\n",
       "</style>\n",
       "<table border=\"1\" class=\"dataframe\">\n",
       "  <thead>\n",
       "    <tr style=\"text-align: right;\">\n",
       "      <th></th>\n",
       "      <th>Time</th>\n",
       "      <th>V1</th>\n",
       "      <th>V2</th>\n",
       "      <th>V3</th>\n",
       "      <th>V4</th>\n",
       "      <th>V5</th>\n",
       "      <th>V6</th>\n",
       "      <th>V7</th>\n",
       "      <th>V8</th>\n",
       "      <th>V9</th>\n",
       "      <th>...</th>\n",
       "      <th>V21</th>\n",
       "      <th>V22</th>\n",
       "      <th>V23</th>\n",
       "      <th>V24</th>\n",
       "      <th>V25</th>\n",
       "      <th>V26</th>\n",
       "      <th>V27</th>\n",
       "      <th>V28</th>\n",
       "      <th>Amount</th>\n",
       "      <th>Class</th>\n",
       "    </tr>\n",
       "  </thead>\n",
       "  <tbody>\n",
       "    <tr>\n",
       "      <th>0</th>\n",
       "      <td>0.0</td>\n",
       "      <td>-1.359807</td>\n",
       "      <td>-0.072781</td>\n",
       "      <td>2.536347</td>\n",
       "      <td>1.378155</td>\n",
       "      <td>-0.338321</td>\n",
       "      <td>0.462388</td>\n",
       "      <td>0.239599</td>\n",
       "      <td>0.098698</td>\n",
       "      <td>0.363787</td>\n",
       "      <td>...</td>\n",
       "      <td>-0.018307</td>\n",
       "      <td>0.277838</td>\n",
       "      <td>-0.110474</td>\n",
       "      <td>0.066928</td>\n",
       "      <td>0.128539</td>\n",
       "      <td>-0.189115</td>\n",
       "      <td>0.133558</td>\n",
       "      <td>-0.021053</td>\n",
       "      <td>149.62</td>\n",
       "      <td>0</td>\n",
       "    </tr>\n",
       "    <tr>\n",
       "      <th>1</th>\n",
       "      <td>0.0</td>\n",
       "      <td>1.191857</td>\n",
       "      <td>0.266151</td>\n",
       "      <td>0.166480</td>\n",
       "      <td>0.448154</td>\n",
       "      <td>0.060018</td>\n",
       "      <td>-0.082361</td>\n",
       "      <td>-0.078803</td>\n",
       "      <td>0.085102</td>\n",
       "      <td>-0.255425</td>\n",
       "      <td>...</td>\n",
       "      <td>-0.225775</td>\n",
       "      <td>-0.638672</td>\n",
       "      <td>0.101288</td>\n",
       "      <td>-0.339846</td>\n",
       "      <td>0.167170</td>\n",
       "      <td>0.125895</td>\n",
       "      <td>-0.008983</td>\n",
       "      <td>0.014724</td>\n",
       "      <td>2.69</td>\n",
       "      <td>0</td>\n",
       "    </tr>\n",
       "    <tr>\n",
       "      <th>2</th>\n",
       "      <td>1.0</td>\n",
       "      <td>-1.358354</td>\n",
       "      <td>-1.340163</td>\n",
       "      <td>1.773209</td>\n",
       "      <td>0.379780</td>\n",
       "      <td>-0.503198</td>\n",
       "      <td>1.800499</td>\n",
       "      <td>0.791461</td>\n",
       "      <td>0.247676</td>\n",
       "      <td>-1.514654</td>\n",
       "      <td>...</td>\n",
       "      <td>0.247998</td>\n",
       "      <td>0.771679</td>\n",
       "      <td>0.909412</td>\n",
       "      <td>-0.689281</td>\n",
       "      <td>-0.327642</td>\n",
       "      <td>-0.139097</td>\n",
       "      <td>-0.055353</td>\n",
       "      <td>-0.059752</td>\n",
       "      <td>378.66</td>\n",
       "      <td>0</td>\n",
       "    </tr>\n",
       "    <tr>\n",
       "      <th>3</th>\n",
       "      <td>1.0</td>\n",
       "      <td>-0.966272</td>\n",
       "      <td>-0.185226</td>\n",
       "      <td>1.792993</td>\n",
       "      <td>-0.863291</td>\n",
       "      <td>-0.010309</td>\n",
       "      <td>1.247203</td>\n",
       "      <td>0.237609</td>\n",
       "      <td>0.377436</td>\n",
       "      <td>-1.387024</td>\n",
       "      <td>...</td>\n",
       "      <td>-0.108300</td>\n",
       "      <td>0.005274</td>\n",
       "      <td>-0.190321</td>\n",
       "      <td>-1.175575</td>\n",
       "      <td>0.647376</td>\n",
       "      <td>-0.221929</td>\n",
       "      <td>0.062723</td>\n",
       "      <td>0.061458</td>\n",
       "      <td>123.50</td>\n",
       "      <td>0</td>\n",
       "    </tr>\n",
       "    <tr>\n",
       "      <th>4</th>\n",
       "      <td>2.0</td>\n",
       "      <td>-1.158233</td>\n",
       "      <td>0.877737</td>\n",
       "      <td>1.548718</td>\n",
       "      <td>0.403034</td>\n",
       "      <td>-0.407193</td>\n",
       "      <td>0.095921</td>\n",
       "      <td>0.592941</td>\n",
       "      <td>-0.270533</td>\n",
       "      <td>0.817739</td>\n",
       "      <td>...</td>\n",
       "      <td>-0.009431</td>\n",
       "      <td>0.798278</td>\n",
       "      <td>-0.137458</td>\n",
       "      <td>0.141267</td>\n",
       "      <td>-0.206010</td>\n",
       "      <td>0.502292</td>\n",
       "      <td>0.219422</td>\n",
       "      <td>0.215153</td>\n",
       "      <td>69.99</td>\n",
       "      <td>0</td>\n",
       "    </tr>\n",
       "  </tbody>\n",
       "</table>\n",
       "<p>5 rows × 31 columns</p>\n",
       "</div>"
      ],
      "text/plain": [
       "   Time        V1        V2        V3        V4        V5        V6        V7  \\\n",
       "0   0.0 -1.359807 -0.072781  2.536347  1.378155 -0.338321  0.462388  0.239599   \n",
       "1   0.0  1.191857  0.266151  0.166480  0.448154  0.060018 -0.082361 -0.078803   \n",
       "2   1.0 -1.358354 -1.340163  1.773209  0.379780 -0.503198  1.800499  0.791461   \n",
       "3   1.0 -0.966272 -0.185226  1.792993 -0.863291 -0.010309  1.247203  0.237609   \n",
       "4   2.0 -1.158233  0.877737  1.548718  0.403034 -0.407193  0.095921  0.592941   \n",
       "\n",
       "         V8        V9  ...         V21       V22       V23       V24  \\\n",
       "0  0.098698  0.363787  ...   -0.018307  0.277838 -0.110474  0.066928   \n",
       "1  0.085102 -0.255425  ...   -0.225775 -0.638672  0.101288 -0.339846   \n",
       "2  0.247676 -1.514654  ...    0.247998  0.771679  0.909412 -0.689281   \n",
       "3  0.377436 -1.387024  ...   -0.108300  0.005274 -0.190321 -1.175575   \n",
       "4 -0.270533  0.817739  ...   -0.009431  0.798278 -0.137458  0.141267   \n",
       "\n",
       "        V25       V26       V27       V28  Amount  Class  \n",
       "0  0.128539 -0.189115  0.133558 -0.021053  149.62      0  \n",
       "1  0.167170  0.125895 -0.008983  0.014724    2.69      0  \n",
       "2 -0.327642 -0.139097 -0.055353 -0.059752  378.66      0  \n",
       "3  0.647376 -0.221929  0.062723  0.061458  123.50      0  \n",
       "4 -0.206010  0.502292  0.219422  0.215153   69.99      0  \n",
       "\n",
       "[5 rows x 31 columns]"
      ]
     },
     "execution_count": 4,
     "metadata": {},
     "output_type": "execute_result"
    }
   ],
   "source": [
    "df.head()"
   ]
  },
  {
   "cell_type": "code",
   "execution_count": 5,
   "metadata": {
    "_cell_guid": "24fc466d-83cd-4879-8d06-1d0816fbfbe1",
    "_uuid": "f2e49b6bbdda52f693585a950f15aedfe503cd66"
   },
   "outputs": [
    {
     "data": {
      "text/html": [
       "<div>\n",
       "<style scoped>\n",
       "    .dataframe tbody tr th:only-of-type {\n",
       "        vertical-align: middle;\n",
       "    }\n",
       "\n",
       "    .dataframe tbody tr th {\n",
       "        vertical-align: top;\n",
       "    }\n",
       "\n",
       "    .dataframe thead th {\n",
       "        text-align: right;\n",
       "    }\n",
       "</style>\n",
       "<table border=\"1\" class=\"dataframe\">\n",
       "  <thead>\n",
       "    <tr style=\"text-align: right;\">\n",
       "      <th></th>\n",
       "      <th>Time</th>\n",
       "      <th>V1</th>\n",
       "      <th>V2</th>\n",
       "      <th>V3</th>\n",
       "      <th>V4</th>\n",
       "      <th>V5</th>\n",
       "      <th>V6</th>\n",
       "      <th>V7</th>\n",
       "      <th>V8</th>\n",
       "      <th>V9</th>\n",
       "      <th>...</th>\n",
       "      <th>V21</th>\n",
       "      <th>V22</th>\n",
       "      <th>V23</th>\n",
       "      <th>V24</th>\n",
       "      <th>V25</th>\n",
       "      <th>V26</th>\n",
       "      <th>V27</th>\n",
       "      <th>V28</th>\n",
       "      <th>Amount</th>\n",
       "      <th>Class</th>\n",
       "    </tr>\n",
       "  </thead>\n",
       "  <tbody>\n",
       "    <tr>\n",
       "      <th>count</th>\n",
       "      <td>284807.000000</td>\n",
       "      <td>2.848070e+05</td>\n",
       "      <td>2.848070e+05</td>\n",
       "      <td>2.848070e+05</td>\n",
       "      <td>2.848070e+05</td>\n",
       "      <td>2.848070e+05</td>\n",
       "      <td>2.848070e+05</td>\n",
       "      <td>2.848070e+05</td>\n",
       "      <td>2.848070e+05</td>\n",
       "      <td>2.848070e+05</td>\n",
       "      <td>...</td>\n",
       "      <td>2.848070e+05</td>\n",
       "      <td>2.848070e+05</td>\n",
       "      <td>2.848070e+05</td>\n",
       "      <td>2.848070e+05</td>\n",
       "      <td>2.848070e+05</td>\n",
       "      <td>2.848070e+05</td>\n",
       "      <td>2.848070e+05</td>\n",
       "      <td>2.848070e+05</td>\n",
       "      <td>284807.000000</td>\n",
       "      <td>284807.000000</td>\n",
       "    </tr>\n",
       "    <tr>\n",
       "      <th>mean</th>\n",
       "      <td>94813.859575</td>\n",
       "      <td>1.165980e-15</td>\n",
       "      <td>3.416908e-16</td>\n",
       "      <td>-1.373150e-15</td>\n",
       "      <td>2.086869e-15</td>\n",
       "      <td>9.604066e-16</td>\n",
       "      <td>1.490107e-15</td>\n",
       "      <td>-5.556467e-16</td>\n",
       "      <td>1.177556e-16</td>\n",
       "      <td>-2.406455e-15</td>\n",
       "      <td>...</td>\n",
       "      <td>1.656562e-16</td>\n",
       "      <td>-3.444850e-16</td>\n",
       "      <td>2.578648e-16</td>\n",
       "      <td>4.471968e-15</td>\n",
       "      <td>5.340915e-16</td>\n",
       "      <td>1.687098e-15</td>\n",
       "      <td>-3.666453e-16</td>\n",
       "      <td>-1.220404e-16</td>\n",
       "      <td>88.349619</td>\n",
       "      <td>0.001727</td>\n",
       "    </tr>\n",
       "    <tr>\n",
       "      <th>std</th>\n",
       "      <td>47488.145955</td>\n",
       "      <td>1.958696e+00</td>\n",
       "      <td>1.651309e+00</td>\n",
       "      <td>1.516255e+00</td>\n",
       "      <td>1.415869e+00</td>\n",
       "      <td>1.380247e+00</td>\n",
       "      <td>1.332271e+00</td>\n",
       "      <td>1.237094e+00</td>\n",
       "      <td>1.194353e+00</td>\n",
       "      <td>1.098632e+00</td>\n",
       "      <td>...</td>\n",
       "      <td>7.345240e-01</td>\n",
       "      <td>7.257016e-01</td>\n",
       "      <td>6.244603e-01</td>\n",
       "      <td>6.056471e-01</td>\n",
       "      <td>5.212781e-01</td>\n",
       "      <td>4.822270e-01</td>\n",
       "      <td>4.036325e-01</td>\n",
       "      <td>3.300833e-01</td>\n",
       "      <td>250.120109</td>\n",
       "      <td>0.041527</td>\n",
       "    </tr>\n",
       "    <tr>\n",
       "      <th>min</th>\n",
       "      <td>0.000000</td>\n",
       "      <td>-5.640751e+01</td>\n",
       "      <td>-7.271573e+01</td>\n",
       "      <td>-4.832559e+01</td>\n",
       "      <td>-5.683171e+00</td>\n",
       "      <td>-1.137433e+02</td>\n",
       "      <td>-2.616051e+01</td>\n",
       "      <td>-4.355724e+01</td>\n",
       "      <td>-7.321672e+01</td>\n",
       "      <td>-1.343407e+01</td>\n",
       "      <td>...</td>\n",
       "      <td>-3.483038e+01</td>\n",
       "      <td>-1.093314e+01</td>\n",
       "      <td>-4.480774e+01</td>\n",
       "      <td>-2.836627e+00</td>\n",
       "      <td>-1.029540e+01</td>\n",
       "      <td>-2.604551e+00</td>\n",
       "      <td>-2.256568e+01</td>\n",
       "      <td>-1.543008e+01</td>\n",
       "      <td>0.000000</td>\n",
       "      <td>0.000000</td>\n",
       "    </tr>\n",
       "    <tr>\n",
       "      <th>25%</th>\n",
       "      <td>54201.500000</td>\n",
       "      <td>-9.203734e-01</td>\n",
       "      <td>-5.985499e-01</td>\n",
       "      <td>-8.903648e-01</td>\n",
       "      <td>-8.486401e-01</td>\n",
       "      <td>-6.915971e-01</td>\n",
       "      <td>-7.682956e-01</td>\n",
       "      <td>-5.540759e-01</td>\n",
       "      <td>-2.086297e-01</td>\n",
       "      <td>-6.430976e-01</td>\n",
       "      <td>...</td>\n",
       "      <td>-2.283949e-01</td>\n",
       "      <td>-5.423504e-01</td>\n",
       "      <td>-1.618463e-01</td>\n",
       "      <td>-3.545861e-01</td>\n",
       "      <td>-3.171451e-01</td>\n",
       "      <td>-3.269839e-01</td>\n",
       "      <td>-7.083953e-02</td>\n",
       "      <td>-5.295979e-02</td>\n",
       "      <td>5.600000</td>\n",
       "      <td>0.000000</td>\n",
       "    </tr>\n",
       "    <tr>\n",
       "      <th>50%</th>\n",
       "      <td>84692.000000</td>\n",
       "      <td>1.810880e-02</td>\n",
       "      <td>6.548556e-02</td>\n",
       "      <td>1.798463e-01</td>\n",
       "      <td>-1.984653e-02</td>\n",
       "      <td>-5.433583e-02</td>\n",
       "      <td>-2.741871e-01</td>\n",
       "      <td>4.010308e-02</td>\n",
       "      <td>2.235804e-02</td>\n",
       "      <td>-5.142873e-02</td>\n",
       "      <td>...</td>\n",
       "      <td>-2.945017e-02</td>\n",
       "      <td>6.781943e-03</td>\n",
       "      <td>-1.119293e-02</td>\n",
       "      <td>4.097606e-02</td>\n",
       "      <td>1.659350e-02</td>\n",
       "      <td>-5.213911e-02</td>\n",
       "      <td>1.342146e-03</td>\n",
       "      <td>1.124383e-02</td>\n",
       "      <td>22.000000</td>\n",
       "      <td>0.000000</td>\n",
       "    </tr>\n",
       "    <tr>\n",
       "      <th>75%</th>\n",
       "      <td>139320.500000</td>\n",
       "      <td>1.315642e+00</td>\n",
       "      <td>8.037239e-01</td>\n",
       "      <td>1.027196e+00</td>\n",
       "      <td>7.433413e-01</td>\n",
       "      <td>6.119264e-01</td>\n",
       "      <td>3.985649e-01</td>\n",
       "      <td>5.704361e-01</td>\n",
       "      <td>3.273459e-01</td>\n",
       "      <td>5.971390e-01</td>\n",
       "      <td>...</td>\n",
       "      <td>1.863772e-01</td>\n",
       "      <td>5.285536e-01</td>\n",
       "      <td>1.476421e-01</td>\n",
       "      <td>4.395266e-01</td>\n",
       "      <td>3.507156e-01</td>\n",
       "      <td>2.409522e-01</td>\n",
       "      <td>9.104512e-02</td>\n",
       "      <td>7.827995e-02</td>\n",
       "      <td>77.165000</td>\n",
       "      <td>0.000000</td>\n",
       "    </tr>\n",
       "    <tr>\n",
       "      <th>max</th>\n",
       "      <td>172792.000000</td>\n",
       "      <td>2.454930e+00</td>\n",
       "      <td>2.205773e+01</td>\n",
       "      <td>9.382558e+00</td>\n",
       "      <td>1.687534e+01</td>\n",
       "      <td>3.480167e+01</td>\n",
       "      <td>7.330163e+01</td>\n",
       "      <td>1.205895e+02</td>\n",
       "      <td>2.000721e+01</td>\n",
       "      <td>1.559499e+01</td>\n",
       "      <td>...</td>\n",
       "      <td>2.720284e+01</td>\n",
       "      <td>1.050309e+01</td>\n",
       "      <td>2.252841e+01</td>\n",
       "      <td>4.584549e+00</td>\n",
       "      <td>7.519589e+00</td>\n",
       "      <td>3.517346e+00</td>\n",
       "      <td>3.161220e+01</td>\n",
       "      <td>3.384781e+01</td>\n",
       "      <td>25691.160000</td>\n",
       "      <td>1.000000</td>\n",
       "    </tr>\n",
       "  </tbody>\n",
       "</table>\n",
       "<p>8 rows × 31 columns</p>\n",
       "</div>"
      ],
      "text/plain": [
       "                Time            V1            V2            V3            V4  \\\n",
       "count  284807.000000  2.848070e+05  2.848070e+05  2.848070e+05  2.848070e+05   \n",
       "mean    94813.859575  1.165980e-15  3.416908e-16 -1.373150e-15  2.086869e-15   \n",
       "std     47488.145955  1.958696e+00  1.651309e+00  1.516255e+00  1.415869e+00   \n",
       "min         0.000000 -5.640751e+01 -7.271573e+01 -4.832559e+01 -5.683171e+00   \n",
       "25%     54201.500000 -9.203734e-01 -5.985499e-01 -8.903648e-01 -8.486401e-01   \n",
       "50%     84692.000000  1.810880e-02  6.548556e-02  1.798463e-01 -1.984653e-02   \n",
       "75%    139320.500000  1.315642e+00  8.037239e-01  1.027196e+00  7.433413e-01   \n",
       "max    172792.000000  2.454930e+00  2.205773e+01  9.382558e+00  1.687534e+01   \n",
       "\n",
       "                 V5            V6            V7            V8            V9  \\\n",
       "count  2.848070e+05  2.848070e+05  2.848070e+05  2.848070e+05  2.848070e+05   \n",
       "mean   9.604066e-16  1.490107e-15 -5.556467e-16  1.177556e-16 -2.406455e-15   \n",
       "std    1.380247e+00  1.332271e+00  1.237094e+00  1.194353e+00  1.098632e+00   \n",
       "min   -1.137433e+02 -2.616051e+01 -4.355724e+01 -7.321672e+01 -1.343407e+01   \n",
       "25%   -6.915971e-01 -7.682956e-01 -5.540759e-01 -2.086297e-01 -6.430976e-01   \n",
       "50%   -5.433583e-02 -2.741871e-01  4.010308e-02  2.235804e-02 -5.142873e-02   \n",
       "75%    6.119264e-01  3.985649e-01  5.704361e-01  3.273459e-01  5.971390e-01   \n",
       "max    3.480167e+01  7.330163e+01  1.205895e+02  2.000721e+01  1.559499e+01   \n",
       "\n",
       "           ...                 V21           V22           V23           V24  \\\n",
       "count      ...        2.848070e+05  2.848070e+05  2.848070e+05  2.848070e+05   \n",
       "mean       ...        1.656562e-16 -3.444850e-16  2.578648e-16  4.471968e-15   \n",
       "std        ...        7.345240e-01  7.257016e-01  6.244603e-01  6.056471e-01   \n",
       "min        ...       -3.483038e+01 -1.093314e+01 -4.480774e+01 -2.836627e+00   \n",
       "25%        ...       -2.283949e-01 -5.423504e-01 -1.618463e-01 -3.545861e-01   \n",
       "50%        ...       -2.945017e-02  6.781943e-03 -1.119293e-02  4.097606e-02   \n",
       "75%        ...        1.863772e-01  5.285536e-01  1.476421e-01  4.395266e-01   \n",
       "max        ...        2.720284e+01  1.050309e+01  2.252841e+01  4.584549e+00   \n",
       "\n",
       "                V25           V26           V27           V28         Amount  \\\n",
       "count  2.848070e+05  2.848070e+05  2.848070e+05  2.848070e+05  284807.000000   \n",
       "mean   5.340915e-16  1.687098e-15 -3.666453e-16 -1.220404e-16      88.349619   \n",
       "std    5.212781e-01  4.822270e-01  4.036325e-01  3.300833e-01     250.120109   \n",
       "min   -1.029540e+01 -2.604551e+00 -2.256568e+01 -1.543008e+01       0.000000   \n",
       "25%   -3.171451e-01 -3.269839e-01 -7.083953e-02 -5.295979e-02       5.600000   \n",
       "50%    1.659350e-02 -5.213911e-02  1.342146e-03  1.124383e-02      22.000000   \n",
       "75%    3.507156e-01  2.409522e-01  9.104512e-02  7.827995e-02      77.165000   \n",
       "max    7.519589e+00  3.517346e+00  3.161220e+01  3.384781e+01   25691.160000   \n",
       "\n",
       "               Class  \n",
       "count  284807.000000  \n",
       "mean        0.001727  \n",
       "std         0.041527  \n",
       "min         0.000000  \n",
       "25%         0.000000  \n",
       "50%         0.000000  \n",
       "75%         0.000000  \n",
       "max         1.000000  \n",
       "\n",
       "[8 rows x 31 columns]"
      ]
     },
     "execution_count": 5,
     "metadata": {},
     "output_type": "execute_result"
    }
   ],
   "source": [
    "df.describe()"
   ]
  },
  {
   "cell_type": "code",
   "execution_count": 6,
   "metadata": {
    "_cell_guid": "05265544-4b26-4a73-bda6-7b771dfde5ef",
    "_uuid": "440ba6636b61f618dba1b33ece3d1cb68a271a5d"
   },
   "outputs": [
    {
     "data": {
      "text/plain": [
       "Time      0\n",
       "V1        0\n",
       "V2        0\n",
       "V3        0\n",
       "V4        0\n",
       "V5        0\n",
       "V6        0\n",
       "V7        0\n",
       "V8        0\n",
       "V9        0\n",
       "V10       0\n",
       "V11       0\n",
       "V12       0\n",
       "V13       0\n",
       "V14       0\n",
       "V15       0\n",
       "V16       0\n",
       "V17       0\n",
       "V18       0\n",
       "V19       0\n",
       "V20       0\n",
       "V21       0\n",
       "V22       0\n",
       "V23       0\n",
       "V24       0\n",
       "V25       0\n",
       "V26       0\n",
       "V27       0\n",
       "V28       0\n",
       "Amount    0\n",
       "Class     0\n",
       "dtype: int64"
      ]
     },
     "execution_count": 6,
     "metadata": {},
     "output_type": "execute_result"
    }
   ],
   "source": [
    "df.isnull().sum()"
   ]
  },
  {
   "cell_type": "markdown",
   "metadata": {},
   "source": [
    "어떠한 칼럼도 결측치가 없어, 결측치 처리(Imputing Columns) 작업이 필요 없으므로 일이 조금 수월해 졌습니다.\n",
    "\n",
    "### 타겟 \"Class\" 칼럼\n",
    "\n",
    "데이터에서 마지막 칼럼 \"Class\"는 해당 거래가 사기인지 (=1) 아닌지 (=0) 를 나타냅니다. 이 \"Class\" 칼럼을 살펴보도록 하겠습니다."
   ]
  },
  {
   "cell_type": "code",
   "execution_count": 7,
   "metadata": {
    "_cell_guid": "d18cfe2f-8ce3-4152-9d4d-d13a5aba98b5",
    "_uuid": "b46bef6e0c5bdd30d0925da9e4f4ab16abe1ba17"
   },
   "outputs": [
    {
     "data": {
      "text/html": [
       "<div>\n",
       "<style scoped>\n",
       "    .dataframe tbody tr th:only-of-type {\n",
       "        vertical-align: middle;\n",
       "    }\n",
       "\n",
       "    .dataframe tbody tr th {\n",
       "        vertical-align: top;\n",
       "    }\n",
       "\n",
       "    .dataframe thead th {\n",
       "        text-align: right;\n",
       "    }\n",
       "</style>\n",
       "<table border=\"1\" class=\"dataframe\">\n",
       "  <thead>\n",
       "    <tr style=\"text-align: right;\">\n",
       "      <th></th>\n",
       "      <th>Class</th>\n",
       "    </tr>\n",
       "  </thead>\n",
       "  <tbody>\n",
       "    <tr>\n",
       "      <th>0</th>\n",
       "      <td>284315</td>\n",
       "    </tr>\n",
       "    <tr>\n",
       "      <th>1</th>\n",
       "      <td>492</td>\n",
       "    </tr>\n",
       "  </tbody>\n",
       "</table>\n",
       "</div>"
      ],
      "text/plain": [
       "    Class\n",
       "0  284315\n",
       "1     492"
      ]
     },
     "execution_count": 7,
     "metadata": {},
     "output_type": "execute_result"
    }
   ],
   "source": [
    "count_classes = pd.DataFrame(pd.value_counts(df['Class'], sort = True).sort_index())\n",
    "count_classes"
   ]
  },
  {
   "cell_type": "markdown",
   "metadata": {},
   "source": [
    "사기 거래는 전체 거래의 492/(492+284315) = 0.1727% 밖에 안됩니다.\n",
    "\n",
    "\n",
    "### 사기 거래와 보통 거래 vs. time\n",
    "\n",
    "사기 그리고 일반 거래와 time 칼럼과 비교를 해보겠습니다."
   ]
  },
  {
   "cell_type": "code",
   "execution_count": 8,
   "metadata": {
    "_cell_guid": "12b5b06a-628f-47ce-98fb-00605730beaa",
    "_uuid": "c847730cc5b27c8d435ae64b1c7301e029720c79"
   },
   "outputs": [
    {
     "name": "stdout",
     "output_type": "stream",
     "text": [
      "Fraud\n",
      "count       492.000000\n",
      "mean      80746.806911\n",
      "std       47835.365138\n",
      "min         406.000000\n",
      "25%       41241.500000\n",
      "50%       75568.500000\n",
      "75%      128483.000000\n",
      "max      170348.000000\n",
      "Name: Time, dtype: float64\n",
      "\n",
      "Normal\n",
      "count    284315.000000\n",
      "mean      94838.202258\n",
      "std       47484.015786\n",
      "min           0.000000\n",
      "25%       54230.000000\n",
      "50%       84711.000000\n",
      "75%      139333.000000\n",
      "max      172792.000000\n",
      "Name: Time, dtype: float64\n"
     ]
    }
   ],
   "source": [
    "print (\"Fraud\")\n",
    "print (df.Time[df.Class == 1].describe())\n",
    "print ()\n",
    "print (\"Normal\")\n",
    "print (df.Time[df.Class == 0].describe())"
   ]
  },
  {
   "cell_type": "code",
   "execution_count": 9,
   "metadata": {
    "_cell_guid": "3f3d814d-ada7-46dc-9212-50980c26c4aa",
    "_uuid": "73fc67c42c92b5114db71961a41316bb891d4917",
    "scrolled": true
   },
   "outputs": [
    {
     "data": {
      "image/png": "[encoded data removed]",
      "text/plain": [
       "<Figure size 864x288 with 2 Axes>"
      ]
     },
     "metadata": {
      "needs_background": "light"
     },
     "output_type": "display_data"
    }
   ],
   "source": [
    "f, (ax1, ax2) = plt.subplots(2, 1, sharex=True, figsize=(12,4))\n",
    "\n",
    "bins = 50\n",
    "\n",
    "ax1.hist(df.Time[df.Class == 1], bins = bins)\n",
    "ax1.set_title('Fraud')\n",
    "\n",
    "ax2.hist(df.Time[df.Class == 0], bins = bins)\n",
    "ax2.set_title('Normal')\n",
    "\n",
    "plt.xlabel('Time (in Seconds)')\n",
    "plt.ylabel('Number of Transactions')\n",
    "plt.show()"
   ]
  },
  {
   "cell_type": "markdown",
   "metadata": {},
   "source": [
    "**보통 거래들이 순환적으로 분포되어 있는데에 반해, 사기 거래들은 더욱 고르게 분포되어 있습니다.** 보통 거래들은 새벽 시간(1시~5시)대에 훨씬 적은 거래량을 나타내고 있습니다. 이 정보는 한창 거래 될 때가 아닌 시간에 사기 거래가 훨씬 쉽게 감지 되는 것을 보여줍니다.\n",
    "\n",
    "\n",
    "### 사기 거래와 보통 거래 vs. amount\n",
    "#### 보통/사기 거래의 임계값(Threshold)\n",
    "\n",
    "이번엔 거래 금액과 보통/사기 거래 사이의 다른 점을 살펴보도록 하겠습니다."
   ]
  },
  {
   "cell_type": "code",
   "execution_count": 10,
   "metadata": {
    "_cell_guid": "60957c60-a4e4-432a-8f05-c7b8da45ea20",
    "_uuid": "763984c3387c17fe0266d3528bec6da18f7699d2"
   },
   "outputs": [
    {
     "name": "stdout",
     "output_type": "stream",
     "text": [
      "Fraud\n",
      "count     492.000000\n",
      "mean      122.211321\n",
      "std       256.683288\n",
      "min         0.000000\n",
      "25%         1.000000\n",
      "50%         9.250000\n",
      "75%       105.890000\n",
      "max      2125.870000\n",
      "Name: Amount, dtype: float64\n",
      "\n",
      "Normal\n",
      "count    284315.000000\n",
      "mean         88.291022\n",
      "std         250.105092\n",
      "min           0.000000\n",
      "25%           5.650000\n",
      "50%          22.000000\n",
      "75%          77.050000\n",
      "max       25691.160000\n",
      "Name: Amount, dtype: float64\n"
     ]
    }
   ],
   "source": [
    "print (\"Fraud\")\n",
    "print (df.Amount[df.Class == 1].describe())\n",
    "print ()\n",
    "print (\"Normal\")\n",
    "print (df.Amount[df.Class == 0].describe())"
   ]
  },
  {
   "cell_type": "code",
   "execution_count": 11,
   "metadata": {
    "_cell_guid": "d7b08ee9-d91a-48b4-a50f-efcbe3908204",
    "_uuid": "3b2da5d815af3bebe7fd44ff772cb7e80a731ed5"
   },
   "outputs": [
    {
     "data": {
      "image/png": "[encoded data removed]",
      "text/plain": [
       "<Figure size 864x288 with 2 Axes>"
      ]
     },
     "metadata": {
      "needs_background": "light"
     },
     "output_type": "display_data"
    }
   ],
   "source": [
    "f, (ax1, ax2) = plt.subplots(2, 1, sharex=True, figsize=(12,4))\n",
    "\n",
    "bins = 30\n",
    "\n",
    "ax1.hist(df.Amount[df.Class == 1], bins = bins)\n",
    "ax1.set_title('Fraud')\n",
    "\n",
    "ax2.hist(df.Amount[df.Class == 0], bins = bins)\n",
    "ax2.set_title('Normal')\n",
    "\n",
    "plt.xlabel('Amount ($)')\n",
    "plt.ylabel('Number of Transactions')\n",
    "plt.yscale('log')\n",
    "plt.show()"
   ]
  },
  {
   "cell_type": "markdown",
   "metadata": {},
   "source": [
    "대부분의 거래는 100보다 적은 금액이였습니다. **사기 거래는 최대값이 보통 거래의 최대값 보다 훨씬 적었습니다. ( 2,125.87 vs 25,691.16)**\n",
    "\n",
    "해당 거래 금액이 사기 거래 금의 최대값보다 더 큰지 확인하는 칼럼을 만들어 보겠습니다. 이 칼럼은 사기 거래의 임계치의 역할로 활용됩니다."
   ]
  },
  {
   "cell_type": "code",
   "execution_count": 12,
   "metadata": {
    "_cell_guid": "8cdd28b8-85b8-4995-b320-1e7540481184",
    "_uuid": "c40a05e151ddc7d17f3b5b8d5be1aa2023188ece"
   },
   "outputs": [
    {
     "data": {
      "text/html": [
       "<div>\n",
       "<style scoped>\n",
       "    .dataframe tbody tr th:only-of-type {\n",
       "        vertical-align: middle;\n",
       "    }\n",
       "\n",
       "    .dataframe tbody tr th {\n",
       "        vertical-align: top;\n",
       "    }\n",
       "\n",
       "    .dataframe thead th {\n",
       "        text-align: right;\n",
       "    }\n",
       "</style>\n",
       "<table border=\"1\" class=\"dataframe\">\n",
       "  <thead>\n",
       "    <tr style=\"text-align: right;\">\n",
       "      <th></th>\n",
       "      <th>Time</th>\n",
       "      <th>V1</th>\n",
       "      <th>V2</th>\n",
       "      <th>V3</th>\n",
       "      <th>V4</th>\n",
       "      <th>V5</th>\n",
       "      <th>V6</th>\n",
       "      <th>V7</th>\n",
       "      <th>V8</th>\n",
       "      <th>V9</th>\n",
       "      <th>...</th>\n",
       "      <th>V22</th>\n",
       "      <th>V23</th>\n",
       "      <th>V24</th>\n",
       "      <th>V25</th>\n",
       "      <th>V26</th>\n",
       "      <th>V27</th>\n",
       "      <th>V28</th>\n",
       "      <th>Amount</th>\n",
       "      <th>Class</th>\n",
       "      <th>Amount_max_fraud</th>\n",
       "    </tr>\n",
       "  </thead>\n",
       "  <tbody>\n",
       "    <tr>\n",
       "      <th>0</th>\n",
       "      <td>0.0</td>\n",
       "      <td>-1.359807</td>\n",
       "      <td>-0.072781</td>\n",
       "      <td>2.536347</td>\n",
       "      <td>1.378155</td>\n",
       "      <td>-0.338321</td>\n",
       "      <td>0.462388</td>\n",
       "      <td>0.239599</td>\n",
       "      <td>0.098698</td>\n",
       "      <td>0.363787</td>\n",
       "      <td>...</td>\n",
       "      <td>0.277838</td>\n",
       "      <td>-0.110474</td>\n",
       "      <td>0.066928</td>\n",
       "      <td>0.128539</td>\n",
       "      <td>-0.189115</td>\n",
       "      <td>0.133558</td>\n",
       "      <td>-0.021053</td>\n",
       "      <td>149.62</td>\n",
       "      <td>0</td>\n",
       "      <td>0</td>\n",
       "    </tr>\n",
       "    <tr>\n",
       "      <th>1</th>\n",
       "      <td>0.0</td>\n",
       "      <td>1.191857</td>\n",
       "      <td>0.266151</td>\n",
       "      <td>0.166480</td>\n",
       "      <td>0.448154</td>\n",
       "      <td>0.060018</td>\n",
       "      <td>-0.082361</td>\n",
       "      <td>-0.078803</td>\n",
       "      <td>0.085102</td>\n",
       "      <td>-0.255425</td>\n",
       "      <td>...</td>\n",
       "      <td>-0.638672</td>\n",
       "      <td>0.101288</td>\n",
       "      <td>-0.339846</td>\n",
       "      <td>0.167170</td>\n",
       "      <td>0.125895</td>\n",
       "      <td>-0.008983</td>\n",
       "      <td>0.014724</td>\n",
       "      <td>2.69</td>\n",
       "      <td>0</td>\n",
       "      <td>0</td>\n",
       "    </tr>\n",
       "    <tr>\n",
       "      <th>2</th>\n",
       "      <td>1.0</td>\n",
       "      <td>-1.358354</td>\n",
       "      <td>-1.340163</td>\n",
       "      <td>1.773209</td>\n",
       "      <td>0.379780</td>\n",
       "      <td>-0.503198</td>\n",
       "      <td>1.800499</td>\n",
       "      <td>0.791461</td>\n",
       "      <td>0.247676</td>\n",
       "      <td>-1.514654</td>\n",
       "      <td>...</td>\n",
       "      <td>0.771679</td>\n",
       "      <td>0.909412</td>\n",
       "      <td>-0.689281</td>\n",
       "      <td>-0.327642</td>\n",
       "      <td>-0.139097</td>\n",
       "      <td>-0.055353</td>\n",
       "      <td>-0.059752</td>\n",
       "      <td>378.66</td>\n",
       "      <td>0</td>\n",
       "      <td>0</td>\n",
       "    </tr>\n",
       "    <tr>\n",
       "      <th>3</th>\n",
       "      <td>1.0</td>\n",
       "      <td>-0.966272</td>\n",
       "      <td>-0.185226</td>\n",
       "      <td>1.792993</td>\n",
       "      <td>-0.863291</td>\n",
       "      <td>-0.010309</td>\n",
       "      <td>1.247203</td>\n",
       "      <td>0.237609</td>\n",
       "      <td>0.377436</td>\n",
       "      <td>-1.387024</td>\n",
       "      <td>...</td>\n",
       "      <td>0.005274</td>\n",
       "      <td>-0.190321</td>\n",
       "      <td>-1.175575</td>\n",
       "      <td>0.647376</td>\n",
       "      <td>-0.221929</td>\n",
       "      <td>0.062723</td>\n",
       "      <td>0.061458</td>\n",
       "      <td>123.50</td>\n",
       "      <td>0</td>\n",
       "      <td>0</td>\n",
       "    </tr>\n",
       "    <tr>\n",
       "      <th>4</th>\n",
       "      <td>2.0</td>\n",
       "      <td>-1.158233</td>\n",
       "      <td>0.877737</td>\n",
       "      <td>1.548718</td>\n",
       "      <td>0.403034</td>\n",
       "      <td>-0.407193</td>\n",
       "      <td>0.095921</td>\n",
       "      <td>0.592941</td>\n",
       "      <td>-0.270533</td>\n",
       "      <td>0.817739</td>\n",
       "      <td>...</td>\n",
       "      <td>0.798278</td>\n",
       "      <td>-0.137458</td>\n",
       "      <td>0.141267</td>\n",
       "      <td>-0.206010</td>\n",
       "      <td>0.502292</td>\n",
       "      <td>0.219422</td>\n",
       "      <td>0.215153</td>\n",
       "      <td>69.99</td>\n",
       "      <td>0</td>\n",
       "      <td>0</td>\n",
       "    </tr>\n",
       "  </tbody>\n",
       "</table>\n",
       "<p>5 rows × 32 columns</p>\n",
       "</div>"
      ],
      "text/plain": [
       "   Time        V1        V2        V3        V4        V5        V6        V7  \\\n",
       "0   0.0 -1.359807 -0.072781  2.536347  1.378155 -0.338321  0.462388  0.239599   \n",
       "1   0.0  1.191857  0.266151  0.166480  0.448154  0.060018 -0.082361 -0.078803   \n",
       "2   1.0 -1.358354 -1.340163  1.773209  0.379780 -0.503198  1.800499  0.791461   \n",
       "3   1.0 -0.966272 -0.185226  1.792993 -0.863291 -0.010309  1.247203  0.237609   \n",
       "4   2.0 -1.158233  0.877737  1.548718  0.403034 -0.407193  0.095921  0.592941   \n",
       "\n",
       "         V8        V9        ...              V22       V23       V24  \\\n",
       "0  0.098698  0.363787        ...         0.277838 -0.110474  0.066928   \n",
       "1  0.085102 -0.255425        ...        -0.638672  0.101288 -0.339846   \n",
       "2  0.247676 -1.514654        ...         0.771679  0.909412 -0.689281   \n",
       "3  0.377436 -1.387024        ...         0.005274 -0.190321 -1.175575   \n",
       "4 -0.270533  0.817739        ...         0.798278 -0.137458  0.141267   \n",
       "\n",
       "        V25       V26       V27       V28  Amount  Class  Amount_max_fraud  \n",
       "0  0.128539 -0.189115  0.133558 -0.021053  149.62      0                 0  \n",
       "1  0.167170  0.125895 -0.008983  0.014724    2.69      0                 0  \n",
       "2 -0.327642 -0.139097 -0.055353 -0.059752  378.66      0                 0  \n",
       "3  0.647376 -0.221929  0.062723  0.061458  123.50      0                 0  \n",
       "4 -0.206010  0.502292  0.219422  0.215153   69.99      0                 0  \n",
       "\n",
       "[5 rows x 32 columns]"
      ]
     },
     "execution_count": 12,
     "metadata": {},
     "output_type": "execute_result"
    }
   ],
   "source": [
    "df['Amount_max_fraud'] = 1\n",
    "df.loc[df.Amount <= 2125.87, 'Amount_max_fraud'] = 0\n",
    "df.head()"
   ]
  },
  {
   "cell_type": "markdown",
   "metadata": {},
   "source": [
    "### Amount vs. time\n",
    "\n",
    "이번엔, Time과 Amount를 비교해 새로운 것을 발견할 수 있는지 확인해 보겠습니다."
   ]
  },
  {
   "cell_type": "code",
   "execution_count": 13,
   "metadata": {
    "_cell_guid": "9199eee3-ec1a-4928-bd89-979b05a41c51",
    "_uuid": "fcba2978e404c225eaac0de7329ba229b5a86342"
   },
   "outputs": [
    {
     "data": {
      "image/png": "[encoded data removed]",
      "text/plain": [
       "<Figure size 864x432 with 2 Axes>"
      ]
     },
     "metadata": {
      "needs_background": "light"
     },
     "output_type": "display_data"
    }
   ],
   "source": [
    "f, (ax1, ax2) = plt.subplots(2, 1, sharex=True, figsize=(12,6))\n",
    "\n",
    "ax1.scatter(df.Time[df.Class == 1], df.Amount[df.Class == 1])\n",
    "ax1.set_title('Fraud')\n",
    "\n",
    "ax2.scatter(df.Time[df.Class == 0], df.Amount[df.Class == 0])\n",
    "ax2.set_title('Normal')\n",
    "\n",
    "plt.xlabel('Time (in Seconds)')\n",
    "plt.ylabel('Amount')\n",
    "plt.show()"
   ]
  },
  {
   "cell_type": "markdown",
   "metadata": {},
   "source": [
    "사기 거래이든, 보통 거래이든 amount와 time간의 뚜렷한 경향을 찾아볼 수 없습니다.\n",
    "\n",
    "### 이름없는 Features (V1~V28)\n",
    "\n",
    "다음으로, 이름없는 Features를 살펴보겠습니다."
   ]
  },
  {
   "cell_type": "code",
   "execution_count": 14,
   "metadata": {
    "_cell_guid": "12d5d40d-3b59-4125-91e2-aebd23887e0c",
    "_uuid": "e7e926df5df4a997648b24235a1505cd3f698fcf"
   },
   "outputs": [],
   "source": [
    "#Select only the anonymized features.\n",
    "v_features = df.iloc[:,1:29].columns"
   ]
  },
  {
   "cell_type": "code",
   "execution_count": 15,
   "metadata": {
    "_cell_guid": "24cf2a80-78ba-452c-aa9b-8fd1a76b0b4c",
    "_uuid": "760bae0b9f115df97241a5779a6f2e84bc00a08f",
    "scrolled": false
   },
   "outputs": [
    {
     "data": {
      "image/png": "[encoded data removed]",
      "text/plain": [
       "<Figure size 864x8064 with 28 Axes>"
      ]
     },
     "metadata": {
      "needs_background": "light"
     },
     "output_type": "display_data"
    }
   ],
   "source": [
    "import warnings\n",
    "warnings.filterwarnings('ignore')\n",
    "\n",
    "plt.figure(figsize=(12,28*4))\n",
    "gs = gridspec.GridSpec(28, 1)\n",
    "for i, cn in enumerate(df[v_features]):\n",
    "    ax = plt.subplot(gs[i])\n",
    "    sns.distplot(df[cn][df.Class == 1], bins=50)\n",
    "    sns.distplot(df[cn][df.Class == 0], bins=50)\n",
    "    ax.set_xlabel('')\n",
    "    plt.legend(df[\"Class\"])\n",
    "    ax.set_title('histogram of feature: ' + str(cn))\n",
    "    \n",
    "plt.show()"
   ]
  },
  {
   "cell_type": "markdown",
   "metadata": {},
   "source": [
    "보통(오랜지색) 거래와 사기(파란색) 거래는 각 다른 이름없는 Feature에 대해서 다른 분포를 보입니다. 하지만 어느하나 완전히 분리된 분포를 가진 Feature는 없습니다.\n",
    "\n",
    "그래서 더 일반적으로 신경망 모델의 정확도에 도움되는 Feature는 없다고 결정짓고, 어떠한 Feature도 제외하지 않기로 결정하였습니다.\n",
    "\n",
    "\n",
    "### 신경망을 위한 데이터셋 준비\n",
    "\n",
    "처음엔 \"Normal\"칼럼을 \"Class\" 칼럼으로부터 뒤집힌 값이 들어가도록 만듭니다. 이렇게 해서 **하나의 클래스 결과(\"Class\")를 두개(\"Class\", \"Normal\")로 분리 하였습니다.**"
   ]
  },
  {
   "cell_type": "code",
   "execution_count": 16,
   "metadata": {
    "_cell_guid": "0dec79b2-4ec5-46a0-8143-1d5863df0dd7",
    "_uuid": "731020f2f6e2ae4d31b85ccfc04c4f63ce4915ad"
   },
   "outputs": [],
   "source": [
    "#Create a new feature for normal (non-fraudulent) transactions.\n",
    "df.loc[df.Class == 0, 'Normal'] = 1\n",
    "df.loc[df.Class == 1, 'Normal'] = 0"
   ]
  },
  {
   "cell_type": "markdown",
   "metadata": {
    "_cell_guid": "cd7bb2c1-77c4-487e-8b50-05d9d533da5e",
    "_uuid": "ee074ca2594a467d1a40e650180c91465c58c673"
   },
   "source": [
    "그리고 기억하기 쉽도록, **\"Class\"를 \"Fraud\"로 칼럼 이름을 변경합니다**."
   ]
  },
  {
   "cell_type": "code",
   "execution_count": 17,
   "metadata": {
    "_cell_guid": "4bdcef2e-df1b-4cd5-8cee-a412a0f28256",
    "_uuid": "bf58d74592307afc3af5f9fb8462902deef3450b"
   },
   "outputs": [],
   "source": [
    "df = df.rename(columns={'Class': 'Fraud'})"
   ]
  },
  {
   "cell_type": "code",
   "execution_count": 18,
   "metadata": {
    "_cell_guid": "a82b8db0-fbfe-4261-b422-e95e058b5bfe",
    "_uuid": "d0226f19abfc030162c5d079033de0ce2f5a64de"
   },
   "outputs": [
    {
     "name": "stdout",
     "output_type": "stream",
     "text": [
      "1.0    284315\n",
      "0.0       492\n",
      "Name: Normal, dtype: int64\n",
      "\n",
      "0    284315\n",
      "1       492\n",
      "Name: Fraud, dtype: int64\n"
     ]
    }
   ],
   "source": [
    "print(df.Normal.value_counts())\n",
    "print()\n",
    "print(df.Fraud.value_counts())"
   ]
  },
  {
   "cell_type": "markdown",
   "metadata": {
    "_cell_guid": "36690897-9f45-45bd-8147-1f309f59f3c7",
    "_uuid": "7324bbdda6b6b8c3fbac639a8895e8e492423d56"
   },
   "source": [
    "더 많은 데이터를 보기 위해 pandas의 [max column](https://pandas.pydata.org/pandas-docs/stable/generated/pandas.set_option.html) 을 새로 지정합니다."
   ]
  },
  {
   "cell_type": "code",
   "execution_count": 19,
   "metadata": {
    "_cell_guid": "b1218f02-11d5-46e4-8df0-2f3ee4074f39",
    "_uuid": "3b37738dbc7f67be086a825963beafab5f185b90"
   },
   "outputs": [
    {
     "data": {
      "text/html": [
       "<div>\n",
       "<style scoped>\n",
       "    .dataframe tbody tr th:only-of-type {\n",
       "        vertical-align: middle;\n",
       "    }\n",
       "\n",
       "    .dataframe tbody tr th {\n",
       "        vertical-align: top;\n",
       "    }\n",
       "\n",
       "    .dataframe thead th {\n",
       "        text-align: right;\n",
       "    }\n",
       "</style>\n",
       "<table border=\"1\" class=\"dataframe\">\n",
       "  <thead>\n",
       "    <tr style=\"text-align: right;\">\n",
       "      <th></th>\n",
       "      <th>Time</th>\n",
       "      <th>V1</th>\n",
       "      <th>V2</th>\n",
       "      <th>V3</th>\n",
       "      <th>V4</th>\n",
       "      <th>V5</th>\n",
       "      <th>V6</th>\n",
       "      <th>V7</th>\n",
       "      <th>V8</th>\n",
       "      <th>V9</th>\n",
       "      <th>V10</th>\n",
       "      <th>V11</th>\n",
       "      <th>V12</th>\n",
       "      <th>V13</th>\n",
       "      <th>V14</th>\n",
       "      <th>V15</th>\n",
       "      <th>V16</th>\n",
       "      <th>V17</th>\n",
       "      <th>V18</th>\n",
       "      <th>V19</th>\n",
       "      <th>V20</th>\n",
       "      <th>V21</th>\n",
       "      <th>V22</th>\n",
       "      <th>V23</th>\n",
       "      <th>V24</th>\n",
       "      <th>V25</th>\n",
       "      <th>V26</th>\n",
       "      <th>V27</th>\n",
       "      <th>V28</th>\n",
       "      <th>Amount</th>\n",
       "      <th>Fraud</th>\n",
       "      <th>Amount_max_fraud</th>\n",
       "      <th>Normal</th>\n",
       "    </tr>\n",
       "  </thead>\n",
       "  <tbody>\n",
       "    <tr>\n",
       "      <th>0</th>\n",
       "      <td>0.0</td>\n",
       "      <td>-1.359807</td>\n",
       "      <td>-0.072781</td>\n",
       "      <td>2.536347</td>\n",
       "      <td>1.378155</td>\n",
       "      <td>-0.338321</td>\n",
       "      <td>0.462388</td>\n",
       "      <td>0.239599</td>\n",
       "      <td>0.098698</td>\n",
       "      <td>0.363787</td>\n",
       "      <td>0.090794</td>\n",
       "      <td>-0.551600</td>\n",
       "      <td>-0.617801</td>\n",
       "      <td>-0.991390</td>\n",
       "      <td>-0.311169</td>\n",
       "      <td>1.468177</td>\n",
       "      <td>-0.470401</td>\n",
       "      <td>0.207971</td>\n",
       "      <td>0.025791</td>\n",
       "      <td>0.403993</td>\n",
       "      <td>0.251412</td>\n",
       "      <td>-0.018307</td>\n",
       "      <td>0.277838</td>\n",
       "      <td>-0.110474</td>\n",
       "      <td>0.066928</td>\n",
       "      <td>0.128539</td>\n",
       "      <td>-0.189115</td>\n",
       "      <td>0.133558</td>\n",
       "      <td>-0.021053</td>\n",
       "      <td>149.62</td>\n",
       "      <td>0</td>\n",
       "      <td>0</td>\n",
       "      <td>1.0</td>\n",
       "    </tr>\n",
       "    <tr>\n",
       "      <th>1</th>\n",
       "      <td>0.0</td>\n",
       "      <td>1.191857</td>\n",
       "      <td>0.266151</td>\n",
       "      <td>0.166480</td>\n",
       "      <td>0.448154</td>\n",
       "      <td>0.060018</td>\n",
       "      <td>-0.082361</td>\n",
       "      <td>-0.078803</td>\n",
       "      <td>0.085102</td>\n",
       "      <td>-0.255425</td>\n",
       "      <td>-0.166974</td>\n",
       "      <td>1.612727</td>\n",
       "      <td>1.065235</td>\n",
       "      <td>0.489095</td>\n",
       "      <td>-0.143772</td>\n",
       "      <td>0.635558</td>\n",
       "      <td>0.463917</td>\n",
       "      <td>-0.114805</td>\n",
       "      <td>-0.183361</td>\n",
       "      <td>-0.145783</td>\n",
       "      <td>-0.069083</td>\n",
       "      <td>-0.225775</td>\n",
       "      <td>-0.638672</td>\n",
       "      <td>0.101288</td>\n",
       "      <td>-0.339846</td>\n",
       "      <td>0.167170</td>\n",
       "      <td>0.125895</td>\n",
       "      <td>-0.008983</td>\n",
       "      <td>0.014724</td>\n",
       "      <td>2.69</td>\n",
       "      <td>0</td>\n",
       "      <td>0</td>\n",
       "      <td>1.0</td>\n",
       "    </tr>\n",
       "    <tr>\n",
       "      <th>2</th>\n",
       "      <td>1.0</td>\n",
       "      <td>-1.358354</td>\n",
       "      <td>-1.340163</td>\n",
       "      <td>1.773209</td>\n",
       "      <td>0.379780</td>\n",
       "      <td>-0.503198</td>\n",
       "      <td>1.800499</td>\n",
       "      <td>0.791461</td>\n",
       "      <td>0.247676</td>\n",
       "      <td>-1.514654</td>\n",
       "      <td>0.207643</td>\n",
       "      <td>0.624501</td>\n",
       "      <td>0.066084</td>\n",
       "      <td>0.717293</td>\n",
       "      <td>-0.165946</td>\n",
       "      <td>2.345865</td>\n",
       "      <td>-2.890083</td>\n",
       "      <td>1.109969</td>\n",
       "      <td>-0.121359</td>\n",
       "      <td>-2.261857</td>\n",
       "      <td>0.524980</td>\n",
       "      <td>0.247998</td>\n",
       "      <td>0.771679</td>\n",
       "      <td>0.909412</td>\n",
       "      <td>-0.689281</td>\n",
       "      <td>-0.327642</td>\n",
       "      <td>-0.139097</td>\n",
       "      <td>-0.055353</td>\n",
       "      <td>-0.059752</td>\n",
       "      <td>378.66</td>\n",
       "      <td>0</td>\n",
       "      <td>0</td>\n",
       "      <td>1.0</td>\n",
       "    </tr>\n",
       "    <tr>\n",
       "      <th>3</th>\n",
       "      <td>1.0</td>\n",
       "      <td>-0.966272</td>\n",
       "      <td>-0.185226</td>\n",
       "      <td>1.792993</td>\n",
       "      <td>-0.863291</td>\n",
       "      <td>-0.010309</td>\n",
       "      <td>1.247203</td>\n",
       "      <td>0.237609</td>\n",
       "      <td>0.377436</td>\n",
       "      <td>-1.387024</td>\n",
       "      <td>-0.054952</td>\n",
       "      <td>-0.226487</td>\n",
       "      <td>0.178228</td>\n",
       "      <td>0.507757</td>\n",
       "      <td>-0.287924</td>\n",
       "      <td>-0.631418</td>\n",
       "      <td>-1.059647</td>\n",
       "      <td>-0.684093</td>\n",
       "      <td>1.965775</td>\n",
       "      <td>-1.232622</td>\n",
       "      <td>-0.208038</td>\n",
       "      <td>-0.108300</td>\n",
       "      <td>0.005274</td>\n",
       "      <td>-0.190321</td>\n",
       "      <td>-1.175575</td>\n",
       "      <td>0.647376</td>\n",
       "      <td>-0.221929</td>\n",
       "      <td>0.062723</td>\n",
       "      <td>0.061458</td>\n",
       "      <td>123.50</td>\n",
       "      <td>0</td>\n",
       "      <td>0</td>\n",
       "      <td>1.0</td>\n",
       "    </tr>\n",
       "    <tr>\n",
       "      <th>4</th>\n",
       "      <td>2.0</td>\n",
       "      <td>-1.158233</td>\n",
       "      <td>0.877737</td>\n",
       "      <td>1.548718</td>\n",
       "      <td>0.403034</td>\n",
       "      <td>-0.407193</td>\n",
       "      <td>0.095921</td>\n",
       "      <td>0.592941</td>\n",
       "      <td>-0.270533</td>\n",
       "      <td>0.817739</td>\n",
       "      <td>0.753074</td>\n",
       "      <td>-0.822843</td>\n",
       "      <td>0.538196</td>\n",
       "      <td>1.345852</td>\n",
       "      <td>-1.119670</td>\n",
       "      <td>0.175121</td>\n",
       "      <td>-0.451449</td>\n",
       "      <td>-0.237033</td>\n",
       "      <td>-0.038195</td>\n",
       "      <td>0.803487</td>\n",
       "      <td>0.408542</td>\n",
       "      <td>-0.009431</td>\n",
       "      <td>0.798278</td>\n",
       "      <td>-0.137458</td>\n",
       "      <td>0.141267</td>\n",
       "      <td>-0.206010</td>\n",
       "      <td>0.502292</td>\n",
       "      <td>0.219422</td>\n",
       "      <td>0.215153</td>\n",
       "      <td>69.99</td>\n",
       "      <td>0</td>\n",
       "      <td>0</td>\n",
       "      <td>1.0</td>\n",
       "    </tr>\n",
       "  </tbody>\n",
       "</table>\n",
       "</div>"
      ],
      "text/plain": [
       "   Time        V1        V2        V3        V4        V5        V6        V7  \\\n",
       "0   0.0 -1.359807 -0.072781  2.536347  1.378155 -0.338321  0.462388  0.239599   \n",
       "1   0.0  1.191857  0.266151  0.166480  0.448154  0.060018 -0.082361 -0.078803   \n",
       "2   1.0 -1.358354 -1.340163  1.773209  0.379780 -0.503198  1.800499  0.791461   \n",
       "3   1.0 -0.966272 -0.185226  1.792993 -0.863291 -0.010309  1.247203  0.237609   \n",
       "4   2.0 -1.158233  0.877737  1.548718  0.403034 -0.407193  0.095921  0.592941   \n",
       "\n",
       "         V8        V9       V10       V11       V12       V13       V14  \\\n",
       "0  0.098698  0.363787  0.090794 -0.551600 -0.617801 -0.991390 -0.311169   \n",
       "1  0.085102 -0.255425 -0.166974  1.612727  1.065235  0.489095 -0.143772   \n",
       "2  0.247676 -1.514654  0.207643  0.624501  0.066084  0.717293 -0.165946   \n",
       "3  0.377436 -1.387024 -0.054952 -0.226487  0.178228  0.507757 -0.287924   \n",
       "4 -0.270533  0.817739  0.753074 -0.822843  0.538196  1.345852 -1.119670   \n",
       "\n",
       "        V15       V16       V17       V18       V19       V20       V21  \\\n",
       "0  1.468177 -0.470401  0.207971  0.025791  0.403993  0.251412 -0.018307   \n",
       "1  0.635558  0.463917 -0.114805 -0.183361 -0.145783 -0.069083 -0.225775   \n",
       "2  2.345865 -2.890083  1.109969 -0.121359 -2.261857  0.524980  0.247998   \n",
       "3 -0.631418 -1.059647 -0.684093  1.965775 -1.232622 -0.208038 -0.108300   \n",
       "4  0.175121 -0.451449 -0.237033 -0.038195  0.803487  0.408542 -0.009431   \n",
       "\n",
       "        V22       V23       V24       V25       V26       V27       V28  \\\n",
       "0  0.277838 -0.110474  0.066928  0.128539 -0.189115  0.133558 -0.021053   \n",
       "1 -0.638672  0.101288 -0.339846  0.167170  0.125895 -0.008983  0.014724   \n",
       "2  0.771679  0.909412 -0.689281 -0.327642 -0.139097 -0.055353 -0.059752   \n",
       "3  0.005274 -0.190321 -1.175575  0.647376 -0.221929  0.062723  0.061458   \n",
       "4  0.798278 -0.137458  0.141267 -0.206010  0.502292  0.219422  0.215153   \n",
       "\n",
       "   Amount  Fraud  Amount_max_fraud  Normal  \n",
       "0  149.62      0                 0     1.0  \n",
       "1    2.69      0                 0     1.0  \n",
       "2  378.66      0                 0     1.0  \n",
       "3  123.50      0                 0     1.0  \n",
       "4   69.99      0                 0     1.0  "
      ]
     },
     "execution_count": 19,
     "metadata": {},
     "output_type": "execute_result"
    }
   ],
   "source": [
    "pd.set_option(\"display.max_columns\",101)\n",
    "df.head()"
   ]
  },
  {
   "cell_type": "markdown",
   "metadata": {},
   "source": [
    "#### 데이터 셋에서 Training 셋과 Test tpt 분리:\n",
    "\n",
    "사기 거래와 보통 거래만 각각 있는 데이터 프레임 두개를 생성합니다."
   ]
  },
  {
   "cell_type": "code",
   "execution_count": 20,
   "metadata": {
    "_cell_guid": "dc3439f2-f413-4a34-8739-5a7117841291",
    "_uuid": "8a9deb44f4e3e719c3e2cee9c6d86b8897ec14bb"
   },
   "outputs": [],
   "source": [
    "Fraud = df[df.Fraud == 1]\n",
    "Normal = df[df.Normal == 1]"
   ]
  },
  {
   "cell_type": "markdown",
   "metadata": {},
   "source": [
    "사기 데이터 80%와 보통 데이터 80%만 Train 셋으로 사용하도록 Concat 합니다. 나머지 각 데이터 프레임의 20%를 Test 셋으로 만듭니다.\n",
    "\n",
    "일단 X_train에 80%의 사기 데이터를 지정합니다."
   ]
  },
  {
   "cell_type": "code",
   "execution_count": 21,
   "metadata": {
    "_cell_guid": "e689ca7a-3d9c-407f-9097-d69032a8ae05",
    "_uuid": "3415505256cf5f7de16d122338deead06e397284"
   },
   "outputs": [],
   "source": [
    "X_train = Fraud.sample(frac=0.8)\n",
    "count_Frauds = len(X_train)"
   ]
  },
  {
   "cell_type": "markdown",
   "metadata": {},
   "source": [
    "그리고 보통 거래 데이터의 80%를 X_train에 추가합니다"
   ]
  },
  {
   "cell_type": "code",
   "execution_count": 22,
   "metadata": {
    "_cell_guid": "36678aa1-f708-4b23-9c96-501360b516f7",
    "_uuid": "6c9a13a5194345124c85094be9cb8513b4e6de38"
   },
   "outputs": [],
   "source": [
    "X_train = pd.concat([X_train, Normal.sample(frac = 0.8)], axis = 0)"
   ]
  },
  {
   "cell_type": "markdown",
   "metadata": {},
   "source": [
    "X_train에 들어있지 않은 나머지 거래 데이터들을 X_test에 넣습니다. 그러면 X_test는 보통/사기 데이터의 나머지 20%의 데이터를 가지게 됩니다."
   ]
  },
  {
   "cell_type": "code",
   "execution_count": 23,
   "metadata": {
    "_cell_guid": "93e91d1c-6a0c-4c08-9956-f89d9d23808e",
    "_uuid": "97c7e3be6512a087c939200fcf1cc1de83847590"
   },
   "outputs": [],
   "source": [
    "X_test = df.loc[~df.index.isin(X_train.index)]"
   ]
  },
  {
   "cell_type": "markdown",
   "metadata": {},
   "source": [
    "연습 겸, 각 만들어진 두 데이터 프레임(X_train, X_test)를 무작위 순서로 섞습니다."
   ]
  },
  {
   "cell_type": "code",
   "execution_count": 24,
   "metadata": {
    "_cell_guid": "10624941-f8b8-45b8-9e34-43626da3164c",
    "_uuid": "b1c50dafe03fe0c0a0482d8b0feff37c0dffddd6"
   },
   "outputs": [],
   "source": [
    "X_train = shuffle(X_train)\n",
    "X_test = shuffle(X_test)"
   ]
  },
  {
   "cell_type": "markdown",
   "metadata": {},
   "source": [
    "두 데이터 프레임의 \"Fraud\"칼럼을 값을 기준으로 각각 카운트하여 보겠습니다."
   ]
  },
  {
   "cell_type": "code",
   "execution_count": 25,
   "metadata": {
    "_cell_guid": "f7ef7483-ddad-47a3-9a6d-8a5f31eca4b3",
    "_uuid": "9edf3188be449f28bf7ef913e736066ea46e97a6"
   },
   "outputs": [
    {
     "name": "stdout",
     "output_type": "stream",
     "text": [
      "Count of normal and fraud on training data: \n",
      " 0    227452\n",
      "1       394\n",
      "Name: Fraud, dtype: int64\n",
      "Count of normal and fraud on testing data: \n",
      " 0    56863\n",
      "1       98\n",
      "Name: Fraud, dtype: int64\n"
     ]
    }
   ],
   "source": [
    "count_X_train = pd.value_counts(X_train['Fraud'], sort = True).sort_index()\n",
    "count_X_test = pd.value_counts(X_test['Fraud'], sort = True).sort_index()\n",
    "\n",
    "print ('Count of normal and fraud on training data: \\n', count_X_train)\n",
    "print ('Count of normal and fraud on testing data: \\n', count_X_test)"
   ]
  },
  {
   "cell_type": "markdown",
   "metadata": {},
   "source": [
    "두 프레임 모두 예상한대로 0과 1의 비율이 똑같이 0.172% 로 나왔습니다.\n",
    "\n",
    "이제 타겟 Features(\"Fraud\", \"Normal\")를 y_train, y_test에 넣어 줍니다."
   ]
  },
  {
   "cell_type": "code",
   "execution_count": 26,
   "metadata": {
    "_cell_guid": "34d61841-0158-4ab9-80b3-a15046ed13fe",
    "_uuid": "b67fcf530489d6c018a3765153aad8b22cc5d234"
   },
   "outputs": [],
   "source": [
    "y_train = X_train.Fraud\n",
    "y_train = pd.concat([y_train, X_train.Normal], axis=1)\n",
    "\n",
    "y_test = X_test.Fraud\n",
    "y_test = pd.concat([y_test, X_test.Normal], axis=1)"
   ]
  },
  {
   "cell_type": "markdown",
   "metadata": {},
   "source": [
    "타겟 Features를 따로 빼두었으니, 기존 X_train과 X_test에 타겟 Features를 지웁니다."
   ]
  },
  {
   "cell_type": "code",
   "execution_count": 27,
   "metadata": {
    "_cell_guid": "a3b431a9-b85f-4b0b-b822-870328523a26",
    "_uuid": "1593dc3cabc20c66ecad2447fdde880391a46804"
   },
   "outputs": [],
   "source": [
    "X_train = X_train.drop(['Fraud','Normal'], axis = 1)\n",
    "X_test = X_test.drop(['Fraud','Normal'], axis = 1)"
   ]
  },
  {
   "cell_type": "markdown",
   "metadata": {},
   "source": [
    "모든 데이터 프레임들이 알맞은 Shape으로 변환이 되었는지 Cross-check를 합니다."
   ]
  },
  {
   "cell_type": "code",
   "execution_count": 28,
   "metadata": {
    "_cell_guid": "5aece1f2-ee25-4c3d-8cbe-d112c0dd460f",
    "_uuid": "0b3a2881eadcdb252f5eef8721d76fdbf3aeeb52"
   },
   "outputs": [
    {
     "name": "stdout",
     "output_type": "stream",
     "text": [
      "(227846, 31)\n",
      "(227846, 2)\n",
      "(56961, 31)\n",
      "(56961, 2)\n"
     ]
    }
   ],
   "source": [
    "print(np.shape(X_train))\n",
    "print(np.shape(y_train))\n",
    "print(np.shape(X_test))\n",
    "print(np.shape(y_test))"
   ]
  },
  {
   "cell_type": "markdown",
   "metadata": {},
   "source": [
    "하지만 해당 데이터의 불균형 때문에, 모델에 좋은 학습을 제공해 주기 위해 같은 비율로 맞춰주어야 합니다. 따라서 모든 데이터 수를 사기 데이터수로 나눠주어 구해진 비율을 구합니다. 이 비율을 데이터 프레임의 \"Fraud\" 칼럼에 곱해주면 사기 거래수와 보통 거래수가 차지하는 Wieght가 동등하게 됩니다.  \n",
    "간단하게 보이자면, `ratio = # of normal / # of fraud` 가 됩니다."
   ]
  },
  {
   "cell_type": "code",
   "execution_count": 29,
   "metadata": {
    "_cell_guid": "b0ec16a5-7365-48dd-828f-846cbd2e947d",
    "_uuid": "da4329f8146cb8aff30d13a27c07288669e22149"
   },
   "outputs": [],
   "source": [
    "ratio = len(X_train)/count_Frauds \n",
    "\n",
    "y_train.Fraud *= ratio\n",
    "y_test.Fraud *= ratio"
   ]
  },
  {
   "cell_type": "code",
   "execution_count": 30,
   "metadata": {},
   "outputs": [
    {
     "data": {
      "text/html": [
       "<div>\n",
       "<style scoped>\n",
       "    .dataframe tbody tr th:only-of-type {\n",
       "        vertical-align: middle;\n",
       "    }\n",
       "\n",
       "    .dataframe tbody tr th {\n",
       "        vertical-align: top;\n",
       "    }\n",
       "\n",
       "    .dataframe thead th {\n",
       "        text-align: right;\n",
       "    }\n",
       "</style>\n",
       "<table border=\"1\" class=\"dataframe\">\n",
       "  <thead>\n",
       "    <tr style=\"text-align: right;\">\n",
       "      <th></th>\n",
       "      <th>Fraud</th>\n",
       "      <th>Normal</th>\n",
       "    </tr>\n",
       "  </thead>\n",
       "  <tbody>\n",
       "    <tr>\n",
       "      <th>63634</th>\n",
       "      <td>578.28934</td>\n",
       "      <td>0.0</td>\n",
       "    </tr>\n",
       "    <tr>\n",
       "      <th>108258</th>\n",
       "      <td>578.28934</td>\n",
       "      <td>0.0</td>\n",
       "    </tr>\n",
       "    <tr>\n",
       "      <th>82400</th>\n",
       "      <td>578.28934</td>\n",
       "      <td>0.0</td>\n",
       "    </tr>\n",
       "    <tr>\n",
       "      <th>229712</th>\n",
       "      <td>578.28934</td>\n",
       "      <td>0.0</td>\n",
       "    </tr>\n",
       "    <tr>\n",
       "      <th>239499</th>\n",
       "      <td>578.28934</td>\n",
       "      <td>0.0</td>\n",
       "    </tr>\n",
       "  </tbody>\n",
       "</table>\n",
       "</div>"
      ],
      "text/plain": [
       "            Fraud  Normal\n",
       "63634   578.28934     0.0\n",
       "108258  578.28934     0.0\n",
       "82400   578.28934     0.0\n",
       "229712  578.28934     0.0\n",
       "239499  578.28934     0.0"
      ]
     },
     "execution_count": 30,
     "metadata": {},
     "output_type": "execute_result"
    }
   ],
   "source": [
    "# Fraud가 1이 였던 값에 weight가 가해져 학습을 했을 때 더욱 민감하게 학습이 될 것입니다.\n",
    "y_train[y_train.Fraud > 1.0].head()"
   ]
  },
  {
   "cell_type": "markdown",
   "metadata": {},
   "source": [
    "#### Feature 중앙화 및 스케일링\n",
    "\n",
    "Train/Test X-데이터셋에서, 각 Feature를 평균 0, 표준편차 1로 변환 시킵니다. 이는 신경망 모델을 학습에 도움을 줍니다."
   ]
  },
  {
   "cell_type": "code",
   "execution_count": 31,
   "metadata": {
    "_cell_guid": "9f134b83-2b88-40d2-8f4a-525625b190dd",
    "_uuid": "850c8b36783631282f2f0163f5433e0358da9f9a"
   },
   "outputs": [],
   "source": [
    "#Names of all of the features in X_train.\n",
    "features = X_train.columns.values\n",
    "\n",
    "for feature in features:\n",
    "    mean, std = df[feature].mean(), df[feature].std()\n",
    "    X_train.loc[:, feature] = (X_train[feature] - mean) / std\n",
    "    X_test.loc[:, feature] = (X_test[feature] - mean) / std"
   ]
  },
  {
   "cell_type": "code",
   "execution_count": 32,
   "metadata": {},
   "outputs": [
    {
     "data": {
      "text/html": [
       "<div>\n",
       "<style scoped>\n",
       "    .dataframe tbody tr th:only-of-type {\n",
       "        vertical-align: middle;\n",
       "    }\n",
       "\n",
       "    .dataframe tbody tr th {\n",
       "        vertical-align: top;\n",
       "    }\n",
       "\n",
       "    .dataframe thead th {\n",
       "        text-align: right;\n",
       "    }\n",
       "</style>\n",
       "<table border=\"1\" class=\"dataframe\">\n",
       "  <thead>\n",
       "    <tr style=\"text-align: right;\">\n",
       "      <th></th>\n",
       "      <th>Time</th>\n",
       "      <th>V1</th>\n",
       "      <th>V2</th>\n",
       "      <th>V3</th>\n",
       "      <th>V4</th>\n",
       "      <th>V5</th>\n",
       "      <th>V6</th>\n",
       "      <th>V7</th>\n",
       "      <th>V8</th>\n",
       "      <th>V9</th>\n",
       "      <th>V10</th>\n",
       "      <th>V11</th>\n",
       "      <th>V12</th>\n",
       "      <th>V13</th>\n",
       "      <th>V14</th>\n",
       "      <th>V15</th>\n",
       "      <th>V16</th>\n",
       "      <th>V17</th>\n",
       "      <th>V18</th>\n",
       "      <th>V19</th>\n",
       "      <th>V20</th>\n",
       "      <th>V21</th>\n",
       "      <th>V22</th>\n",
       "      <th>V23</th>\n",
       "      <th>V24</th>\n",
       "      <th>V25</th>\n",
       "      <th>V26</th>\n",
       "      <th>V27</th>\n",
       "      <th>V28</th>\n",
       "      <th>Amount</th>\n",
       "      <th>Amount_max_fraud</th>\n",
       "    </tr>\n",
       "  </thead>\n",
       "  <tbody>\n",
       "    <tr>\n",
       "      <th>count</th>\n",
       "      <td>56961.000000</td>\n",
       "      <td>56961.000000</td>\n",
       "      <td>56961.000000</td>\n",
       "      <td>56961.000000</td>\n",
       "      <td>56961.000000</td>\n",
       "      <td>56961.000000</td>\n",
       "      <td>56961.000000</td>\n",
       "      <td>56961.000000</td>\n",
       "      <td>56961.000000</td>\n",
       "      <td>56961.000000</td>\n",
       "      <td>56961.000000</td>\n",
       "      <td>56961.000000</td>\n",
       "      <td>56961.000000</td>\n",
       "      <td>56961.000000</td>\n",
       "      <td>56961.000000</td>\n",
       "      <td>56961.000000</td>\n",
       "      <td>56961.000000</td>\n",
       "      <td>56961.000000</td>\n",
       "      <td>56961.000000</td>\n",
       "      <td>56961.000000</td>\n",
       "      <td>56961.000000</td>\n",
       "      <td>56961.000000</td>\n",
       "      <td>56961.000000</td>\n",
       "      <td>56961.000000</td>\n",
       "      <td>56961.000000</td>\n",
       "      <td>56961.000000</td>\n",
       "      <td>56961.000000</td>\n",
       "      <td>56961.000000</td>\n",
       "      <td>56961.000000</td>\n",
       "      <td>56961.000000</td>\n",
       "      <td>56961.000000</td>\n",
       "    </tr>\n",
       "    <tr>\n",
       "      <th>mean</th>\n",
       "      <td>-0.001558</td>\n",
       "      <td>0.000875</td>\n",
       "      <td>-0.001892</td>\n",
       "      <td>-0.001439</td>\n",
       "      <td>-0.003383</td>\n",
       "      <td>0.002990</td>\n",
       "      <td>-0.002319</td>\n",
       "      <td>-0.004030</td>\n",
       "      <td>0.004065</td>\n",
       "      <td>0.005675</td>\n",
       "      <td>-0.003996</td>\n",
       "      <td>0.004484</td>\n",
       "      <td>-0.001110</td>\n",
       "      <td>0.002187</td>\n",
       "      <td>-0.002189</td>\n",
       "      <td>0.001561</td>\n",
       "      <td>0.000641</td>\n",
       "      <td>0.002570</td>\n",
       "      <td>-0.001781</td>\n",
       "      <td>-0.005305</td>\n",
       "      <td>0.003222</td>\n",
       "      <td>-0.002413</td>\n",
       "      <td>-0.002843</td>\n",
       "      <td>-0.004712</td>\n",
       "      <td>0.004207</td>\n",
       "      <td>-0.002641</td>\n",
       "      <td>-0.004198</td>\n",
       "      <td>-0.001204</td>\n",
       "      <td>-0.007545</td>\n",
       "      <td>-0.000781</td>\n",
       "      <td>0.004354</td>\n",
       "    </tr>\n",
       "    <tr>\n",
       "      <th>std</th>\n",
       "      <td>0.998500</td>\n",
       "      <td>0.991199</td>\n",
       "      <td>0.990627</td>\n",
       "      <td>0.992018</td>\n",
       "      <td>0.997557</td>\n",
       "      <td>0.990920</td>\n",
       "      <td>1.000773</td>\n",
       "      <td>0.970588</td>\n",
       "      <td>0.952178</td>\n",
       "      <td>0.997451</td>\n",
       "      <td>0.994908</td>\n",
       "      <td>0.996820</td>\n",
       "      <td>1.001257</td>\n",
       "      <td>0.997821</td>\n",
       "      <td>0.997179</td>\n",
       "      <td>0.998505</td>\n",
       "      <td>1.001794</td>\n",
       "      <td>1.018943</td>\n",
       "      <td>1.004320</td>\n",
       "      <td>0.993911</td>\n",
       "      <td>0.942704</td>\n",
       "      <td>0.939417</td>\n",
       "      <td>0.989367</td>\n",
       "      <td>0.965734</td>\n",
       "      <td>1.002527</td>\n",
       "      <td>0.997197</td>\n",
       "      <td>1.002805</td>\n",
       "      <td>0.986277</td>\n",
       "      <td>0.933587</td>\n",
       "      <td>0.954577</td>\n",
       "      <td>1.046103</td>\n",
       "    </tr>\n",
       "    <tr>\n",
       "      <th>min</th>\n",
       "      <td>-1.996495</td>\n",
       "      <td>-17.189967</td>\n",
       "      <td>-30.511117</td>\n",
       "      <td>-20.154062</td>\n",
       "      <td>-3.927001</td>\n",
       "      <td>-29.290217</td>\n",
       "      <td>-15.052954</td>\n",
       "      <td>-25.218244</td>\n",
       "      <td>-42.653531</td>\n",
       "      <td>-8.613050</td>\n",
       "      <td>-20.376630</td>\n",
       "      <td>-4.700120</td>\n",
       "      <td>-18.062021</td>\n",
       "      <td>-4.027674</td>\n",
       "      <td>-18.381718</td>\n",
       "      <td>-4.178028</td>\n",
       "      <td>-15.182703</td>\n",
       "      <td>-26.619430</td>\n",
       "      <td>-11.332636</td>\n",
       "      <td>-5.576921</td>\n",
       "      <td>-25.102071</td>\n",
       "      <td>-30.857650</td>\n",
       "      <td>-10.220648</td>\n",
       "      <td>-43.582333</td>\n",
       "      <td>-4.647752</td>\n",
       "      <td>-11.098125</td>\n",
       "      <td>-3.438550</td>\n",
       "      <td>-21.900531</td>\n",
       "      <td>-26.225413</td>\n",
       "      <td>-0.353229</td>\n",
       "      <td>-0.046062</td>\n",
       "    </tr>\n",
       "    <tr>\n",
       "      <th>25%</th>\n",
       "      <td>-0.853642</td>\n",
       "      <td>-0.466209</td>\n",
       "      <td>-0.362183</td>\n",
       "      <td>-0.585318</td>\n",
       "      <td>-0.602321</td>\n",
       "      <td>-0.501455</td>\n",
       "      <td>-0.580411</td>\n",
       "      <td>-0.452014</td>\n",
       "      <td>-0.174859</td>\n",
       "      <td>-0.575417</td>\n",
       "      <td>-0.496465</td>\n",
       "      <td>-0.742776</td>\n",
       "      <td>-0.406047</td>\n",
       "      <td>-0.646881</td>\n",
       "      <td>-0.446149</td>\n",
       "      <td>-0.632536</td>\n",
       "      <td>-0.529489</td>\n",
       "      <td>-0.569855</td>\n",
       "      <td>-0.595161</td>\n",
       "      <td>-0.567157</td>\n",
       "      <td>-0.272174</td>\n",
       "      <td>-0.312526</td>\n",
       "      <td>-0.752276</td>\n",
       "      <td>-0.260018</td>\n",
       "      <td>-0.585197</td>\n",
       "      <td>-0.610906</td>\n",
       "      <td>-0.683196</td>\n",
       "      <td>-0.174948</td>\n",
       "      <td>-0.158387</td>\n",
       "      <td>-0.330520</td>\n",
       "      <td>-0.046062</td>\n",
       "    </tr>\n",
       "    <tr>\n",
       "      <th>50%</th>\n",
       "      <td>-0.215398</td>\n",
       "      <td>0.010908</td>\n",
       "      <td>0.039725</td>\n",
       "      <td>0.114781</td>\n",
       "      <td>-0.017499</td>\n",
       "      <td>-0.039237</td>\n",
       "      <td>-0.207896</td>\n",
       "      <td>0.031778</td>\n",
       "      <td>0.018143</td>\n",
       "      <td>-0.044134</td>\n",
       "      <td>-0.086174</td>\n",
       "      <td>-0.028081</td>\n",
       "      <td>0.139761</td>\n",
       "      <td>-0.010723</td>\n",
       "      <td>0.049833</td>\n",
       "      <td>0.058610</td>\n",
       "      <td>0.080505</td>\n",
       "      <td>-0.074360</td>\n",
       "      <td>-0.007117</td>\n",
       "      <td>-0.000040</td>\n",
       "      <td>-0.080443</td>\n",
       "      <td>-0.041695</td>\n",
       "      <td>0.003188</td>\n",
       "      <td>-0.017968</td>\n",
       "      <td>0.070837</td>\n",
       "      <td>0.028794</td>\n",
       "      <td>-0.115727</td>\n",
       "      <td>0.003776</td>\n",
       "      <td>0.034129</td>\n",
       "      <td>-0.264951</td>\n",
       "      <td>-0.046062</td>\n",
       "    </tr>\n",
       "    <tr>\n",
       "      <th>75%</th>\n",
       "      <td>0.935794</td>\n",
       "      <td>0.671981</td>\n",
       "      <td>0.486347</td>\n",
       "      <td>0.674209</td>\n",
       "      <td>0.520561</td>\n",
       "      <td>0.441977</td>\n",
       "      <td>0.296168</td>\n",
       "      <td>0.458953</td>\n",
       "      <td>0.275407</td>\n",
       "      <td>0.549793</td>\n",
       "      <td>0.412137</td>\n",
       "      <td>0.730527</td>\n",
       "      <td>0.619815</td>\n",
       "      <td>0.665147</td>\n",
       "      <td>0.515714</td>\n",
       "      <td>0.713242</td>\n",
       "      <td>0.596373</td>\n",
       "      <td>0.476147</td>\n",
       "      <td>0.592595</td>\n",
       "      <td>0.559670</td>\n",
       "      <td>0.175418</td>\n",
       "      <td>0.252089</td>\n",
       "      <td>0.728847</td>\n",
       "      <td>0.234457</td>\n",
       "      <td>0.735596</td>\n",
       "      <td>0.668969</td>\n",
       "      <td>0.500451</td>\n",
       "      <td>0.229667</td>\n",
       "      <td>0.236983</td>\n",
       "      <td>-0.043378</td>\n",
       "      <td>-0.046062</td>\n",
       "    </tr>\n",
       "    <tr>\n",
       "      <th>max</th>\n",
       "      <td>1.641950</td>\n",
       "      <td>1.240880</td>\n",
       "      <td>9.990545</td>\n",
       "      <td>2.761943</td>\n",
       "      <td>8.351757</td>\n",
       "      <td>21.022418</td>\n",
       "      <td>17.952680</td>\n",
       "      <td>35.611260</td>\n",
       "      <td>16.400322</td>\n",
       "      <td>8.294456</td>\n",
       "      <td>14.001643</td>\n",
       "      <td>9.372968</td>\n",
       "      <td>4.577738</td>\n",
       "      <td>3.750653</td>\n",
       "      <td>7.998916</td>\n",
       "      <td>5.206414</td>\n",
       "      <td>5.558168</td>\n",
       "      <td>9.293592</td>\n",
       "      <td>4.910137</td>\n",
       "      <td>5.792269</td>\n",
       "      <td>30.668893</td>\n",
       "      <td>26.225771</td>\n",
       "      <td>9.949211</td>\n",
       "      <td>36.076612</td>\n",
       "      <td>6.601689</td>\n",
       "      <td>10.500893</td>\n",
       "      <td>6.475679</td>\n",
       "      <td>20.039391</td>\n",
       "      <td>48.865274</td>\n",
       "      <td>40.424940</td>\n",
       "      <td>21.709793</td>\n",
       "    </tr>\n",
       "  </tbody>\n",
       "</table>\n",
       "</div>"
      ],
      "text/plain": [
       "               Time            V1            V2            V3            V4  \\\n",
       "count  56961.000000  56961.000000  56961.000000  56961.000000  56961.000000   \n",
       "mean      -0.001558      0.000875     -0.001892     -0.001439     -0.003383   \n",
       "std        0.998500      0.991199      0.990627      0.992018      0.997557   \n",
       "min       -1.996495    -17.189967    -30.511117    -20.154062     -3.927001   \n",
       "25%       -0.853642     -0.466209     -0.362183     -0.585318     -0.602321   \n",
       "50%       -0.215398      0.010908      0.039725      0.114781     -0.017499   \n",
       "75%        0.935794      0.671981      0.486347      0.674209      0.520561   \n",
       "max        1.641950      1.240880      9.990545      2.761943      8.351757   \n",
       "\n",
       "                 V5            V6            V7            V8            V9  \\\n",
       "count  56961.000000  56961.000000  56961.000000  56961.000000  56961.000000   \n",
       "mean       0.002990     -0.002319     -0.004030      0.004065      0.005675   \n",
       "std        0.990920      1.000773      0.970588      0.952178      0.997451   \n",
       "min      -29.290217    -15.052954    -25.218244    -42.653531     -8.613050   \n",
       "25%       -0.501455     -0.580411     -0.452014     -0.174859     -0.575417   \n",
       "50%       -0.039237     -0.207896      0.031778      0.018143     -0.044134   \n",
       "75%        0.441977      0.296168      0.458953      0.275407      0.549793   \n",
       "max       21.022418     17.952680     35.611260     16.400322      8.294456   \n",
       "\n",
       "                V10           V11           V12           V13           V14  \\\n",
       "count  56961.000000  56961.000000  56961.000000  56961.000000  56961.000000   \n",
       "mean      -0.003996      0.004484     -0.001110      0.002187     -0.002189   \n",
       "std        0.994908      0.996820      1.001257      0.997821      0.997179   \n",
       "min      -20.376630     -4.700120    -18.062021     -4.027674    -18.381718   \n",
       "25%       -0.496465     -0.742776     -0.406047     -0.646881     -0.446149   \n",
       "50%       -0.086174     -0.028081      0.139761     -0.010723      0.049833   \n",
       "75%        0.412137      0.730527      0.619815      0.665147      0.515714   \n",
       "max       14.001643      9.372968      4.577738      3.750653      7.998916   \n",
       "\n",
       "                V15           V16           V17           V18           V19  \\\n",
       "count  56961.000000  56961.000000  56961.000000  56961.000000  56961.000000   \n",
       "mean       0.001561      0.000641      0.002570     -0.001781     -0.005305   \n",
       "std        0.998505      1.001794      1.018943      1.004320      0.993911   \n",
       "min       -4.178028    -15.182703    -26.619430    -11.332636     -5.576921   \n",
       "25%       -0.632536     -0.529489     -0.569855     -0.595161     -0.567157   \n",
       "50%        0.058610      0.080505     -0.074360     -0.007117     -0.000040   \n",
       "75%        0.713242      0.596373      0.476147      0.592595      0.559670   \n",
       "max        5.206414      5.558168      9.293592      4.910137      5.792269   \n",
       "\n",
       "                V20           V21           V22           V23           V24  \\\n",
       "count  56961.000000  56961.000000  56961.000000  56961.000000  56961.000000   \n",
       "mean       0.003222     -0.002413     -0.002843     -0.004712      0.004207   \n",
       "std        0.942704      0.939417      0.989367      0.965734      1.002527   \n",
       "min      -25.102071    -30.857650    -10.220648    -43.582333     -4.647752   \n",
       "25%       -0.272174     -0.312526     -0.752276     -0.260018     -0.585197   \n",
       "50%       -0.080443     -0.041695      0.003188     -0.017968      0.070837   \n",
       "75%        0.175418      0.252089      0.728847      0.234457      0.735596   \n",
       "max       30.668893     26.225771      9.949211     36.076612      6.601689   \n",
       "\n",
       "                V25           V26           V27           V28        Amount  \\\n",
       "count  56961.000000  56961.000000  56961.000000  56961.000000  56961.000000   \n",
       "mean      -0.002641     -0.004198     -0.001204     -0.007545     -0.000781   \n",
       "std        0.997197      1.002805      0.986277      0.933587      0.954577   \n",
       "min      -11.098125     -3.438550    -21.900531    -26.225413     -0.353229   \n",
       "25%       -0.610906     -0.683196     -0.174948     -0.158387     -0.330520   \n",
       "50%        0.028794     -0.115727      0.003776      0.034129     -0.264951   \n",
       "75%        0.668969      0.500451      0.229667      0.236983     -0.043378   \n",
       "max       10.500893      6.475679     20.039391     48.865274     40.424940   \n",
       "\n",
       "       Amount_max_fraud  \n",
       "count      56961.000000  \n",
       "mean           0.004354  \n",
       "std            1.046103  \n",
       "min           -0.046062  \n",
       "25%           -0.046062  \n",
       "50%           -0.046062  \n",
       "75%           -0.046062  \n",
       "max           21.709793  "
      ]
     },
     "execution_count": 32,
     "metadata": {},
     "output_type": "execute_result"
    }
   ],
   "source": [
    "# 모든 Feature가 mean:0, std:1 에 가까워 짐을 확인할 수 있습니다.\n",
    "X_test.describe()"
   ]
  },
  {
   "cell_type": "markdown",
   "metadata": {},
   "source": [
    "마지막으로 Validation을 위해 Test 셋에서 반을 Validation으로, 반을 Test로 사용합니다.\n",
    "\n",
    "*(어짜피 Label은 모두 존재하기 때문에 Test셋 에서 나누든 Train셋에서 나누든 상관 없습니다.)*"
   ]
  },
  {
   "cell_type": "code",
   "execution_count": 33,
   "metadata": {
    "_cell_guid": "3e0e5055-c2a2-4ae3-af2b-de125a639a95",
    "_uuid": "aa08adecd21ceb6f9a848781cda9d06c33228a51"
   },
   "outputs": [],
   "source": [
    "split = int(len(y_test)/2)\n",
    "\n",
    "inputX = X_train.as_matrix()\n",
    "inputY = y_train.as_matrix()\n",
    "inputX_valid = X_test.as_matrix()[:split]\n",
    "inputY_valid = y_test.as_matrix()[:split]\n",
    "inputX_test = X_test.as_matrix()[split:]\n",
    "inputY_test = y_test.as_matrix()[split:]"
   ]
  },
  {
   "cell_type": "code",
   "execution_count": 34,
   "metadata": {},
   "outputs": [
    {
     "name": "stdout",
     "output_type": "stream",
     "text": [
      "(227846, 31)\n",
      "(227846, 2)\n",
      "(28480, 31)\n",
      "(28480, 2)\n",
      "(28481, 31)\n",
      "(28481, 2)\n"
     ]
    }
   ],
   "source": [
    "print(np.shape(inputX))\n",
    "print(np.shape(inputY))\n",
    "print(np.shape(inputX_valid))\n",
    "print(np.shape(inputY_valid))\n",
    "print(np.shape(inputX_test))\n",
    "print(np.shape(inputY_test))"
   ]
  },
  {
   "cell_type": "markdown",
   "metadata": {},
   "source": [
    "## 2.1 Tensorflow 신경망 학습\n",
    "\n",
    "완전히 연결된 신경망은 해당 모델을 구성하고 예측하는 이 분석을 위해 아래와 같이 구성되어 있습니다.\n",
    "\n",
    "* Input Node는 Input 칼럼 숫자 31개로 구성되어 있습니다.\n",
    "* 5층 신경망으루 구성되어 있고 마지막 레이어는 Output 레이어입니다. 모든 레이어는 Sigmoid로 활성화를 합니다\n",
    "* 첫 레이어는 18 개의 노드로 구성되어 있고, 다음 층으로 갈수록 노드의 수가 1.5배 됩니다.\n",
    "* pkeep은 dropout 지켜야하는 노드의 비율(%)을 의미합니다. (ropout은 NN의 Accuracy를 올려줍니다.)\n",
    "* 다른 하이퍼파라미터 (epochs, batch size, learning rate)도 선언되어 있습니다.\n",
    "* Cost는 [reduce_sum](https://www.tensorflow.org/api_docs/python/tf/reduce_sum)을 사용합니다.\n",
    "* Cost를 최소화하기 위해 [AdamOptimized](https://www.tensorflow.org/api_docs/python/tf/train/AdamOptimizer) 를 사용합니다.\n",
    "* [예측 점수](https://www.tensorflow.org/api_docs/python/tf/equal), 정확도 점수를 정의하고, 가장 좋은 Weights를 저장합니다.\n",
    "* Test 데이터 셋에 가장 좋은 예측 결과를 가진 Weights를 적용합니다.\n",
    "\n",
    "이런식으로 Tensorflow session을 하나 만들어 해당 신경망을 Training 셋으로 학습시키고 Validation 셋으로 테스트해볼 수 있습니다."
   ]
  },
  {
   "cell_type": "code",
   "execution_count": 35,
   "metadata": {
    "_cell_guid": "b764085a-53cb-44b1-82f5-e1e55a006189",
    "_uuid": "90f9779d5395f8251c9fda66f04bbd478de7013d"
   },
   "outputs": [],
   "source": [
    "# Number of input nodes.\n",
    "input_nodes = 31\n",
    "\n",
    "# Multiplier maintains a fixed ratio of nodes between each layer.\n",
    "mulitplier = 1.5 \n",
    "\n",
    "# Number of nodes in each hidden layer\n",
    "hidden_nodes1 = 18\n",
    "hidden_nodes2 = round(hidden_nodes1 * mulitplier)\n",
    "hidden_nodes3 = round(hidden_nodes2 * mulitplier)\n",
    "\n",
    "# Percent of nodes to keep during dropout.\n",
    "pkeep = tf.placeholder(tf.float32)"
   ]
  },
  {
   "cell_type": "code",
   "execution_count": 36,
   "metadata": {
    "_cell_guid": "f65afcbb-8b50-4341-ab1f-7e0c123228ac",
    "_uuid": "b705e2acc952ec62a1bd4ba471c832f71153d9e0"
   },
   "outputs": [],
   "source": [
    "# input\n",
    "x = tf.placeholder(tf.float32, [None, input_nodes])\n",
    "\n",
    "# layer 1\n",
    "W1 = tf.Variable(tf.truncated_normal([input_nodes, hidden_nodes1], stddev = 0.15))\n",
    "b1 = tf.Variable(tf.zeros([hidden_nodes1]))\n",
    "y1 = tf.nn.sigmoid(tf.matmul(x, W1) + b1)\n",
    "\n",
    "# layer 2\n",
    "W2 = tf.Variable(tf.truncated_normal([hidden_nodes1, hidden_nodes2], stddev = 0.15))\n",
    "b2 = tf.Variable(tf.zeros([hidden_nodes2]))\n",
    "y2 = tf.nn.sigmoid(tf.matmul(y1, W2) + b2)\n",
    "\n",
    "# layer 3\n",
    "W3 = tf.Variable(tf.truncated_normal([hidden_nodes2, hidden_nodes3], stddev = 0.15)) \n",
    "b3 = tf.Variable(tf.zeros([hidden_nodes3]))\n",
    "y3 = tf.nn.sigmoid(tf.matmul(y2, W3) + b3)\n",
    "y3 = tf.nn.dropout(y3, pkeep)\n",
    "\n",
    "# layer 4\n",
    "W4 = tf.Variable(tf.truncated_normal([hidden_nodes3, 2], stddev = 0.15)) \n",
    "b4 = tf.Variable(tf.zeros([2]))\n",
    "y4 = tf.nn.softmax(tf.matmul(y3, W4) + b4)\n",
    "\n",
    "# output\n",
    "y = y4\n",
    "y_ = tf.placeholder(tf.float32, [None, 2])"
   ]
  },
  {
   "cell_type": "code",
   "execution_count": 37,
   "metadata": {
    "_cell_guid": "5f23426d-1a1f-444b-b283-d49e209fadfb",
    "_uuid": "19d65b6f8a52be7ed465746c8c5782f3af94b45f"
   },
   "outputs": [],
   "source": [
    "# Parameters\n",
    "training_epochs = 101 # should be larger number\n",
    "training_dropout = 0.9\n",
    "display_step = 5 # 10 \n",
    "n_samples = y_train.shape[0]\n",
    "batch_size = 2048\n",
    "learning_rate = 0.005"
   ]
  },
  {
   "cell_type": "code",
   "execution_count": 38,
   "metadata": {
    "_cell_guid": "7d907d74-1a9f-4846-8a28-36317e9f0c4e",
    "_uuid": "421e4fa26c569fedc5240bb3bdddd8f3e2f93aff"
   },
   "outputs": [],
   "source": [
    "# Cost function: Cross Entropy\n",
    "cost = -tf.reduce_sum(y_ * tf.log(y))\n",
    "\n",
    "# We will optimize our model via AdamOptimizer\n",
    "optimizer = tf.train.AdamOptimizer(learning_rate).minimize(cost)\n",
    "\n",
    "# Correct prediction if the most likely value (Fraud or Normal) from softmax equals the target value.\n",
    "correct_prediction = tf.equal(tf.argmax(y,1), tf.argmax(y_,1))\n",
    "accuracy = tf.reduce_mean(tf.cast(correct_prediction, tf.float32))"
   ]
  },
  {
   "cell_type": "code",
   "execution_count": 39,
   "metadata": {
    "_cell_guid": "3f0b796a-8454-4cc9-b5ec-3075b9565bc3",
    "_uuid": "825805efc899b013c6bf7eaebdf10a68aee89d1a",
    "scrolled": false
   },
   "outputs": [
    {
     "name": "stdout",
     "output_type": "stream",
     "text": [
      "Epoch: 0 Acc = 0.97776 Cost = 82759.57812 Valid_Acc = 0.97767 Valid_Cost =  8259.38965\n",
      "Epoch: 5 Acc = 0.98852 Cost = 73093.75781 Valid_Acc = 0.98971 Valid_Cost =  7532.35059\n",
      "Epoch: 10 Acc = 0.99023 Cost = 62864.16406 Valid_Acc = 0.99094 Valid_Cost =  7449.86719\n",
      "Epoch: 15 Acc = 0.98994 Cost = 53767.84375 Valid_Acc = 0.99066 Valid_Cost =  7594.30762\n",
      "Epoch: 20 Acc = 0.98749 Cost = 42582.04688 Valid_Acc = 0.98873 Valid_Cost =  7900.34814\n",
      "Epoch: 25 Acc = 0.99368 Cost = 36059.70312 Valid_Acc = 0.99442 Valid_Cost =  9603.81641\n",
      "Epoch: 30 Acc = 0.99562 Cost = 35505.75781 Valid_Acc = 0.99558 Valid_Cost =  13627.77832\n",
      "Epoch: 35 Acc = 0.99511 Cost = 24553.49219 Valid_Acc = 0.99498 Valid_Cost =  16987.88281\n",
      "Epoch: 40 Acc = 0.99403 Cost = 15877.84961 Valid_Acc = 0.99438 Valid_Cost =  17617.75195\n",
      "Epoch: 45 Acc = 0.99708 Cost = 30019.80469 Valid_Acc = 0.99684 Valid_Cost =  21042.43359\n",
      "Epoch: 50 Acc = 0.99434 Cost = 16480.59766 Valid_Acc = 0.99442 Valid_Cost =  26418.41992\n",
      "Epoch: 55 Acc = 0.99558 Cost = 10637.00391 Valid_Acc = 0.99589 Valid_Cost =  27701.11328\n",
      "Epoch: 60 Acc = 0.99739 Cost = 7652.20947 Valid_Acc = 0.99719 Valid_Cost =  35590.22266\n",
      "Epoch: 65 Acc = 0.99384 Cost = 7286.31445 Valid_Acc = 0.99449 Valid_Cost =  28434.03320\n",
      "Epoch: 70 Acc = 0.99685 Cost = 5848.18164 Valid_Acc = 0.99687 Valid_Cost =  36722.49219\n",
      "Epoch: 75 Acc = 0.99669 Cost = 4516.80273 Valid_Acc = 0.99635 Valid_Cost =  39600.40234\n",
      "Epoch: 80 Acc = 0.99617 Cost = 4747.16602 Valid_Acc = 0.99589 Valid_Cost =  40842.24609\n",
      "Epoch: 85 Acc = 0.99625 Cost = 4744.38867 Valid_Acc = 0.99617 Valid_Cost =  37780.37500\n",
      "Epoch: 90 Acc = 0.99820 Cost = 4898.35400 Valid_Acc = 0.99789 Valid_Cost =  49322.94531\n",
      "Epoch: 95 Acc = 0.99793 Cost = 5422.48340 Valid_Acc = 0.99758 Valid_Cost =  50593.96094\n",
      "Epoch: 100 Acc = 0.99080 Cost = 7493.91504 Valid_Acc = 0.99020 Valid_Cost =  40995.75781\n",
      "\n",
      "Optimization Finished!\n",
      "\n",
      "save path : ./model/model.ckpt\n"
     ]
    }
   ],
   "source": [
    "accuracy_summary = [] # Record accuracy values for plot\n",
    "cost_summary = [] # Record cost values for plot\n",
    "valid_accuracy_summary = [] \n",
    "valid_cost_summary = [] \n",
    "stop_early = 0 # To keep track of the number of epochs before early stopping\n",
    "\n",
    "\n",
    "# Save the best weights so that they can be used to make the final predictions\n",
    "save_flag = True\n",
    "saver = tf.train.Saver()\n",
    "model_path_name = './model/model.ckpt'\n",
    "\n",
    "\n",
    "# Initialize variables and tensorflow session\n",
    "with tf.Session() as sess:\n",
    "    sess.run(tf.global_variables_initializer())\n",
    "    \n",
    "    for epoch in range(training_epochs): \n",
    "        for batch in range(int(n_samples/batch_size)):\n",
    "            batch_x = inputX[batch*batch_size : (1+batch)*batch_size]\n",
    "            batch_y = inputY[batch*batch_size : (1+batch)*batch_size]\n",
    "\n",
    "            sess.run([optimizer], feed_dict={x: batch_x, y_: batch_y, pkeep: training_dropout})\n",
    "\n",
    "        # Display logs after every 10 epochs\n",
    "        if (epoch) % display_step == 0:\n",
    "            train_accuracy, newCost = sess.run([accuracy, cost], feed_dict={x: inputX, y_: inputY, pkeep: training_dropout})\n",
    "            valid_accuracy, valid_newCost = sess.run([accuracy, cost], feed_dict={x: inputX_valid, y_: inputY_valid, pkeep: 1})\n",
    "\n",
    "            print (\"Epoch:\", epoch,\n",
    "                   \"Acc =\", \"{:.5f}\".format(train_accuracy), \n",
    "                   \"Cost =\", \"{:.5f}\".format(newCost),\n",
    "                   \"Valid_Acc =\", \"{:.5f}\".format(valid_accuracy), \n",
    "                   \"Valid_Cost = \", \"{:.5f}\".format(valid_newCost))\n",
    "            \n",
    "            \n",
    "            # Record the results of the model\n",
    "            accuracy_summary.append(train_accuracy)\n",
    "            cost_summary.append(newCost)\n",
    "            valid_accuracy_summary.append(valid_accuracy)\n",
    "            valid_cost_summary.append(valid_newCost)\n",
    "            \n",
    "            # If the model does not improve after 15 logs, stop the training.\n",
    "            if valid_accuracy < max(valid_accuracy_summary) and epoch > 100:\n",
    "                stop_early += 1\n",
    "                if stop_early == 15:\n",
    "                    break\n",
    "            else:\n",
    "                stop_early = 0\n",
    "    \n",
    "            # save not overfit & best accuracy model\n",
    "            '''\n",
    "            if newCost < valid_newCost and save_flag:\n",
    "                save_flag = False\n",
    "                save_path = saver.save(sess, \"model_not_overfitted\")\n",
    "                print(\"The save path not overfitted :\", save_path)\n",
    "            '''\n",
    "    print()\n",
    "    print(\"Optimization Finished!\")\n",
    "    print()\n",
    "    \n",
    "    save_path = saver.save(sess, model_path_name)\n",
    "    print(\"save path :\", save_path)"
   ]
  },
  {
   "cell_type": "markdown",
   "metadata": {},
   "source": [
    "#### 정확도와 Cost 요약\n",
    "\n",
    "epoch에 따른 cost와 정확도를 시각화해 보겠습니다. 이를 통해 Training 셋과 Validation 셋에 대해 어떻게 정확도가 향상할 수 있는지 보실 수 있습니다."
   ]
  },
  {
   "cell_type": "code",
   "execution_count": 40,
   "metadata": {
    "_cell_guid": "c04813ad-3bbb-45c5-8098-06a78605d7b2",
    "_uuid": "2cc553c14ddcfcee1e3f833238da31fa18688c1e"
   },
   "outputs": [
    {
     "data": {
      "image/png": "[encoded data removed]",
      "text/plain": [
       "<Figure size 720x288 with 2 Axes>"
      ]
     },
     "metadata": {
      "needs_background": "light"
     },
     "output_type": "display_data"
    }
   ],
   "source": [
    "f, (ax1, ax2) = plt.subplots(2, 1, sharex=True, figsize=(10,4))\n",
    "\n",
    "ax1.plot(accuracy_summary) # blue\n",
    "ax1.plot(valid_accuracy_summary) # orange\n",
    "ax1.set_title('Accuracy')\n",
    "\n",
    "\n",
    "ax2.plot(cost_summary)\n",
    "ax2.plot(valid_cost_summary)\n",
    "ax2.set_title('Cost')\n",
    "\n",
    "plt.xlabel('Epochs (x10)')\n",
    "plt.show()"
   ]
  },
  {
   "cell_type": "markdown",
   "metadata": {},
   "source": [
    "Training 과 Validation 정확도가 같이 거의 100%에 가까운 정확도로 향하는 것을 보실 수 있습니다. Training Cost는 100 epoch이후에 줄어들 기미가 안보입니다. Validation Cost는 70 epoch 부근에서 Training Cost와 비슷함을 보여준다. 그리고 70 세대 이후에는 Training 셋에 Overfitting 됨을 확인할 수 있습니다.\n",
    "\n",
    "#### Test 셋 예측 및 정확도"
   ]
  },
  {
   "cell_type": "code",
   "execution_count": 41,
   "metadata": {
    "_cell_guid": "362ce01d-2582-47ea-9c04-3f2eb71dd87b",
    "_uuid": "a37daaf1fe266f2ee7840d08b9406bfa1b9ee841"
   },
   "outputs": [
    {
     "name": "stdout",
     "output_type": "stream",
     "text": [
      "INFO:tensorflow:Restoring parameters from ./model/model.ckpt\n",
      "Testing Accuracy = 0.9904498\n"
     ]
    }
   ],
   "source": [
    "predicted = tf.argmax(y, 1)\n",
    "with tf.Session() as sess:  \n",
    "    # Load the best weights\n",
    "    saver.restore(sess, model_path_name)\n",
    "    testing_predictions, testing_accuracy = sess.run([predicted, accuracy], \n",
    "                                                     feed_dict={x: inputX_test, y_:inputY_test, pkeep: 1})\n",
    "    print(\"Testing Accuracy =\", testing_accuracy)"
   ]
  },
  {
   "cell_type": "markdown",
   "metadata": {},
   "source": [
    "최종 저장되었던 모델을 불러와 **Test 셋으로 99% 정도의 정확도를 얻을 수 있습니다.**"
   ]
  },
  {
   "cell_type": "markdown",
   "metadata": {},
   "source": [
    "## 2.2 Keras 신경망 학습\n",
    "\n",
    "아래의 코드는 원본 데이터와 EDA 이해를 바탕으로 Keras를 사용한 신경망(NN)입니다. Keras는 Tensorflow로 구성된 High Level 프레임워크입니다. (Higl Level 프레임워크는 코드를 간결하게 만들어, 코드 이해를 쉽게 만듭니다.) Keras로 신경망(NN) 모델의 정확도를 계산해 보겠습니다."
   ]
  },
  {
   "cell_type": "code",
   "execution_count": 42,
   "metadata": {
    "_cell_guid": "83d06e55-189a-4acb-bb42-934accebec99",
    "_uuid": "6918fa3e8198317d3b4e706e01366831ecc86c1e"
   },
   "outputs": [
    {
     "name": "stderr",
     "output_type": "stream",
     "text": [
      "Using TensorFlow backend.\n"
     ]
    }
   ],
   "source": [
    "import itertools\n",
    "from keras.models import Sequential\n",
    "from keras.layers import Dense, Dropout\n",
    "from keras.utils.np_utils import to_categorical"
   ]
  },
  {
   "cell_type": "code",
   "execution_count": 43,
   "metadata": {
    "_cell_guid": "0e090edc-f544-41b6-8035-bf61c9e86205",
    "_uuid": "d0bdc4d26b0a9f23c9ed7df460d57e2f489ef164"
   },
   "outputs": [],
   "source": [
    "data = pd.read_csv(\"./input/creditcard.csv\")"
   ]
  },
  {
   "cell_type": "code",
   "execution_count": 44,
   "metadata": {
    "_cell_guid": "5748a40a-3665-4ae6-8b21-36b0dedc2f83",
    "_uuid": "d800b296c079bf6e11d874cd482058c7fe9db931"
   },
   "outputs": [
    {
     "data": {
      "text/html": [
       "<div>\n",
       "<style scoped>\n",
       "    .dataframe tbody tr th:only-of-type {\n",
       "        vertical-align: middle;\n",
       "    }\n",
       "\n",
       "    .dataframe tbody tr th {\n",
       "        vertical-align: top;\n",
       "    }\n",
       "\n",
       "    .dataframe thead th {\n",
       "        text-align: right;\n",
       "    }\n",
       "</style>\n",
       "<table border=\"1\" class=\"dataframe\">\n",
       "  <thead>\n",
       "    <tr style=\"text-align: right;\">\n",
       "      <th></th>\n",
       "      <th>Time</th>\n",
       "      <th>V1</th>\n",
       "      <th>V2</th>\n",
       "      <th>V3</th>\n",
       "      <th>V4</th>\n",
       "      <th>V5</th>\n",
       "      <th>V6</th>\n",
       "      <th>V7</th>\n",
       "      <th>V8</th>\n",
       "      <th>V9</th>\n",
       "      <th>V10</th>\n",
       "      <th>V11</th>\n",
       "      <th>V12</th>\n",
       "      <th>V13</th>\n",
       "      <th>V14</th>\n",
       "      <th>V15</th>\n",
       "      <th>V16</th>\n",
       "      <th>V17</th>\n",
       "      <th>V18</th>\n",
       "      <th>V19</th>\n",
       "      <th>V20</th>\n",
       "      <th>V21</th>\n",
       "      <th>V22</th>\n",
       "      <th>V23</th>\n",
       "      <th>V24</th>\n",
       "      <th>V25</th>\n",
       "      <th>V26</th>\n",
       "      <th>V27</th>\n",
       "      <th>V28</th>\n",
       "      <th>Amount</th>\n",
       "      <th>Class</th>\n",
       "      <th>Amount_max_fraud</th>\n",
       "    </tr>\n",
       "  </thead>\n",
       "  <tbody>\n",
       "    <tr>\n",
       "      <th>0</th>\n",
       "      <td>0.0</td>\n",
       "      <td>-1.359807</td>\n",
       "      <td>-0.072781</td>\n",
       "      <td>2.536347</td>\n",
       "      <td>1.378155</td>\n",
       "      <td>-0.338321</td>\n",
       "      <td>0.462388</td>\n",
       "      <td>0.239599</td>\n",
       "      <td>0.098698</td>\n",
       "      <td>0.363787</td>\n",
       "      <td>0.090794</td>\n",
       "      <td>-0.551600</td>\n",
       "      <td>-0.617801</td>\n",
       "      <td>-0.991390</td>\n",
       "      <td>-0.311169</td>\n",
       "      <td>1.468177</td>\n",
       "      <td>-0.470401</td>\n",
       "      <td>0.207971</td>\n",
       "      <td>0.025791</td>\n",
       "      <td>0.403993</td>\n",
       "      <td>0.251412</td>\n",
       "      <td>-0.018307</td>\n",
       "      <td>0.277838</td>\n",
       "      <td>-0.110474</td>\n",
       "      <td>0.066928</td>\n",
       "      <td>0.128539</td>\n",
       "      <td>-0.189115</td>\n",
       "      <td>0.133558</td>\n",
       "      <td>-0.021053</td>\n",
       "      <td>149.62</td>\n",
       "      <td>0</td>\n",
       "      <td>0</td>\n",
       "    </tr>\n",
       "    <tr>\n",
       "      <th>1</th>\n",
       "      <td>0.0</td>\n",
       "      <td>1.191857</td>\n",
       "      <td>0.266151</td>\n",
       "      <td>0.166480</td>\n",
       "      <td>0.448154</td>\n",
       "      <td>0.060018</td>\n",
       "      <td>-0.082361</td>\n",
       "      <td>-0.078803</td>\n",
       "      <td>0.085102</td>\n",
       "      <td>-0.255425</td>\n",
       "      <td>-0.166974</td>\n",
       "      <td>1.612727</td>\n",
       "      <td>1.065235</td>\n",
       "      <td>0.489095</td>\n",
       "      <td>-0.143772</td>\n",
       "      <td>0.635558</td>\n",
       "      <td>0.463917</td>\n",
       "      <td>-0.114805</td>\n",
       "      <td>-0.183361</td>\n",
       "      <td>-0.145783</td>\n",
       "      <td>-0.069083</td>\n",
       "      <td>-0.225775</td>\n",
       "      <td>-0.638672</td>\n",
       "      <td>0.101288</td>\n",
       "      <td>-0.339846</td>\n",
       "      <td>0.167170</td>\n",
       "      <td>0.125895</td>\n",
       "      <td>-0.008983</td>\n",
       "      <td>0.014724</td>\n",
       "      <td>2.69</td>\n",
       "      <td>0</td>\n",
       "      <td>0</td>\n",
       "    </tr>\n",
       "    <tr>\n",
       "      <th>2</th>\n",
       "      <td>1.0</td>\n",
       "      <td>-1.358354</td>\n",
       "      <td>-1.340163</td>\n",
       "      <td>1.773209</td>\n",
       "      <td>0.379780</td>\n",
       "      <td>-0.503198</td>\n",
       "      <td>1.800499</td>\n",
       "      <td>0.791461</td>\n",
       "      <td>0.247676</td>\n",
       "      <td>-1.514654</td>\n",
       "      <td>0.207643</td>\n",
       "      <td>0.624501</td>\n",
       "      <td>0.066084</td>\n",
       "      <td>0.717293</td>\n",
       "      <td>-0.165946</td>\n",
       "      <td>2.345865</td>\n",
       "      <td>-2.890083</td>\n",
       "      <td>1.109969</td>\n",
       "      <td>-0.121359</td>\n",
       "      <td>-2.261857</td>\n",
       "      <td>0.524980</td>\n",
       "      <td>0.247998</td>\n",
       "      <td>0.771679</td>\n",
       "      <td>0.909412</td>\n",
       "      <td>-0.689281</td>\n",
       "      <td>-0.327642</td>\n",
       "      <td>-0.139097</td>\n",
       "      <td>-0.055353</td>\n",
       "      <td>-0.059752</td>\n",
       "      <td>378.66</td>\n",
       "      <td>0</td>\n",
       "      <td>0</td>\n",
       "    </tr>\n",
       "    <tr>\n",
       "      <th>3</th>\n",
       "      <td>1.0</td>\n",
       "      <td>-0.966272</td>\n",
       "      <td>-0.185226</td>\n",
       "      <td>1.792993</td>\n",
       "      <td>-0.863291</td>\n",
       "      <td>-0.010309</td>\n",
       "      <td>1.247203</td>\n",
       "      <td>0.237609</td>\n",
       "      <td>0.377436</td>\n",
       "      <td>-1.387024</td>\n",
       "      <td>-0.054952</td>\n",
       "      <td>-0.226487</td>\n",
       "      <td>0.178228</td>\n",
       "      <td>0.507757</td>\n",
       "      <td>-0.287924</td>\n",
       "      <td>-0.631418</td>\n",
       "      <td>-1.059647</td>\n",
       "      <td>-0.684093</td>\n",
       "      <td>1.965775</td>\n",
       "      <td>-1.232622</td>\n",
       "      <td>-0.208038</td>\n",
       "      <td>-0.108300</td>\n",
       "      <td>0.005274</td>\n",
       "      <td>-0.190321</td>\n",
       "      <td>-1.175575</td>\n",
       "      <td>0.647376</td>\n",
       "      <td>-0.221929</td>\n",
       "      <td>0.062723</td>\n",
       "      <td>0.061458</td>\n",
       "      <td>123.50</td>\n",
       "      <td>0</td>\n",
       "      <td>0</td>\n",
       "    </tr>\n",
       "    <tr>\n",
       "      <th>4</th>\n",
       "      <td>2.0</td>\n",
       "      <td>-1.158233</td>\n",
       "      <td>0.877737</td>\n",
       "      <td>1.548718</td>\n",
       "      <td>0.403034</td>\n",
       "      <td>-0.407193</td>\n",
       "      <td>0.095921</td>\n",
       "      <td>0.592941</td>\n",
       "      <td>-0.270533</td>\n",
       "      <td>0.817739</td>\n",
       "      <td>0.753074</td>\n",
       "      <td>-0.822843</td>\n",
       "      <td>0.538196</td>\n",
       "      <td>1.345852</td>\n",
       "      <td>-1.119670</td>\n",
       "      <td>0.175121</td>\n",
       "      <td>-0.451449</td>\n",
       "      <td>-0.237033</td>\n",
       "      <td>-0.038195</td>\n",
       "      <td>0.803487</td>\n",
       "      <td>0.408542</td>\n",
       "      <td>-0.009431</td>\n",
       "      <td>0.798278</td>\n",
       "      <td>-0.137458</td>\n",
       "      <td>0.141267</td>\n",
       "      <td>-0.206010</td>\n",
       "      <td>0.502292</td>\n",
       "      <td>0.219422</td>\n",
       "      <td>0.215153</td>\n",
       "      <td>69.99</td>\n",
       "      <td>0</td>\n",
       "      <td>0</td>\n",
       "    </tr>\n",
       "  </tbody>\n",
       "</table>\n",
       "</div>"
      ],
      "text/plain": [
       "   Time        V1        V2        V3        V4        V5        V6        V7  \\\n",
       "0   0.0 -1.359807 -0.072781  2.536347  1.378155 -0.338321  0.462388  0.239599   \n",
       "1   0.0  1.191857  0.266151  0.166480  0.448154  0.060018 -0.082361 -0.078803   \n",
       "2   1.0 -1.358354 -1.340163  1.773209  0.379780 -0.503198  1.800499  0.791461   \n",
       "3   1.0 -0.966272 -0.185226  1.792993 -0.863291 -0.010309  1.247203  0.237609   \n",
       "4   2.0 -1.158233  0.877737  1.548718  0.403034 -0.407193  0.095921  0.592941   \n",
       "\n",
       "         V8        V9       V10       V11       V12       V13       V14  \\\n",
       "0  0.098698  0.363787  0.090794 -0.551600 -0.617801 -0.991390 -0.311169   \n",
       "1  0.085102 -0.255425 -0.166974  1.612727  1.065235  0.489095 -0.143772   \n",
       "2  0.247676 -1.514654  0.207643  0.624501  0.066084  0.717293 -0.165946   \n",
       "3  0.377436 -1.387024 -0.054952 -0.226487  0.178228  0.507757 -0.287924   \n",
       "4 -0.270533  0.817739  0.753074 -0.822843  0.538196  1.345852 -1.119670   \n",
       "\n",
       "        V15       V16       V17       V18       V19       V20       V21  \\\n",
       "0  1.468177 -0.470401  0.207971  0.025791  0.403993  0.251412 -0.018307   \n",
       "1  0.635558  0.463917 -0.114805 -0.183361 -0.145783 -0.069083 -0.225775   \n",
       "2  2.345865 -2.890083  1.109969 -0.121359 -2.261857  0.524980  0.247998   \n",
       "3 -0.631418 -1.059647 -0.684093  1.965775 -1.232622 -0.208038 -0.108300   \n",
       "4  0.175121 -0.451449 -0.237033 -0.038195  0.803487  0.408542 -0.009431   \n",
       "\n",
       "        V22       V23       V24       V25       V26       V27       V28  \\\n",
       "0  0.277838 -0.110474  0.066928  0.128539 -0.189115  0.133558 -0.021053   \n",
       "1 -0.638672  0.101288 -0.339846  0.167170  0.125895 -0.008983  0.014724   \n",
       "2  0.771679  0.909412 -0.689281 -0.327642 -0.139097 -0.055353 -0.059752   \n",
       "3  0.005274 -0.190321 -1.175575  0.647376 -0.221929  0.062723  0.061458   \n",
       "4  0.798278 -0.137458  0.141267 -0.206010  0.502292  0.219422  0.215153   \n",
       "\n",
       "   Amount  Class  Amount_max_fraud  \n",
       "0  149.62      0                 0  \n",
       "1    2.69      0                 0  \n",
       "2  378.66      0                 0  \n",
       "3  123.50      0                 0  \n",
       "4   69.99      0                 0  "
      ]
     },
     "execution_count": 44,
     "metadata": {},
     "output_type": "execute_result"
    }
   ],
   "source": [
    "#data['Normal']=1-data['Class'], instead I am converting Class to categorical\n",
    "data['Amount_max_fraud'] = 1\n",
    "data.loc[data.Amount <= 2125.87, 'Amount_max_fraud'] = 0\n",
    "data.head()"
   ]
  },
  {
   "cell_type": "markdown",
   "metadata": {},
   "source": [
    "Train-Test 데이터를 나눌 때, 사기/보통 거래의 비율을 같게하기 위해 **Class 칼럼을 계층화(Stratify)**합니다. 여기에선 Validation 셋을 쓰지 않겠습니다."
   ]
  },
  {
   "cell_type": "code",
   "execution_count": 45,
   "metadata": {
    "_cell_guid": "b2967228-de84-4f0a-b1bb-502d3d45c28d",
    "_uuid": "87e7f5a83c48a98ae52cc55cf805cdf9a57d8426"
   },
   "outputs": [],
   "source": [
    "train,test=train_test_split(data,test_size=0.2,random_state=0,stratify=data['Class'])# stratify the Class"
   ]
  },
  {
   "cell_type": "code",
   "execution_count": 46,
   "metadata": {
    "_cell_guid": "0c2923f1-59a3-45b5-ab73-1ffc250ddf40",
    "_uuid": "0c430eecba7217f93d1ea970249fbbe85cd5f137",
    "scrolled": false
   },
   "outputs": [
    {
     "name": "stdout",
     "output_type": "stream",
     "text": [
      "0    227451\n",
      "1       394\n",
      "Name: Class, dtype: int64\n",
      "0    56864\n",
      "1       98\n",
      "Name: Class, dtype: int64\n"
     ]
    }
   ],
   "source": [
    "count_train = pd.value_counts(train['Class'], sort = True).sort_index()\n",
    "count_test = pd.value_counts(test['Class'], sort = True).sort_index()\n",
    "print(count_train) \n",
    "print(count_test)"
   ]
  },
  {
   "cell_type": "code",
   "execution_count": 47,
   "metadata": {},
   "outputs": [
    {
     "name": "stdout",
     "output_type": "stream",
     "text": [
      "0.001729245759178389\n",
      "0.0017204452090867595\n"
     ]
    }
   ],
   "source": [
    "print(count_train[1] / (count_train[0] + count_train[1])) # Fraud/Nomal Ratio\n",
    "print(count_test[1] / (count_test[0] + count_test[1])) # Fraud/Nomal Ratio"
   ]
  },
  {
   "cell_type": "markdown",
   "metadata": {},
   "source": [
    "타겟 칼럼(Class)를 입력 데이터셋에서 삭제(Drop)합니다."
   ]
  },
  {
   "cell_type": "code",
   "execution_count": 48,
   "metadata": {
    "_cell_guid": "78dcafd6-c7e5-4396-b4f4-cba7ae30de9f",
    "_uuid": "e9eb5647ea9a1daf4f91f4577f3d4d0e8064f096"
   },
   "outputs": [],
   "source": [
    "X_train = train.drop(['Class'], axis = 1)\n",
    "X_test = test.drop(['Class'], axis = 1)"
   ]
  },
  {
   "cell_type": "code",
   "execution_count": 49,
   "metadata": {},
   "outputs": [
    {
     "data": {
      "text/html": [
       "<div>\n",
       "<style scoped>\n",
       "    .dataframe tbody tr th:only-of-type {\n",
       "        vertical-align: middle;\n",
       "    }\n",
       "\n",
       "    .dataframe tbody tr th {\n",
       "        vertical-align: top;\n",
       "    }\n",
       "\n",
       "    .dataframe thead th {\n",
       "        text-align: right;\n",
       "    }\n",
       "</style>\n",
       "<table border=\"1\" class=\"dataframe\">\n",
       "  <thead>\n",
       "    <tr style=\"text-align: right;\">\n",
       "      <th></th>\n",
       "      <th>Time</th>\n",
       "      <th>V1</th>\n",
       "      <th>V2</th>\n",
       "      <th>V3</th>\n",
       "      <th>V4</th>\n",
       "      <th>V5</th>\n",
       "      <th>V6</th>\n",
       "      <th>V7</th>\n",
       "      <th>V8</th>\n",
       "      <th>V9</th>\n",
       "      <th>V10</th>\n",
       "      <th>V11</th>\n",
       "      <th>V12</th>\n",
       "      <th>V13</th>\n",
       "      <th>V14</th>\n",
       "      <th>V15</th>\n",
       "      <th>V16</th>\n",
       "      <th>V17</th>\n",
       "      <th>V18</th>\n",
       "      <th>V19</th>\n",
       "      <th>V20</th>\n",
       "      <th>V21</th>\n",
       "      <th>V22</th>\n",
       "      <th>V23</th>\n",
       "      <th>V24</th>\n",
       "      <th>V25</th>\n",
       "      <th>V26</th>\n",
       "      <th>V27</th>\n",
       "      <th>V28</th>\n",
       "      <th>Amount</th>\n",
       "      <th>Amount_max_fraud</th>\n",
       "    </tr>\n",
       "  </thead>\n",
       "  <tbody>\n",
       "    <tr>\n",
       "      <th>36001</th>\n",
       "      <td>38355.0</td>\n",
       "      <td>1.043949</td>\n",
       "      <td>0.318555</td>\n",
       "      <td>1.045810</td>\n",
       "      <td>2.805989</td>\n",
       "      <td>-0.561113</td>\n",
       "      <td>-0.367956</td>\n",
       "      <td>0.032736</td>\n",
       "      <td>-0.042333</td>\n",
       "      <td>-0.322674</td>\n",
       "      <td>0.499167</td>\n",
       "      <td>-0.572665</td>\n",
       "      <td>0.346009</td>\n",
       "      <td>-0.047407</td>\n",
       "      <td>-0.098964</td>\n",
       "      <td>-0.663284</td>\n",
       "      <td>0.181411</td>\n",
       "      <td>-0.124345</td>\n",
       "      <td>-0.790453</td>\n",
       "      <td>-0.720944</td>\n",
       "      <td>-0.084556</td>\n",
       "      <td>-0.240105</td>\n",
       "      <td>-0.680315</td>\n",
       "      <td>0.085328</td>\n",
       "      <td>0.684812</td>\n",
       "      <td>0.318620</td>\n",
       "      <td>-0.204963</td>\n",
       "      <td>0.001662</td>\n",
       "      <td>0.037894</td>\n",
       "      <td>49.67</td>\n",
       "      <td>0</td>\n",
       "    </tr>\n",
       "    <tr>\n",
       "      <th>12844</th>\n",
       "      <td>22555.0</td>\n",
       "      <td>-1.665159</td>\n",
       "      <td>0.808440</td>\n",
       "      <td>1.805627</td>\n",
       "      <td>1.903416</td>\n",
       "      <td>-0.821627</td>\n",
       "      <td>0.934790</td>\n",
       "      <td>-0.824802</td>\n",
       "      <td>0.975890</td>\n",
       "      <td>1.747469</td>\n",
       "      <td>-0.658751</td>\n",
       "      <td>1.281502</td>\n",
       "      <td>-1.430087</td>\n",
       "      <td>0.372028</td>\n",
       "      <td>1.403024</td>\n",
       "      <td>-2.739413</td>\n",
       "      <td>-1.331766</td>\n",
       "      <td>1.964590</td>\n",
       "      <td>-0.205639</td>\n",
       "      <td>1.325588</td>\n",
       "      <td>-0.373759</td>\n",
       "      <td>-0.335332</td>\n",
       "      <td>-0.510994</td>\n",
       "      <td>0.035839</td>\n",
       "      <td>0.147565</td>\n",
       "      <td>-0.529358</td>\n",
       "      <td>-0.566950</td>\n",
       "      <td>-0.595998</td>\n",
       "      <td>-0.220086</td>\n",
       "      <td>16.94</td>\n",
       "      <td>0</td>\n",
       "    </tr>\n",
       "    <tr>\n",
       "      <th>2873</th>\n",
       "      <td>2431.0</td>\n",
       "      <td>-0.324096</td>\n",
       "      <td>0.601836</td>\n",
       "      <td>0.865329</td>\n",
       "      <td>-2.138000</td>\n",
       "      <td>0.294663</td>\n",
       "      <td>-1.251553</td>\n",
       "      <td>1.072114</td>\n",
       "      <td>-0.334896</td>\n",
       "      <td>1.071268</td>\n",
       "      <td>-1.109522</td>\n",
       "      <td>-1.016020</td>\n",
       "      <td>-0.654945</td>\n",
       "      <td>-1.473470</td>\n",
       "      <td>0.317345</td>\n",
       "      <td>1.067491</td>\n",
       "      <td>-0.372642</td>\n",
       "      <td>-0.674725</td>\n",
       "      <td>0.369841</td>\n",
       "      <td>0.095583</td>\n",
       "      <td>-0.039868</td>\n",
       "      <td>0.012220</td>\n",
       "      <td>0.352856</td>\n",
       "      <td>-0.341505</td>\n",
       "      <td>-0.145791</td>\n",
       "      <td>0.094194</td>\n",
       "      <td>-0.804026</td>\n",
       "      <td>0.229428</td>\n",
       "      <td>-0.021623</td>\n",
       "      <td>1.00</td>\n",
       "      <td>0</td>\n",
       "    </tr>\n",
       "    <tr>\n",
       "      <th>145263</th>\n",
       "      <td>86773.0</td>\n",
       "      <td>-0.258270</td>\n",
       "      <td>1.217501</td>\n",
       "      <td>-0.585348</td>\n",
       "      <td>-0.875347</td>\n",
       "      <td>1.222481</td>\n",
       "      <td>-0.311027</td>\n",
       "      <td>1.073860</td>\n",
       "      <td>-0.161408</td>\n",
       "      <td>0.200665</td>\n",
       "      <td>0.154307</td>\n",
       "      <td>0.882673</td>\n",
       "      <td>0.547890</td>\n",
       "      <td>0.269484</td>\n",
       "      <td>-1.253302</td>\n",
       "      <td>-0.883963</td>\n",
       "      <td>0.495221</td>\n",
       "      <td>-0.153212</td>\n",
       "      <td>0.296710</td>\n",
       "      <td>0.136148</td>\n",
       "      <td>0.382305</td>\n",
       "      <td>-0.424626</td>\n",
       "      <td>-0.781158</td>\n",
       "      <td>0.019316</td>\n",
       "      <td>0.178614</td>\n",
       "      <td>-0.315616</td>\n",
       "      <td>0.096665</td>\n",
       "      <td>0.269740</td>\n",
       "      <td>-0.020635</td>\n",
       "      <td>10.78</td>\n",
       "      <td>0</td>\n",
       "    </tr>\n",
       "    <tr>\n",
       "      <th>186658</th>\n",
       "      <td>127202.0</td>\n",
       "      <td>2.142162</td>\n",
       "      <td>-0.494988</td>\n",
       "      <td>-1.936511</td>\n",
       "      <td>-0.818288</td>\n",
       "      <td>-0.025213</td>\n",
       "      <td>-1.027245</td>\n",
       "      <td>-0.151627</td>\n",
       "      <td>-0.305750</td>\n",
       "      <td>-0.869482</td>\n",
       "      <td>0.428729</td>\n",
       "      <td>1.136666</td>\n",
       "      <td>0.273476</td>\n",
       "      <td>0.697123</td>\n",
       "      <td>-1.222134</td>\n",
       "      <td>-0.938820</td>\n",
       "      <td>1.298149</td>\n",
       "      <td>0.912921</td>\n",
       "      <td>-0.793721</td>\n",
       "      <td>1.064984</td>\n",
       "      <td>0.106592</td>\n",
       "      <td>0.010115</td>\n",
       "      <td>0.021722</td>\n",
       "      <td>0.079463</td>\n",
       "      <td>-0.480899</td>\n",
       "      <td>0.023846</td>\n",
       "      <td>-0.279076</td>\n",
       "      <td>-0.030121</td>\n",
       "      <td>-0.043888</td>\n",
       "      <td>39.96</td>\n",
       "      <td>0</td>\n",
       "    </tr>\n",
       "    <tr>\n",
       "      <th>34271</th>\n",
       "      <td>37590.0</td>\n",
       "      <td>-6.341667</td>\n",
       "      <td>1.192815</td>\n",
       "      <td>-3.686579</td>\n",
       "      <td>-2.754006</td>\n",
       "      <td>-5.007164</td>\n",
       "      <td>3.988118</td>\n",
       "      <td>1.693606</td>\n",
       "      <td>-13.577522</td>\n",
       "      <td>2.557965</td>\n",
       "      <td>-0.931438</td>\n",
       "      <td>-1.189333</td>\n",
       "      <td>0.762725</td>\n",
       "      <td>-0.517857</td>\n",
       "      <td>0.067279</td>\n",
       "      <td>-0.099498</td>\n",
       "      <td>0.837768</td>\n",
       "      <td>-0.156679</td>\n",
       "      <td>-0.402600</td>\n",
       "      <td>-0.238742</td>\n",
       "      <td>-7.171342</td>\n",
       "      <td>9.779321</td>\n",
       "      <td>-3.660198</td>\n",
       "      <td>-1.507217</td>\n",
       "      <td>-0.179185</td>\n",
       "      <td>0.002092</td>\n",
       "      <td>-0.019168</td>\n",
       "      <td>3.611243</td>\n",
       "      <td>-0.894494</td>\n",
       "      <td>1437.08</td>\n",
       "      <td>0</td>\n",
       "    </tr>\n",
       "    <tr>\n",
       "      <th>76782</th>\n",
       "      <td>56739.0</td>\n",
       "      <td>-0.463928</td>\n",
       "      <td>0.204745</td>\n",
       "      <td>2.795734</td>\n",
       "      <td>1.546200</td>\n",
       "      <td>-0.720374</td>\n",
       "      <td>1.108212</td>\n",
       "      <td>-0.581133</td>\n",
       "      <td>0.544075</td>\n",
       "      <td>1.099843</td>\n",
       "      <td>-0.653523</td>\n",
       "      <td>-1.420838</td>\n",
       "      <td>0.427211</td>\n",
       "      <td>-0.436201</td>\n",
       "      <td>-1.055012</td>\n",
       "      <td>-1.225903</td>\n",
       "      <td>-1.179268</td>\n",
       "      <td>0.846734</td>\n",
       "      <td>-0.374502</td>\n",
       "      <td>0.623190</td>\n",
       "      <td>-0.052393</td>\n",
       "      <td>0.094431</td>\n",
       "      <td>0.788161</td>\n",
       "      <td>-0.100344</td>\n",
       "      <td>0.126248</td>\n",
       "      <td>-0.461584</td>\n",
       "      <td>-0.200985</td>\n",
       "      <td>0.280168</td>\n",
       "      <td>0.180046</td>\n",
       "      <td>11.10</td>\n",
       "      <td>0</td>\n",
       "    </tr>\n",
       "    <tr>\n",
       "      <th>1169</th>\n",
       "      <td>912.0</td>\n",
       "      <td>-1.394619</td>\n",
       "      <td>0.554224</td>\n",
       "      <td>-0.617805</td>\n",
       "      <td>-0.313706</td>\n",
       "      <td>2.157413</td>\n",
       "      <td>3.537534</td>\n",
       "      <td>-0.567305</td>\n",
       "      <td>1.380888</td>\n",
       "      <td>-0.112291</td>\n",
       "      <td>0.107269</td>\n",
       "      <td>-0.637728</td>\n",
       "      <td>0.099510</td>\n",
       "      <td>-0.062533</td>\n",
       "      <td>0.254824</td>\n",
       "      <td>0.318805</td>\n",
       "      <td>-0.335245</td>\n",
       "      <td>0.052870</td>\n",
       "      <td>0.048783</td>\n",
       "      <td>1.654699</td>\n",
       "      <td>0.336595</td>\n",
       "      <td>-0.196300</td>\n",
       "      <td>-0.546172</td>\n",
       "      <td>-0.124758</td>\n",
       "      <td>1.046780</td>\n",
       "      <td>-0.089474</td>\n",
       "      <td>0.363674</td>\n",
       "      <td>0.215692</td>\n",
       "      <td>0.225698</td>\n",
       "      <td>24.08</td>\n",
       "      <td>0</td>\n",
       "    </tr>\n",
       "    <tr>\n",
       "      <th>282674</th>\n",
       "      <td>171058.0</td>\n",
       "      <td>-2.121785</td>\n",
       "      <td>-1.518485</td>\n",
       "      <td>2.667942</td>\n",
       "      <td>-2.458839</td>\n",
       "      <td>-1.414952</td>\n",
       "      <td>0.807935</td>\n",
       "      <td>-1.870160</td>\n",
       "      <td>0.516477</td>\n",
       "      <td>-0.553359</td>\n",
       "      <td>0.645799</td>\n",
       "      <td>-0.514941</td>\n",
       "      <td>0.618199</td>\n",
       "      <td>1.461221</td>\n",
       "      <td>-2.116306</td>\n",
       "      <td>-3.244732</td>\n",
       "      <td>-0.345286</td>\n",
       "      <td>0.368870</td>\n",
       "      <td>0.699637</td>\n",
       "      <td>0.031145</td>\n",
       "      <td>-0.684797</td>\n",
       "      <td>-0.079591</td>\n",
       "      <td>0.659885</td>\n",
       "      <td>-1.000976</td>\n",
       "      <td>-0.212991</td>\n",
       "      <td>0.420722</td>\n",
       "      <td>-0.019645</td>\n",
       "      <td>-0.482792</td>\n",
       "      <td>-0.407780</td>\n",
       "      <td>28.00</td>\n",
       "      <td>0</td>\n",
       "    </tr>\n",
       "    <tr>\n",
       "      <th>130872</th>\n",
       "      <td>79450.0</td>\n",
       "      <td>-2.254788</td>\n",
       "      <td>-0.955967</td>\n",
       "      <td>0.590596</td>\n",
       "      <td>0.114744</td>\n",
       "      <td>-5.876531</td>\n",
       "      <td>3.364858</td>\n",
       "      <td>6.365904</td>\n",
       "      <td>-1.252960</td>\n",
       "      <td>0.243849</td>\n",
       "      <td>-1.637022</td>\n",
       "      <td>-0.626434</td>\n",
       "      <td>0.105457</td>\n",
       "      <td>0.859541</td>\n",
       "      <td>-1.306715</td>\n",
       "      <td>-0.724693</td>\n",
       "      <td>0.553933</td>\n",
       "      <td>-0.590110</td>\n",
       "      <td>-0.471491</td>\n",
       "      <td>-0.291435</td>\n",
       "      <td>-0.772127</td>\n",
       "      <td>-0.601908</td>\n",
       "      <td>-0.092918</td>\n",
       "      <td>0.517855</td>\n",
       "      <td>0.534361</td>\n",
       "      <td>0.494493</td>\n",
       "      <td>0.301414</td>\n",
       "      <td>0.507071</td>\n",
       "      <td>-0.560888</td>\n",
       "      <td>1354.98</td>\n",
       "      <td>0</td>\n",
       "    </tr>\n",
       "  </tbody>\n",
       "</table>\n",
       "</div>"
      ],
      "text/plain": [
       "            Time        V1        V2        V3        V4        V5        V6  \\\n",
       "36001    38355.0  1.043949  0.318555  1.045810  2.805989 -0.561113 -0.367956   \n",
       "12844    22555.0 -1.665159  0.808440  1.805627  1.903416 -0.821627  0.934790   \n",
       "2873      2431.0 -0.324096  0.601836  0.865329 -2.138000  0.294663 -1.251553   \n",
       "145263   86773.0 -0.258270  1.217501 -0.585348 -0.875347  1.222481 -0.311027   \n",
       "186658  127202.0  2.142162 -0.494988 -1.936511 -0.818288 -0.025213 -1.027245   \n",
       "34271    37590.0 -6.341667  1.192815 -3.686579 -2.754006 -5.007164  3.988118   \n",
       "76782    56739.0 -0.463928  0.204745  2.795734  1.546200 -0.720374  1.108212   \n",
       "1169       912.0 -1.394619  0.554224 -0.617805 -0.313706  2.157413  3.537534   \n",
       "282674  171058.0 -2.121785 -1.518485  2.667942 -2.458839 -1.414952  0.807935   \n",
       "130872   79450.0 -2.254788 -0.955967  0.590596  0.114744 -5.876531  3.364858   \n",
       "\n",
       "              V7         V8        V9       V10       V11       V12       V13  \\\n",
       "36001   0.032736  -0.042333 -0.322674  0.499167 -0.572665  0.346009 -0.047407   \n",
       "12844  -0.824802   0.975890  1.747469 -0.658751  1.281502 -1.430087  0.372028   \n",
       "2873    1.072114  -0.334896  1.071268 -1.109522 -1.016020 -0.654945 -1.473470   \n",
       "145263  1.073860  -0.161408  0.200665  0.154307  0.882673  0.547890  0.269484   \n",
       "186658 -0.151627  -0.305750 -0.869482  0.428729  1.136666  0.273476  0.697123   \n",
       "34271   1.693606 -13.577522  2.557965 -0.931438 -1.189333  0.762725 -0.517857   \n",
       "76782  -0.581133   0.544075  1.099843 -0.653523 -1.420838  0.427211 -0.436201   \n",
       "1169   -0.567305   1.380888 -0.112291  0.107269 -0.637728  0.099510 -0.062533   \n",
       "282674 -1.870160   0.516477 -0.553359  0.645799 -0.514941  0.618199  1.461221   \n",
       "130872  6.365904  -1.252960  0.243849 -1.637022 -0.626434  0.105457  0.859541   \n",
       "\n",
       "             V14       V15       V16       V17       V18       V19       V20  \\\n",
       "36001  -0.098964 -0.663284  0.181411 -0.124345 -0.790453 -0.720944 -0.084556   \n",
       "12844   1.403024 -2.739413 -1.331766  1.964590 -0.205639  1.325588 -0.373759   \n",
       "2873    0.317345  1.067491 -0.372642 -0.674725  0.369841  0.095583 -0.039868   \n",
       "145263 -1.253302 -0.883963  0.495221 -0.153212  0.296710  0.136148  0.382305   \n",
       "186658 -1.222134 -0.938820  1.298149  0.912921 -0.793721  1.064984  0.106592   \n",
       "34271   0.067279 -0.099498  0.837768 -0.156679 -0.402600 -0.238742 -7.171342   \n",
       "76782  -1.055012 -1.225903 -1.179268  0.846734 -0.374502  0.623190 -0.052393   \n",
       "1169    0.254824  0.318805 -0.335245  0.052870  0.048783  1.654699  0.336595   \n",
       "282674 -2.116306 -3.244732 -0.345286  0.368870  0.699637  0.031145 -0.684797   \n",
       "130872 -1.306715 -0.724693  0.553933 -0.590110 -0.471491 -0.291435 -0.772127   \n",
       "\n",
       "             V21       V22       V23       V24       V25       V26       V27  \\\n",
       "36001  -0.240105 -0.680315  0.085328  0.684812  0.318620 -0.204963  0.001662   \n",
       "12844  -0.335332 -0.510994  0.035839  0.147565 -0.529358 -0.566950 -0.595998   \n",
       "2873    0.012220  0.352856 -0.341505 -0.145791  0.094194 -0.804026  0.229428   \n",
       "145263 -0.424626 -0.781158  0.019316  0.178614 -0.315616  0.096665  0.269740   \n",
       "186658  0.010115  0.021722  0.079463 -0.480899  0.023846 -0.279076 -0.030121   \n",
       "34271   9.779321 -3.660198 -1.507217 -0.179185  0.002092 -0.019168  3.611243   \n",
       "76782   0.094431  0.788161 -0.100344  0.126248 -0.461584 -0.200985  0.280168   \n",
       "1169   -0.196300 -0.546172 -0.124758  1.046780 -0.089474  0.363674  0.215692   \n",
       "282674 -0.079591  0.659885 -1.000976 -0.212991  0.420722 -0.019645 -0.482792   \n",
       "130872 -0.601908 -0.092918  0.517855  0.534361  0.494493  0.301414  0.507071   \n",
       "\n",
       "             V28   Amount  Amount_max_fraud  \n",
       "36001   0.037894    49.67                 0  \n",
       "12844  -0.220086    16.94                 0  \n",
       "2873   -0.021623     1.00                 0  \n",
       "145263 -0.020635    10.78                 0  \n",
       "186658 -0.043888    39.96                 0  \n",
       "34271  -0.894494  1437.08                 0  \n",
       "76782   0.180046    11.10                 0  \n",
       "1169    0.225698    24.08                 0  \n",
       "282674 -0.407780    28.00                 0  \n",
       "130872 -0.560888  1354.98                 0  "
      ]
     },
     "execution_count": 49,
     "metadata": {},
     "output_type": "execute_result"
    }
   ],
   "source": [
    "X_train.head(n=10)"
   ]
  },
  {
   "cell_type": "markdown",
   "metadata": {},
   "source": [
    "그리고 타겟을 정의합니다."
   ]
  },
  {
   "cell_type": "code",
   "execution_count": 50,
   "metadata": {
    "_cell_guid": "952ab8e5-cccd-4188-8690-c33e405545d4",
    "_uuid": "7ae50c4c16bf36e9b001f658909116004a86aed3"
   },
   "outputs": [],
   "source": [
    "Y_train = train.loc[:, ['Class']]\n",
    "Y_test = test.loc[:, ['Class']]"
   ]
  },
  {
   "cell_type": "code",
   "execution_count": 51,
   "metadata": {
    "_cell_guid": "5c03b27c-581a-452b-86dd-ae4ce2b37877",
    "_uuid": "92cce9a63827d1a9e11bc143b46f605f3879eeae"
   },
   "outputs": [
    {
     "name": "stdout",
     "output_type": "stream",
     "text": [
      "(227845, 31)\n",
      "(227845, 1)\n",
      "(56962, 31)\n",
      "(56962, 1)\n"
     ]
    }
   ],
   "source": [
    "# Just sanity check\n",
    "print(np.shape(X_train))\n",
    "print(np.shape(Y_train))\n",
    "print(np.shape(X_test))\n",
    "print(np.shape(Y_test))"
   ]
  },
  {
   "cell_type": "markdown",
   "metadata": {},
   "source": [
    "이번엔 Y_train과 Y_Test를 2개의 클래스를 가지는 Categorical Values로 변환합니다."
   ]
  },
  {
   "cell_type": "code",
   "execution_count": 52,
   "metadata": {
    "_cell_guid": "94bb1a46-193f-47fd-bf1f-f0e917492298",
    "_uuid": "add388ac1620f9fb2eb1850b35a81411c30055a6"
   },
   "outputs": [],
   "source": [
    "Y_train = to_categorical(Y_train, num_classes = 2)\n",
    "Y_test = to_categorical(Y_test, num_classes = 2)"
   ]
  },
  {
   "cell_type": "code",
   "execution_count": 53,
   "metadata": {},
   "outputs": [
    {
     "data": {
      "text/plain": [
       "array([[0., 1.],\n",
       "       [1., 0.]], dtype=float32)"
      ]
     },
     "execution_count": 53,
     "metadata": {},
     "output_type": "execute_result"
    }
   ],
   "source": [
    "np.unique(Y_train, axis=0)"
   ]
  },
  {
   "cell_type": "markdown",
   "metadata": {},
   "source": [
    "입력 데이터셋에 정규화(Centering and Scaling)를 적용합니다."
   ]
  },
  {
   "cell_type": "code",
   "execution_count": 54,
   "metadata": {
    "_cell_guid": "9136cfd3-7e69-4fdf-a658-d0677cb32e26",
    "_uuid": "94754afc163a673cfc20a64ae01032d0b6e60454"
   },
   "outputs": [],
   "source": [
    "#Names of all of the features in X_train.\n",
    "features = X_train.columns.values\n",
    "\n",
    "for feature in features:\n",
    "    mean, std = data[feature].mean(), data[feature].std()\n",
    "    X_train.loc[:, feature] = (X_train[feature] - mean) / std\n",
    "    X_test.loc[:, feature] = (X_test[feature] - mean) / std"
   ]
  },
  {
   "cell_type": "code",
   "execution_count": 55,
   "metadata": {},
   "outputs": [
    {
     "data": {
      "text/html": [
       "<div>\n",
       "<style scoped>\n",
       "    .dataframe tbody tr th:only-of-type {\n",
       "        vertical-align: middle;\n",
       "    }\n",
       "\n",
       "    .dataframe tbody tr th {\n",
       "        vertical-align: top;\n",
       "    }\n",
       "\n",
       "    .dataframe thead th {\n",
       "        text-align: right;\n",
       "    }\n",
       "</style>\n",
       "<table border=\"1\" class=\"dataframe\">\n",
       "  <thead>\n",
       "    <tr style=\"text-align: right;\">\n",
       "      <th></th>\n",
       "      <th>Time</th>\n",
       "      <th>V1</th>\n",
       "      <th>V2</th>\n",
       "      <th>V3</th>\n",
       "      <th>V4</th>\n",
       "      <th>V5</th>\n",
       "      <th>V6</th>\n",
       "      <th>V7</th>\n",
       "      <th>V8</th>\n",
       "      <th>V9</th>\n",
       "      <th>V10</th>\n",
       "      <th>V11</th>\n",
       "      <th>V12</th>\n",
       "      <th>V13</th>\n",
       "      <th>V14</th>\n",
       "      <th>V15</th>\n",
       "      <th>V16</th>\n",
       "      <th>V17</th>\n",
       "      <th>V18</th>\n",
       "      <th>V19</th>\n",
       "      <th>V20</th>\n",
       "      <th>V21</th>\n",
       "      <th>V22</th>\n",
       "      <th>V23</th>\n",
       "      <th>V24</th>\n",
       "      <th>V25</th>\n",
       "      <th>V26</th>\n",
       "      <th>V27</th>\n",
       "      <th>V28</th>\n",
       "      <th>Amount</th>\n",
       "      <th>Amount_max_fraud</th>\n",
       "    </tr>\n",
       "  </thead>\n",
       "  <tbody>\n",
       "    <tr>\n",
       "      <th>count</th>\n",
       "      <td>56962.000000</td>\n",
       "      <td>56962.000000</td>\n",
       "      <td>56962.000000</td>\n",
       "      <td>56962.000000</td>\n",
       "      <td>56962.000000</td>\n",
       "      <td>56962.000000</td>\n",
       "      <td>56962.000000</td>\n",
       "      <td>56962.000000</td>\n",
       "      <td>56962.000000</td>\n",
       "      <td>56962.000000</td>\n",
       "      <td>56962.000000</td>\n",
       "      <td>56962.000000</td>\n",
       "      <td>56962.000000</td>\n",
       "      <td>56962.000000</td>\n",
       "      <td>56962.000000</td>\n",
       "      <td>56962.000000</td>\n",
       "      <td>56962.000000</td>\n",
       "      <td>56962.000000</td>\n",
       "      <td>56962.000000</td>\n",
       "      <td>56962.000000</td>\n",
       "      <td>56962.000000</td>\n",
       "      <td>56962.000000</td>\n",
       "      <td>56962.000000</td>\n",
       "      <td>56962.000000</td>\n",
       "      <td>56962.000000</td>\n",
       "      <td>56962.000000</td>\n",
       "      <td>56962.000000</td>\n",
       "      <td>56962.000000</td>\n",
       "      <td>56962.000000</td>\n",
       "      <td>56962.000000</td>\n",
       "      <td>56962.000000</td>\n",
       "    </tr>\n",
       "    <tr>\n",
       "      <th>mean</th>\n",
       "      <td>0.005139</td>\n",
       "      <td>0.006783</td>\n",
       "      <td>0.004003</td>\n",
       "      <td>-0.002811</td>\n",
       "      <td>0.001057</td>\n",
       "      <td>-0.002541</td>\n",
       "      <td>-0.002311</td>\n",
       "      <td>0.000114</td>\n",
       "      <td>-0.005443</td>\n",
       "      <td>0.001423</td>\n",
       "      <td>0.002917</td>\n",
       "      <td>-0.008161</td>\n",
       "      <td>-0.000041</td>\n",
       "      <td>-0.000321</td>\n",
       "      <td>-0.003872</td>\n",
       "      <td>0.003222</td>\n",
       "      <td>-0.001978</td>\n",
       "      <td>0.000035</td>\n",
       "      <td>0.003967</td>\n",
       "      <td>0.000940</td>\n",
       "      <td>-0.003482</td>\n",
       "      <td>-0.003067</td>\n",
       "      <td>-0.006804</td>\n",
       "      <td>0.006418</td>\n",
       "      <td>-0.001680</td>\n",
       "      <td>-0.001673</td>\n",
       "      <td>0.009358</td>\n",
       "      <td>0.003430</td>\n",
       "      <td>-0.006029</td>\n",
       "      <td>-0.002762</td>\n",
       "      <td>-0.005195</td>\n",
       "    </tr>\n",
       "    <tr>\n",
       "      <th>std</th>\n",
       "      <td>0.998959</td>\n",
       "      <td>0.991084</td>\n",
       "      <td>0.975726</td>\n",
       "      <td>1.000395</td>\n",
       "      <td>1.002287</td>\n",
       "      <td>1.037301</td>\n",
       "      <td>1.020548</td>\n",
       "      <td>1.052306</td>\n",
       "      <td>1.005681</td>\n",
       "      <td>1.004602</td>\n",
       "      <td>1.005792</td>\n",
       "      <td>0.995285</td>\n",
       "      <td>0.998488</td>\n",
       "      <td>0.999305</td>\n",
       "      <td>0.995902</td>\n",
       "      <td>0.996960</td>\n",
       "      <td>1.002095</td>\n",
       "      <td>0.991084</td>\n",
       "      <td>0.997565</td>\n",
       "      <td>1.006987</td>\n",
       "      <td>0.991601</td>\n",
       "      <td>1.001834</td>\n",
       "      <td>1.006337</td>\n",
       "      <td>0.995456</td>\n",
       "      <td>0.997595</td>\n",
       "      <td>0.999471</td>\n",
       "      <td>0.999232</td>\n",
       "      <td>1.032498</td>\n",
       "      <td>0.986538</td>\n",
       "      <td>1.031676</td>\n",
       "      <td>0.942043</td>\n",
       "    </tr>\n",
       "    <tr>\n",
       "      <th>min</th>\n",
       "      <td>-1.996537</td>\n",
       "      <td>-18.640252</td>\n",
       "      <td>-28.722479</td>\n",
       "      <td>-31.871677</td>\n",
       "      <td>-3.927001</td>\n",
       "      <td>-82.407952</td>\n",
       "      <td>-15.052954</td>\n",
       "      <td>-22.807581</td>\n",
       "      <td>-34.734141</td>\n",
       "      <td>-8.630238</td>\n",
       "      <td>-19.239745</td>\n",
       "      <td>-3.927948</td>\n",
       "      <td>-18.568526</td>\n",
       "      <td>-3.867219</td>\n",
       "      <td>-20.044245</td>\n",
       "      <td>-4.470963</td>\n",
       "      <td>-14.449819</td>\n",
       "      <td>-25.561333</td>\n",
       "      <td>-10.569916</td>\n",
       "      <td>-5.674207</td>\n",
       "      <td>-70.691337</td>\n",
       "      <td>-29.434190</td>\n",
       "      <td>-11.841840</td>\n",
       "      <td>-52.571789</td>\n",
       "      <td>-4.660608</td>\n",
       "      <td>-16.683278</td>\n",
       "      <td>-3.687188</td>\n",
       "      <td>-21.996904</td>\n",
       "      <td>-46.746035</td>\n",
       "      <td>-0.353229</td>\n",
       "      <td>-0.046062</td>\n",
       "    </tr>\n",
       "    <tr>\n",
       "      <th>25%</th>\n",
       "      <td>-0.853426</td>\n",
       "      <td>-0.463875</td>\n",
       "      <td>-0.363474</td>\n",
       "      <td>-0.589585</td>\n",
       "      <td>-0.598655</td>\n",
       "      <td>-0.502851</td>\n",
       "      <td>-0.578069</td>\n",
       "      <td>-0.445477</td>\n",
       "      <td>-0.176824</td>\n",
       "      <td>-0.584429</td>\n",
       "      <td>-0.491456</td>\n",
       "      <td>-0.752641</td>\n",
       "      <td>-0.406027</td>\n",
       "      <td>-0.651183</td>\n",
       "      <td>-0.442192</td>\n",
       "      <td>-0.629025</td>\n",
       "      <td>-0.538465</td>\n",
       "      <td>-0.570989</td>\n",
       "      <td>-0.590404</td>\n",
       "      <td>-0.559835</td>\n",
       "      <td>-0.274473</td>\n",
       "      <td>-0.313414</td>\n",
       "      <td>-0.756551</td>\n",
       "      <td>-0.256508</td>\n",
       "      <td>-0.588789</td>\n",
       "      <td>-0.605699</td>\n",
       "      <td>-0.669323</td>\n",
       "      <td>-0.173930</td>\n",
       "      <td>-0.158599</td>\n",
       "      <td>-0.330780</td>\n",
       "      <td>-0.046062</td>\n",
       "    </tr>\n",
       "    <tr>\n",
       "      <th>50%</th>\n",
       "      <td>-0.201890</td>\n",
       "      <td>0.018508</td>\n",
       "      <td>0.037449</td>\n",
       "      <td>0.112718</td>\n",
       "      <td>-0.015604</td>\n",
       "      <td>-0.037550</td>\n",
       "      <td>-0.209371</td>\n",
       "      <td>0.031651</td>\n",
       "      <td>0.016664</td>\n",
       "      <td>-0.047884</td>\n",
       "      <td>-0.087869</td>\n",
       "      <td>-0.042653</td>\n",
       "      <td>0.140433</td>\n",
       "      <td>-0.013747</td>\n",
       "      <td>0.048731</td>\n",
       "      <td>0.056303</td>\n",
       "      <td>0.075434</td>\n",
       "      <td>-0.078295</td>\n",
       "      <td>-0.006511</td>\n",
       "      <td>0.004373</td>\n",
       "      <td>-0.080084</td>\n",
       "      <td>-0.044081</td>\n",
       "      <td>-0.000454</td>\n",
       "      <td>-0.014947</td>\n",
       "      <td>0.066119</td>\n",
       "      <td>0.034672</td>\n",
       "      <td>-0.099246</td>\n",
       "      <td>0.003594</td>\n",
       "      <td>0.034397</td>\n",
       "      <td>-0.265671</td>\n",
       "      <td>-0.046062</td>\n",
       "    </tr>\n",
       "    <tr>\n",
       "      <th>75%</th>\n",
       "      <td>0.935415</td>\n",
       "      <td>0.673778</td>\n",
       "      <td>0.485168</td>\n",
       "      <td>0.670664</td>\n",
       "      <td>0.521721</td>\n",
       "      <td>0.445901</td>\n",
       "      <td>0.294835</td>\n",
       "      <td>0.460571</td>\n",
       "      <td>0.272035</td>\n",
       "      <td>0.545800</td>\n",
       "      <td>0.416090</td>\n",
       "      <td>0.713728</td>\n",
       "      <td>0.617349</td>\n",
       "      <td>0.671185</td>\n",
       "      <td>0.508547</td>\n",
       "      <td>0.708872</td>\n",
       "      <td>0.594398</td>\n",
       "      <td>0.474034</td>\n",
       "      <td>0.599056</td>\n",
       "      <td>0.563700</td>\n",
       "      <td>0.170239</td>\n",
       "      <td>0.251604</td>\n",
       "      <td>0.722727</td>\n",
       "      <td>0.240184</td>\n",
       "      <td>0.722627</td>\n",
       "      <td>0.669307</td>\n",
       "      <td>0.508652</td>\n",
       "      <td>0.224801</td>\n",
       "      <td>0.234739</td>\n",
       "      <td>-0.043378</td>\n",
       "      <td>-0.046062</td>\n",
       "    </tr>\n",
       "    <tr>\n",
       "      <th>max</th>\n",
       "      <td>1.641907</td>\n",
       "      <td>1.249048</td>\n",
       "      <td>11.446954</td>\n",
       "      <td>2.628480</td>\n",
       "      <td>10.809043</td>\n",
       "      <td>21.022418</td>\n",
       "      <td>55.020053</td>\n",
       "      <td>97.478068</td>\n",
       "      <td>15.307174</td>\n",
       "      <td>9.439610</td>\n",
       "      <td>13.992774</td>\n",
       "      <td>11.775017</td>\n",
       "      <td>4.850326</td>\n",
       "      <td>7.160723</td>\n",
       "      <td>7.742518</td>\n",
       "      <td>9.699100</td>\n",
       "      <td>19.760405</td>\n",
       "      <td>9.105285</td>\n",
       "      <td>4.883746</td>\n",
       "      <td>6.869402</td>\n",
       "      <td>25.613973</td>\n",
       "      <td>30.788496</td>\n",
       "      <td>9.357086</td>\n",
       "      <td>33.314118</td>\n",
       "      <td>7.569671</td>\n",
       "      <td>14.425293</td>\n",
       "      <td>7.293962</td>\n",
       "      <td>78.319259</td>\n",
       "      <td>68.528383</td>\n",
       "      <td>102.362063</td>\n",
       "      <td>21.709793</td>\n",
       "    </tr>\n",
       "  </tbody>\n",
       "</table>\n",
       "</div>"
      ],
      "text/plain": [
       "               Time            V1            V2            V3            V4  \\\n",
       "count  56962.000000  56962.000000  56962.000000  56962.000000  56962.000000   \n",
       "mean       0.005139      0.006783      0.004003     -0.002811      0.001057   \n",
       "std        0.998959      0.991084      0.975726      1.000395      1.002287   \n",
       "min       -1.996537    -18.640252    -28.722479    -31.871677     -3.927001   \n",
       "25%       -0.853426     -0.463875     -0.363474     -0.589585     -0.598655   \n",
       "50%       -0.201890      0.018508      0.037449      0.112718     -0.015604   \n",
       "75%        0.935415      0.673778      0.485168      0.670664      0.521721   \n",
       "max        1.641907      1.249048     11.446954      2.628480     10.809043   \n",
       "\n",
       "                 V5            V6            V7            V8            V9  \\\n",
       "count  56962.000000  56962.000000  56962.000000  56962.000000  56962.000000   \n",
       "mean      -0.002541     -0.002311      0.000114     -0.005443      0.001423   \n",
       "std        1.037301      1.020548      1.052306      1.005681      1.004602   \n",
       "min      -82.407952    -15.052954    -22.807581    -34.734141     -8.630238   \n",
       "25%       -0.502851     -0.578069     -0.445477     -0.176824     -0.584429   \n",
       "50%       -0.037550     -0.209371      0.031651      0.016664     -0.047884   \n",
       "75%        0.445901      0.294835      0.460571      0.272035      0.545800   \n",
       "max       21.022418     55.020053     97.478068     15.307174      9.439610   \n",
       "\n",
       "                V10           V11           V12           V13           V14  \\\n",
       "count  56962.000000  56962.000000  56962.000000  56962.000000  56962.000000   \n",
       "mean       0.002917     -0.008161     -0.000041     -0.000321     -0.003872   \n",
       "std        1.005792      0.995285      0.998488      0.999305      0.995902   \n",
       "min      -19.239745     -3.927948    -18.568526     -3.867219    -20.044245   \n",
       "25%       -0.491456     -0.752641     -0.406027     -0.651183     -0.442192   \n",
       "50%       -0.087869     -0.042653      0.140433     -0.013747      0.048731   \n",
       "75%        0.416090      0.713728      0.617349      0.671185      0.508547   \n",
       "max       13.992774     11.775017      4.850326      7.160723      7.742518   \n",
       "\n",
       "                V15           V16           V17           V18           V19  \\\n",
       "count  56962.000000  56962.000000  56962.000000  56962.000000  56962.000000   \n",
       "mean       0.003222     -0.001978      0.000035      0.003967      0.000940   \n",
       "std        0.996960      1.002095      0.991084      0.997565      1.006987   \n",
       "min       -4.470963    -14.449819    -25.561333    -10.569916     -5.674207   \n",
       "25%       -0.629025     -0.538465     -0.570989     -0.590404     -0.559835   \n",
       "50%        0.056303      0.075434     -0.078295     -0.006511      0.004373   \n",
       "75%        0.708872      0.594398      0.474034      0.599056      0.563700   \n",
       "max        9.699100     19.760405      9.105285      4.883746      6.869402   \n",
       "\n",
       "                V20           V21           V22           V23           V24  \\\n",
       "count  56962.000000  56962.000000  56962.000000  56962.000000  56962.000000   \n",
       "mean      -0.003482     -0.003067     -0.006804      0.006418     -0.001680   \n",
       "std        0.991601      1.001834      1.006337      0.995456      0.997595   \n",
       "min      -70.691337    -29.434190    -11.841840    -52.571789     -4.660608   \n",
       "25%       -0.274473     -0.313414     -0.756551     -0.256508     -0.588789   \n",
       "50%       -0.080084     -0.044081     -0.000454     -0.014947      0.066119   \n",
       "75%        0.170239      0.251604      0.722727      0.240184      0.722627   \n",
       "max       25.613973     30.788496      9.357086     33.314118      7.569671   \n",
       "\n",
       "                V25           V26           V27           V28        Amount  \\\n",
       "count  56962.000000  56962.000000  56962.000000  56962.000000  56962.000000   \n",
       "mean      -0.001673      0.009358      0.003430     -0.006029     -0.002762   \n",
       "std        0.999471      0.999232      1.032498      0.986538      1.031676   \n",
       "min      -16.683278     -3.687188    -21.996904    -46.746035     -0.353229   \n",
       "25%       -0.605699     -0.669323     -0.173930     -0.158599     -0.330780   \n",
       "50%        0.034672     -0.099246      0.003594      0.034397     -0.265671   \n",
       "75%        0.669307      0.508652      0.224801      0.234739     -0.043378   \n",
       "max       14.425293      7.293962     78.319259     68.528383    102.362063   \n",
       "\n",
       "       Amount_max_fraud  \n",
       "count      56962.000000  \n",
       "mean          -0.005195  \n",
       "std            0.942043  \n",
       "min           -0.046062  \n",
       "25%           -0.046062  \n",
       "50%           -0.046062  \n",
       "75%           -0.046062  \n",
       "max           21.709793  "
      ]
     },
     "execution_count": 55,
     "metadata": {},
     "output_type": "execute_result"
    }
   ],
   "source": [
    "X_test.describe()"
   ]
  },
  {
   "cell_type": "markdown",
   "metadata": {},
   "source": [
    "그리고 Kearas 모델을 구축합니다."
   ]
  },
  {
   "cell_type": "code",
   "execution_count": 56,
   "metadata": {
    "_cell_guid": "6c0f7416-412a-4415-94e8-362fa13948ea",
    "_uuid": "9c648e3b03efea588dea1d20893bf148151447f7"
   },
   "outputs": [],
   "source": [
    "# fix random seed for reproducibility\n",
    "np.random.seed(2)"
   ]
  },
  {
   "cell_type": "markdown",
   "metadata": {},
   "source": [
    "5 층 네트워크로 마지막은 결과 레이어로 구성하였습니다. 첫 레이어는 Input Dimension을 X_train 칼럼 수인 31로 하였습니다. 마지막 레이어는 softmax 활성화를 사용하였고 나머지는 relu로 활성화하였습니다. 모든 레이어는 0.9인 dropout을 적용합니다. (각 층의 90%의 정보만 사용한다는 뜻입니다.)"
   ]
  },
  {
   "cell_type": "code",
   "execution_count": 57,
   "metadata": {
    "_cell_guid": "bbf4cf25-3052-4b8f-9ac7-700865de4905",
    "_uuid": "cf449dc135ffd673be7ef9b800df733c6c48831d"
   },
   "outputs": [],
   "source": [
    "model = Sequential()\n",
    "model.add(Dense(64, input_dim=31, activation='relu'))\n",
    "model.add(Dropout(0.9))\n",
    "model.add(Dense(64, activation='relu'))\n",
    "model.add(Dropout(0.9))\n",
    "model.add(Dense(64, activation='relu'))\n",
    "model.add(Dropout(0.9))\n",
    "model.add(Dense(64, activation='relu'))\n",
    "model.add(Dropout(0.9))\n",
    "model.add(Dense(2, activation='softmax'))  # With 2 outputs"
   ]
  },
  {
   "cell_type": "markdown",
   "metadata": {},
   "source": [
    "loss는 binary cross-entropy로, optimizer는 adam으로 모델을 학습할 수 있도록 설정(compile)합니다. 평가기준(metrics)은 정확도(accuracy)로 받습니다."
   ]
  },
  {
   "cell_type": "code",
   "execution_count": 58,
   "metadata": {
    "_cell_guid": "2dec00ca-e47c-4142-89bc-e7a445314ebc",
    "_uuid": "086c950d76895f638b313701200a144fdf3851b6"
   },
   "outputs": [],
   "source": [
    "model.compile(loss='binary_crossentropy', optimizer='adam', metrics=['accuracy'])"
   ]
  },
  {
   "cell_type": "markdown",
   "metadata": {},
   "source": [
    "컴파일된 모델을 Training 데이터로 학습(Fit)합니다. 일단 batch_size 2048로 두고 10 epoch(세대)만 학습합니다."
   ]
  },
  {
   "cell_type": "code",
   "execution_count": 59,
   "metadata": {
    "_cell_guid": "bbbd50fb-41e8-4f71-b497-f8e19038dad0",
    "_uuid": "239658b1175b942a7aa179f8ae8b71dccbcb8f6d"
   },
   "outputs": [
    {
     "name": "stdout",
     "output_type": "stream",
     "text": [
      "Epoch 1/10\n",
      "227845/227845 [==============================] - 1s 6us/step - loss: 0.9423 - acc: 0.8743\n",
      "Epoch 2/10\n",
      "227845/227845 [==============================] - 1s 3us/step - loss: 0.1413 - acc: 0.9813\n",
      "Epoch 3/10\n",
      "227845/227845 [==============================] - 1s 3us/step - loss: 0.0819 - acc: 0.9913\n",
      "Epoch 4/10\n",
      "227845/227845 [==============================] - 1s 3us/step - loss: 0.0606 - acc: 0.9948\n",
      "Epoch 5/10\n",
      "227845/227845 [==============================] - 1s 3us/step - loss: 0.0502 - acc: 0.9960\n",
      "Epoch 6/10\n",
      "227845/227845 [==============================] - 1s 3us/step - loss: 0.0450 - acc: 0.9969\n",
      "Epoch 7/10\n",
      "227845/227845 [==============================] - 1s 3us/step - loss: 0.0402 - acc: 0.9972\n",
      "Epoch 8/10\n",
      "227845/227845 [==============================] - 1s 3us/step - loss: 0.0377 - acc: 0.9976\n",
      "Epoch 9/10\n",
      "227845/227845 [==============================] - 1s 3us/step - loss: 0.0357 - acc: 0.9978\n",
      "Epoch 10/10\n",
      "227845/227845 [==============================] - 1s 3us/step - loss: 0.0346 - acc: 0.9979\n"
     ]
    },
    {
     "data": {
      "text/plain": [
       "<keras.callbacks.History at 0x1f5b800d5f8>"
      ]
     },
     "execution_count": 59,
     "metadata": {},
     "output_type": "execute_result"
    }
   ],
   "source": [
    "epoch = 10\n",
    "batch_size = 2048\n",
    "model.fit(X_train, Y_train, epochs=epoch, batch_size=batch_size)"
   ]
  },
  {
   "cell_type": "code",
   "execution_count": 60,
   "metadata": {
    "_cell_guid": "e45c27c0-1e29-47cf-befe-bba155dd21cf",
    "_uuid": "a6790157aaf0370faa31223ebd4c1faeeaf84f9a"
   },
   "outputs": [
    {
     "name": "stdout",
     "output_type": "stream",
     "text": [
      "56962/56962 [==============================] - 2s 38us/step\n",
      "Test score: 0.027562282392704363\n",
      "Test accuracy: 0.9982795547909132\n"
     ]
    }
   ],
   "source": [
    "score, acc = model.evaluate(X_test, Y_test)\n",
    "print('Test score:', score)\n",
    "print('Test accuracy:', acc)"
   ]
  },
  {
   "cell_type": "markdown",
   "metadata": {},
   "source": [
    "**99.82%의 정확도를 Test에서 얻을 수 있습니다!** 이걸로 충분할까요? 10 epoch 이상으로 적용하면 아마 더 도움이 될 것입니다."
   ]
  },
  {
   "cell_type": "markdown",
   "metadata": {},
   "source": [
    "### Training과 Testing, 그리고 loss vs epoch:\n",
    "\n",
    "일단 모델을 다시 실행하여 Train과 Test의 정확도와 epoch에 따른 loss를 살펴보도록 하겠습니다."
   ]
  },
  {
   "cell_type": "code",
   "execution_count": 66,
   "metadata": {
    "_cell_guid": "1d565b39-10cf-48ee-8dad-98f585dc0b23",
    "_uuid": "c59e2bca8f631eb923808c7a7c845beae3265770"
   },
   "outputs": [
    {
     "name": "stdout",
     "output_type": "stream",
     "text": [
      "Train on 227845 samples, validate on 56962 samples\n",
      "Epoch 1/20\n",
      " - 1s - loss: 0.0118 - acc: 0.9983 - val_loss: 0.0123 - val_acc: 0.9983\n",
      "Epoch 2/20\n",
      " - 1s - loss: 0.0114 - acc: 0.9983 - val_loss: 0.0123 - val_acc: 0.9983\n",
      "Epoch 3/20\n",
      " - 1s - loss: 0.0116 - acc: 0.9983 - val_loss: 0.0121 - val_acc: 0.9983\n",
      "Epoch 4/20\n",
      " - 1s - loss: 0.0112 - acc: 0.9983 - val_loss: 0.0119 - val_acc: 0.9983\n",
      "Epoch 5/20\n",
      " - 1s - loss: 0.0115 - acc: 0.9983 - val_loss: 0.0118 - val_acc: 0.9983\n",
      "Epoch 6/20\n",
      " - 1s - loss: 0.0109 - acc: 0.9983 - val_loss: 0.0118 - val_acc: 0.9983\n",
      "Epoch 7/20\n",
      " - 1s - loss: 0.0111 - acc: 0.9983 - val_loss: 0.0117 - val_acc: 0.9983\n",
      "Epoch 8/20\n",
      " - 1s - loss: 0.0108 - acc: 0.9983 - val_loss: 0.0118 - val_acc: 0.9983\n",
      "Epoch 9/20\n",
      " - 1s - loss: 0.0109 - acc: 0.9983 - val_loss: 0.0119 - val_acc: 0.9983\n",
      "Epoch 10/20\n",
      " - 1s - loss: 0.0106 - acc: 0.9983 - val_loss: 0.0118 - val_acc: 0.9983\n",
      "Epoch 11/20\n",
      " - 1s - loss: 0.0111 - acc: 0.9983 - val_loss: 0.0117 - val_acc: 0.9983\n",
      "Epoch 12/20\n",
      " - 1s - loss: 0.0106 - acc: 0.9983 - val_loss: 0.0117 - val_acc: 0.9983\n",
      "Epoch 13/20\n",
      " - 1s - loss: 0.0106 - acc: 0.9983 - val_loss: 0.0116 - val_acc: 0.9983\n",
      "Epoch 14/20\n",
      " - 1s - loss: 0.0104 - acc: 0.9983 - val_loss: 0.0115 - val_acc: 0.9983\n",
      "Epoch 15/20\n",
      " - 1s - loss: 0.0106 - acc: 0.9983 - val_loss: 0.0117 - val_acc: 0.9983\n",
      "Epoch 16/20\n",
      " - 1s - loss: 0.0106 - acc: 0.9983 - val_loss: 0.0116 - val_acc: 0.9983\n",
      "Epoch 17/20\n",
      " - 1s - loss: 0.0100 - acc: 0.9983 - val_loss: 0.0115 - val_acc: 0.9983\n",
      "Epoch 18/20\n",
      " - 1s - loss: 0.0102 - acc: 0.9983 - val_loss: 0.0115 - val_acc: 0.9983\n",
      "Epoch 19/20\n",
      " - 1s - loss: 0.0101 - acc: 0.9983 - val_loss: 0.0114 - val_acc: 0.9983\n",
      "Epoch 20/20\n",
      " - 1s - loss: 0.0104 - acc: 0.9983 - val_loss: 0.0114 - val_acc: 0.9983\n"
     ]
    }
   ],
   "source": [
    "history = model.fit(X_train, Y_train, batch_size = 2048, epochs = 20, \n",
    "         validation_data = (X_test, Y_test), verbose = 2)"
   ]
  },
  {
   "cell_type": "code",
   "execution_count": 67,
   "metadata": {
    "_cell_guid": "1970b306-ca29-4d69-bef8-78dd0380fc04",
    "_uuid": "10b4e95a8da3549bac6c619f8e3a42a79523d11d"
   },
   "outputs": [
    {
     "data": {
      "text/plain": [
       "dict_keys(['val_loss', 'val_acc', 'loss', 'acc'])"
      ]
     },
     "execution_count": 67,
     "metadata": {},
     "output_type": "execute_result"
    }
   ],
   "source": [
    "# Check the history keys\n",
    "history.history.keys()"
   ]
  },
  {
   "cell_type": "code",
   "execution_count": 68,
   "metadata": {
    "_cell_guid": "ac30ce3a-89f9-40a4-a392-50f7d8562f9a",
    "_uuid": "0e03766581fb5a6519af77ac9b737869c7b0e28b",
    "scrolled": true
   },
   "outputs": [
    {
     "data": {
      "image/png": "[encoded data removed]",
      "text/plain": [
       "<Figure size 432x288 with 2 Axes>"
      ]
     },
     "metadata": {
      "needs_background": "light"
     },
     "output_type": "display_data"
    }
   ],
   "source": [
    "fig, ax = plt.subplots(2,1)\n",
    "ax[0].plot(history.history['loss'], color='b', label=\"Training loss\")\n",
    "ax[0].plot(history.history['val_loss'], color='r', label=\"Testing loss\",axes =ax[0])\n",
    "legend = ax[0].legend(loc='best', shadow=True)\n",
    "\n",
    "ax[1].plot(history.history['acc'], color='b', label=\"Training accuracy\")\n",
    "ax[1].plot(history.history['val_acc'], color='r',label=\"Testing accuracy\")\n",
    "legend = ax[1].legend(loc='best', shadow=True)\n",
    "plt.show()"
   ]
  },
  {
   "cell_type": "markdown",
   "metadata": {
    "_cell_guid": "4e3cf055-752e-409b-a39c-8f9ea73b765e",
    "_uuid": "b3bf094cf456be8350a4d26c4a8d08d6ecf3b78a"
   },
   "source": [
    "작은 epoch내에서 Test 데이터셋의 정확도의 변화를 잘 보이지 않음을 알 수 있습니다.\n",
    "\n",
    "### Confusion matrix\n",
    "\n",
    "이번엔 2 클래스에 대한 Confusion Matrix를 보도록 하겠습니다.  \n",
    "Confusion matrix를 얻기위해 아래와 같은 함수를 사용하도록 하겠습니다."
   ]
  },
  {
   "cell_type": "code",
   "execution_count": 72,
   "metadata": {
    "_cell_guid": "52ed3913-ab3c-48e3-9de7-3810af65283b",
    "_uuid": "0df771cc4e8f0c117aaabd93d9778bec837851d4"
   },
   "outputs": [],
   "source": [
    "def plot_confusion_matrix(cm, classes,\n",
    "                          normalize=False,\n",
    "                          title='Confusion matrix',\n",
    "                          cmap=plt.cm.Blues):\n",
    "    \"\"\"\n",
    "    This function prints and plots the confusion matrix.\n",
    "    Normalization can be applied by setting `normalize=True`.\n",
    "    \"\"\"\n",
    "    plt.imshow(cm, interpolation='nearest', cmap=cmap)\n",
    "    plt.title(title)\n",
    "    plt.colorbar()\n",
    "    tick_marks = np.arange(len(classes))\n",
    "    plt.xticks(tick_marks, classes, rotation=45)\n",
    "    plt.yticks(tick_marks, classes)\n",
    "\n",
    "    if normalize:\n",
    "        cm = cm.astype('float') / cm.sum(axis=1)[:, np.newaxis]\n",
    "\n",
    "    thresh = cm.max() / 2.\n",
    "    for i, j in itertools.product(range(cm.shape[0]), range(cm.shape[1])):\n",
    "        plt.text(j, i, cm[i, j],\n",
    "                 horizontalalignment=\"center\",\n",
    "                 color=\"white\" if cm[i, j] > thresh else \"black\")\n",
    "\n",
    "    plt.tight_layout()\n",
    "    plt.ylabel('True label')\n",
    "    plt.xlabel('Predicted label')"
   ]
  },
  {
   "cell_type": "code",
   "execution_count": 73,
   "metadata": {
    "_cell_guid": "fac6cd1f-36ee-4aaa-af29-f94e69db57ef",
    "_uuid": "3afc3624947e0f5454a3893f86163dea548a70f9"
   },
   "outputs": [
    {
     "data": {
      "image/png": "[encoded data removed]",
      "text/plain": [
       "<Figure size 432x288 with 2 Axes>"
      ]
     },
     "metadata": {
      "needs_background": "light"
     },
     "output_type": "display_data"
    }
   ],
   "source": [
    "# Predict the values from the validation dataset\n",
    "Y_pred = model.predict(X_test)\n",
    "# Convert predictions classes to one hot vectors \n",
    "Y_pred_classes = np.argmax(Y_pred,axis = 1) \n",
    "# Convert validation observations to one hot vectors\n",
    "Y_true = np.argmax(Y_test,axis = 1) \n",
    "# compute the confusion matrix\n",
    "confusion_mtx = confusion_matrix(Y_true, Y_pred_classes) \n",
    "# plot the confusion matrix\n",
    "plot_confusion_matrix(confusion_mtx, classes = range(2)) \n",
    "plt.show()"
   ]
  },
  {
   "cell_type": "markdown",
   "metadata": {},
   "source": [
    "기본적으로 **이 모델은 사기 거래를 정확히 예측 못하고 있었습니다.** 그래도 적어도, 보통 거래를 사기라고 예측하진 않았습니다."
   ]
  },
  {
   "cell_type": "markdown",
   "metadata": {
    "_cell_guid": "bbde0f17-8207-4182-b515-5272645e489e",
    "_uuid": "81874f10f4453c3211185dc814351db71087a382"
   },
   "source": [
    "## 2.3 Autoencoder neural network with Keras\n",
    "\n",
    "We have found out that standard neural network is not able to capture this highly skewed Fraud data (< 0.2%).  \n",
    "So I am going to redo this problem by setting up a **Autoencoder network with Keras **.  By definition, Autoencoder network is such that we **develop a model to predict the input** i.e. we are going to optimize the weights and biases (W and b) so that the model gives f(x) = x. How do we do it in NN? We squeeze the network in the middle with input and output layers being the same. The loss or error in Autoencoder is called reconstruction error which is of course minimized during training.  \n",
    "\n",
    "Let us reload the packages."
   ]
  },
  {
   "cell_type": "code",
   "execution_count": null,
   "metadata": {
    "_cell_guid": "46fd0dfc-0e84-45c2-9693-c07e6ec9fdb2",
    "_uuid": "43c44a4085b5376821650f4e520fddd7c44d10b4"
   },
   "outputs": [],
   "source": [
    "import pandas as pd\n",
    "import numpy as np\n",
    "import pickle\n",
    "import matplotlib.pyplot as plt\n",
    "from scipy import stats\n",
    "import tensorflow as tf\n",
    "import seaborn as sns\n",
    "from pylab import rcParams\n",
    "from sklearn.model_selection import train_test_split\n",
    "from keras.models import Model, load_model\n",
    "from keras.layers import Input, Dense\n",
    "from keras.callbacks import ModelCheckpoint, TensorBoard\n",
    "from keras import regularizers\n",
    "from sklearn.preprocessing import StandardScaler\n",
    "%matplotlib inline\n",
    "sns.set(style='whitegrid', palette='muted', font_scale=1.5)\n",
    "rcParams['figure.figsize'] = 14, 8\n",
    "RANDOM_SEED = 42\n",
    "LABELS = [\"Normal\", \"Fraud\"]"
   ]
  },
  {
   "cell_type": "code",
   "execution_count": null,
   "metadata": {
    "_cell_guid": "4e21db4e-0eb1-46b0-a72c-72e4492291e0",
    "_uuid": "0977481fa05b2f9189b4287a74d9f27e74e60af5",
    "collapsed": true
   },
   "outputs": [],
   "source": [
    "# Reload data and then drop time column and standardize Amount column\n",
    "# Also we follow the already done analysis on this dataset\n",
    "df = pd.read_csv(\"../input/creditcard.csv\")\n",
    "data = df.drop(['Time'], axis=1)\n",
    "data['Amount'] = StandardScaler().fit_transform(data['Amount'].values.reshape(-1, 1))"
   ]
  },
  {
   "cell_type": "markdown",
   "metadata": {
    "_cell_guid": "3a80bb96-609e-48ac-85ba-327eeaed3a31",
    "_uuid": "200f4154a82812172bc6750abd17182b0f46c2ea"
   },
   "source": [
    "Training the Autoencoder is somewhat different from what we typically do to. Here we do not specify the split betweeen Fraud and Normal transaction. We train the model on the normal transaction only (see how X_train is selected). "
   ]
  },
  {
   "cell_type": "code",
   "execution_count": null,
   "metadata": {
    "_cell_guid": "92fea18e-5583-4bb8-b6ba-c7a0c7d464cd",
    "_uuid": "d38a1b8bb6933057053881c83df26893d3c2354e",
    "collapsed": true
   },
   "outputs": [],
   "source": [
    "X_train, X_test = train_test_split(data, test_size=0.2, random_state=RANDOM_SEED)\n",
    "X_train = X_train[X_train.Class == 0]\n",
    "X_train = X_train.drop(['Class'], axis=1)\n",
    "y_test = X_test['Class']\n",
    "X_test = X_test.drop(['Class'], axis=1)\n",
    "X_train = X_train.values\n",
    "X_test = X_test.values"
   ]
  },
  {
   "cell_type": "markdown",
   "metadata": {
    "_cell_guid": "13e5058b-7011-4386-be66-a9717d24ed1f",
    "_uuid": "e352475eb2cf97d07fda9b94df63c74aa6ee0fe1"
   },
   "source": [
    "Below I set up the AUtoencoder model. It has 4 fully connected layers after the input layer with 14, 7, 7 and 29 neurons respectively. First two layers are encoder and the last two layers are decoder. Input and output layers have same number of neurons. We are using L1 regularization.  \n",
    "We can also build a different network in similar format."
   ]
  },
  {
   "cell_type": "code",
   "execution_count": null,
   "metadata": {
    "_cell_guid": "a9efb494-f9ac-43ea-97e0-82dbf21bfb30",
    "_uuid": "4fdf0d3c72e8337887142b87ac1d8b6ebee23644",
    "collapsed": true
   },
   "outputs": [],
   "source": [
    "input_dim = X_train.shape[1]\n",
    "encoding_dim = 14\n",
    "\n",
    "input_layer = Input(shape=(input_dim, ))\n",
    "encoder = Dense(encoding_dim, activation=\"tanh\", activity_regularizer=regularizers.l1(10e-5))(input_layer)\n",
    "encoder = Dense(int(encoding_dim / 2), activation=\"relu\")(encoder)\n",
    "decoder = Dense(int(encoding_dim / 2), activation='tanh')(encoder)\n",
    "decoder = Dense(input_dim, activation='relu')(decoder)\n",
    "autoencoder = Model(inputs=input_layer, outputs=decoder)"
   ]
  },
  {
   "cell_type": "markdown",
   "metadata": {
    "_cell_guid": "185fe5c1-aa05-4e7c-b963-0aa5504a8d57",
    "_uuid": "b0a2e939953acff569d1cfe233e0aae6ae0334a9"
   },
   "source": [
    "Now we compile the autoencoder model and collect the history for 10 epochs with batch size of 1000."
   ]
  },
  {
   "cell_type": "code",
   "execution_count": null,
   "metadata": {
    "_cell_guid": "b6362ffe-6174-4194-b91c-eaea6c1e9905",
    "_uuid": "68953af8780d09095e1cccf95899587ef7fa54fc"
   },
   "outputs": [],
   "source": [
    "nb_epoch = 10\n",
    "batch_size = 1000\n",
    "\n",
    "autoencoder.compile(optimizer='adam', loss='mean_squared_error', metrics=['accuracy'])\n",
    "checkpointer = ModelCheckpoint(filepath=\"model.h5\", verbose=0, save_best_only=True)\n",
    "tensorboard = TensorBoard(log_dir='./logs', histogram_freq=0, write_graph=True, write_images=True)\n",
    "history = autoencoder.fit(X_train, X_train, epochs=nb_epoch, batch_size=batch_size, shuffle=True, \n",
    "                          validation_data=(X_test, X_test), verbose=1, callbacks=[checkpointer, tensorboard]).history"
   ]
  },
  {
   "cell_type": "markdown",
   "metadata": {
    "_uuid": "24b27b01d17d99e3eb3198d3ae51c1df02c12ca0"
   },
   "source": [
    "The model is saved in model.h5 via Keras ModelCheckpoint. We can load the model we want.  \n",
    "Now let us look at the model loss and accuracy during training and validation."
   ]
  },
  {
   "cell_type": "code",
   "execution_count": null,
   "metadata": {
    "_uuid": "e7eaba597a604fdf84e1c7c53a21ea5a273df289"
   },
   "outputs": [],
   "source": [
    "# Plot model loss vs. epoch\n",
    "\n",
    "plt.plot(history['loss'])\n",
    "plt.plot(history['val_loss'])\n",
    "plt.title('model loss')\n",
    "plt.ylabel('loss')\n",
    "plt.xlabel('epoch')\n",
    "plt.legend(['train', 'test'], loc='upper right')"
   ]
  },
  {
   "cell_type": "code",
   "execution_count": null,
   "metadata": {
    "_uuid": "40b643c218ef2e087703fe6e489d612b974ebd82"
   },
   "outputs": [],
   "source": [
    "# Plot model Accuracy vs. epoch\n",
    "\n",
    "plt.plot(history['acc'])\n",
    "plt.plot(history['val_acc'])\n",
    "plt.title('model Accuracy')\n",
    "plt.ylabel('Accuracy (%) ')\n",
    "plt.xlabel('epoch')\n",
    "plt.legend(['train', 'test'], loc='upper left');"
   ]
  },
  {
   "cell_type": "markdown",
   "metadata": {
    "_uuid": "94fa7a620b73096f72d3a9040e9685527359d8ad"
   },
   "source": [
    "## Prediction and reconstruction error with Autoencoder\n",
    "\n",
    "Let's do prediction on X_test based on the model and then look at the error (mean squared error) which is called the reconstruction error here."
   ]
  },
  {
   "cell_type": "code",
   "execution_count": null,
   "metadata": {
    "_uuid": "85ef72f49fbb4b1aa012707166266317c9e58f63"
   },
   "outputs": [],
   "source": [
    "predictions = autoencoder.predict(X_test)\n",
    "mse = np.mean(np.power(X_test - predictions, 2), axis=1)\n",
    "error_df = pd.DataFrame({'reconstruction_error': mse, 'true_class': y_test})\n",
    "error_df.describe()"
   ]
  },
  {
   "cell_type": "markdown",
   "metadata": {
    "_uuid": "034da78bc51829cf6a38c6375dbc748bb5267c47"
   },
   "source": [
    "* Although true class is either 0 or 1, reconstruction error has much larger range. Let us look at this reconstruction error distribution for both Normal and Fraud classes in the test dataset."
   ]
  },
  {
   "cell_type": "code",
   "execution_count": null,
   "metadata": {
    "_uuid": "fb31d517e0af7ff89f1f2bbfaf30c805dc5fbee7"
   },
   "outputs": [],
   "source": [
    "# Reconstruction error in normal class\n",
    "\n",
    "fig = plt.figure()\n",
    "ax = fig.add_subplot(111)\n",
    "normal_error_df = error_df[(error_df['true_class']== 0) & (error_df['reconstruction_error'] < 10)]\n",
    "_ = ax.hist(normal_error_df.reconstruction_error.values, bins=10)"
   ]
  },
  {
   "cell_type": "code",
   "execution_count": null,
   "metadata": {
    "_uuid": "f879d4001bc8784fd784c6f17af3af6ca8000b06"
   },
   "outputs": [],
   "source": [
    "# Reconstruction error in Fraud class\n",
    "\n",
    "fig = plt.figure()\n",
    "ax = fig.add_subplot(111)\n",
    "fraud_error_df = error_df[error_df['true_class'] == 1]\n",
    "_ = ax.hist(fraud_error_df.reconstruction_error.values, bins=10)"
   ]
  },
  {
   "cell_type": "markdown",
   "metadata": {
    "_uuid": "ec860edafaea08c950d528e2097c8dd58d50d2cf"
   },
   "source": [
    "We see that reconstruction error has larger tail (worse) in case of Fraud class."
   ]
  },
  {
   "cell_type": "markdown",
   "metadata": {
    "_uuid": "dce49318cf93a3a156c2512a93ba48d4066e9bcf"
   },
   "source": [
    "## Confusion Matrix with Autoencoder\n",
    "\n",
    "In order to predict the class of a transaction, we estimte the reconstruction error for that transaction. **If the predicted error is larger than a threshold** it is marked as Fraud and otherwise Normal. "
   ]
  },
  {
   "cell_type": "code",
   "execution_count": null,
   "metadata": {
    "_uuid": "c74ffebc84540fe12484e780deaa5974186db1b4",
    "collapsed": true
   },
   "outputs": [],
   "source": [
    "from sklearn.metrics import (confusion_matrix, precision_recall_curve, auc,\n",
    "                             roc_curve, recall_score, classification_report, f1_score,\n",
    "                             precision_recall_fscore_support)"
   ]
  },
  {
   "cell_type": "code",
   "execution_count": null,
   "metadata": {
    "_uuid": "ff271d2e1ade6d753e6389107b83983d15b2e371"
   },
   "outputs": [],
   "source": [
    "# Prediction with a threshold\n",
    "\n",
    "threshold = 1\n",
    "\n",
    "groups = error_df.groupby('true_class')\n",
    "fig, ax = plt.subplots()\n",
    "\n",
    "for name, group in groups:\n",
    "    ax.plot(group.index, group.reconstruction_error, marker='o', ms=3.5, linestyle='',\n",
    "            label= \"Fraud\" if name == 1 else \"Normal\")\n",
    "ax.hlines(threshold, ax.get_xlim()[0], ax.get_xlim()[1], colors=\"r\", zorder=100, label='Threshold')\n",
    "ax.legend()\n",
    "plt.title(\"Reconstruction error for different classes\")\n",
    "plt.ylabel(\"Reconstruction error\")\n",
    "plt.xlabel(\"Data point index\")\n",
    "plt.show();"
   ]
  },
  {
   "cell_type": "code",
   "execution_count": null,
   "metadata": {
    "_uuid": "f7ff959efe78f6f49f44f9b6739db5408bd8ee02"
   },
   "outputs": [],
   "source": [
    "# Confusion matrix\n",
    "\n",
    "y_pred = [1 if e > threshold else 0 for e in error_df.reconstruction_error.values]\n",
    "conf_matrix = confusion_matrix(error_df.true_class, y_pred)\n",
    "plt.figure(figsize=(12, 12))\n",
    "sns.heatmap(conf_matrix, xticklabels=LABELS, yticklabels=LABELS, annot=True, fmt=\"d\");\n",
    "plt.title(\"Confusion matrix\")\n",
    "plt.ylabel('True class')\n",
    "plt.xlabel('Predicted class')\n",
    "plt.show()"
   ]
  },
  {
   "cell_type": "markdown",
   "metadata": {
    "_cell_guid": "a8fc4366-157b-4803-a1ea-839deb81e5ee",
    "_uuid": "26b23b001de0f9bc25cf4086a4f6d293a624ef4a",
    "collapsed": true
   },
   "source": [
    "** Autoencoder model is able to detect Fraud transaction in this highly skewed data!**  \n",
    "Although the model catches most of Fraud transaction, it also classifies lot of normal transaction (12%!) as Fraud. Larger threshold will reduce misclassification of the Normal class but it will also reduce detection of the Fraud class.\n",
    "\n",
    "## 3. Visualizing the Data with t-SNE\n",
    "\n",
    "**t-Distributed Stochastic Neighbor Embedding (t-SNE)** is a technique ([wiki page](https://en.wikipedia.org/wiki/T-distributed_stochastic_neighbor_embedding)) for dimensionality reduction that is particularly well suited for the visualization of high-dimensional datasets. It was developed by Geoffrey Hinton and Laurens van der Maaten.  \n",
    "\n",
    "In this example, first we sue t-SNE on a original data sample (since the data is big and takes time to process) and then on the data used for training. If we see aclear contrast between fraud and normal in the scatter plot, then it indicates that the neural network and feature engineering works well for this prediction. "
   ]
  },
  {
   "cell_type": "code",
   "execution_count": null,
   "metadata": {
    "_cell_guid": "666002dd-a494-44f8-8e5b-6edd1caac68b",
    "_uuid": "6efefcdc0b6a0e9a26dd603f3de470f09d1bf51c",
    "collapsed": true
   },
   "outputs": [],
   "source": [
    "#reload the original dataset\n",
    "tsne_data = pd.read_csv(\"../input/creditcard.csv\")"
   ]
  },
  {
   "cell_type": "code",
   "execution_count": null,
   "metadata": {
    "_cell_guid": "1ca3c3d5-7021-408b-9b8e-5b096ffdab70",
    "_uuid": "9d16809b2e58203f07878e5f84d231627be0a3bd",
    "collapsed": true
   },
   "outputs": [],
   "source": [
    "#Set df2 equal to all of the fraulent and 10,000 normal transactions.\n",
    "df2 = tsne_data[tsne_data.Class == 1]\n",
    "df2 = pd.concat([df2, tsne_data[tsne_data.Class == 0].sample(n = 10000)], axis = 0)"
   ]
  },
  {
   "cell_type": "code",
   "execution_count": null,
   "metadata": {
    "_cell_guid": "e2dff561-70c0-41db-b4fd-284e81ca937c",
    "_uuid": "580710b043028b8174afa8f3a4966b3ee056f7e7",
    "collapsed": true
   },
   "outputs": [],
   "source": [
    "#Scale features to improve the training ability of TSNE.\n",
    "standard_scaler = StandardScaler()\n",
    "df2_std = standard_scaler.fit_transform(df2)\n",
    "\n",
    "#Set y equal to the target values.\n",
    "y = df2.iloc[:,-1].values"
   ]
  },
  {
   "cell_type": "code",
   "execution_count": null,
   "metadata": {
    "_cell_guid": "4aef9135-c77f-4e0a-9778-d652c44642fa",
    "_uuid": "7ea15c61745436c5d739b25a7d6a590a4000b638",
    "collapsed": true
   },
   "outputs": [],
   "source": [
    "tsne = TSNE(n_components=2, random_state=0)\n",
    "x_test_2d = tsne.fit_transform(df2_std)"
   ]
  },
  {
   "cell_type": "code",
   "execution_count": null,
   "metadata": {
    "_cell_guid": "87a60d8e-1146-40fc-890f-7009ae9fc56b",
    "_uuid": "e3467fb9d00627e3c343687a6c708c2bba2d2246",
    "collapsed": true
   },
   "outputs": [],
   "source": [
    "#Build the scatter plot with the two types of transactions.\n",
    "color_map = {0:'red', 1:'blue'}\n",
    "plt.figure()\n",
    "for idx, cl in enumerate(np.unique(y)):\n",
    "    plt.scatter(x = x_test_2d[y==cl,0], \n",
    "                y = x_test_2d[y==cl,1], \n",
    "                c = color_map[idx], \n",
    "                label = cl)\n",
    "plt.xlabel('X in t-SNE')\n",
    "plt.ylabel('Y in t-SNE')\n",
    "plt.legend(loc='upper left')\n",
    "plt.title('t-SNE visualization of test data')\n",
    "plt.show()"
   ]
  },
  {
   "cell_type": "markdown",
   "metadata": {
    "_cell_guid": "e30817e4-1f4d-410a-8de7-dff5ecd3f654",
    "_uuid": "0749916bb5934b4c7177fc755a80c04226cb5f79",
    "collapsed": true
   },
   "source": [
    "Most of the fraudulent transactions are well separated in the original dataset sample in this t-SNE plot, while some are mixed within the rest of the data.  \n",
    "Just to note, this visualizayion may change from sample to sample and it may not be **exactly** representative for the whole dataset.\n",
    "Now, let us look at t-SNE of the training dataset that was used in this analysis. It is expected to show good separation like the above one.  "
   ]
  },
  {
   "cell_type": "code",
   "execution_count": null,
   "metadata": {
    "_cell_guid": "f8aff8f9-74e4-4ae6-8b5a-2ebe4fa7159f",
    "_uuid": "a687a2689a1bda5e00fbaf76d9cff4e5e0b40c05",
    "collapsed": true
   },
   "outputs": [],
   "source": [
    "#Set df_used to the fraudulent transactions' dataset.\n",
    "df_used = Fraud\n",
    "\n",
    "#Add 10,000 normal transactions to df_used.\n",
    "df_used = pd.concat([df_used, Normal.sample(n = 10000)], axis = 0)"
   ]
  },
  {
   "cell_type": "code",
   "execution_count": null,
   "metadata": {
    "_cell_guid": "409fe27f-1080-457f-81c2-0b56d72621a3",
    "_uuid": "4525e5241602370a34859974b55aa29efec377e6",
    "collapsed": true
   },
   "outputs": [],
   "source": [
    "#Scale features to improve the training ability of TSNE.\n",
    "df_used_std = standard_scaler.fit_transform(df_used)\n",
    "\n",
    "#Set y_used equal to the target values.\n",
    "y_used = df_used.iloc[:,-1].values"
   ]
  },
  {
   "cell_type": "code",
   "execution_count": null,
   "metadata": {
    "_cell_guid": "7d7cec91-ed1a-4a7e-87e4-f64d19fd882b",
    "_uuid": "76ea2a5da95e3b08893345196000cb5412ab386a",
    "collapsed": true
   },
   "outputs": [],
   "source": [
    "x_test_2d_used = tsne.fit_transform(df_used_std)"
   ]
  },
  {
   "cell_type": "code",
   "execution_count": null,
   "metadata": {
    "_cell_guid": "74fe3bcd-941a-4606-a661-6bf8b11a52c9",
    "_uuid": "f7b4ece7e3296e94bfc6410fe2e90bd2ad3c2175",
    "collapsed": true
   },
   "outputs": [],
   "source": [
    "color_map = {1:'red', 0:'blue'}\n",
    "plt.figure()\n",
    "for idx, cl in enumerate(np.unique(y_used)):\n",
    "    plt.scatter(x=x_test_2d_used[y_used==cl,0], \n",
    "                y=x_test_2d_used[y_used==cl,1], \n",
    "                c=color_map[idx], \n",
    "                label=cl)\n",
    "plt.xlabel('X in t-SNE')\n",
    "plt.ylabel('Y in t-SNE')\n",
    "plt.legend(loc='upper left')\n",
    "plt.title('t-SNE visualization of test data')\n",
    "plt.show()"
   ]
  },
  {
   "cell_type": "markdown",
   "metadata": {
    "_cell_guid": "0ff5c098-92f7-491b-94da-60b5853b95c0",
    "_uuid": "07509dc372fe310a06ab2dfb09f221af1285f794"
   },
   "source": [
    "Here we see that fraud and normal transactions are almost clearly separated. This indicates that we should ne able to develop a model based on feature engineering based on traning subset and predict on the testing subset."
   ]
  },
  {
   "cell_type": "markdown",
   "metadata": {
    "_cell_guid": "48e41d3d-7ec6-42aa-bf8d-482de2a4502a",
    "_uuid": "30885af43df07288dc8ad76027cf0436591e3ccf",
    "collapsed": true
   },
   "source": [
    "### Conclusion\n",
    "\n",
    "* EDA did not show clear separation of fraud and normal transaction captured by any single parameter\n",
    "* Fraud transactions are typically small. On a crude term, transaction with values more than maximum of  fraud transaction can safely be assumed as normal\n",
    "* Both Tensorflow and Keras model built on the creditcard dataset showed very high accuracies (99.46% & 99.82%) however, failed to capture the Fraud transaction in this highly skewed data\n",
    "* Autoencoder model with a small threshold for reconstruction error can capture most of Fraud transaction however, it also significantly misclassify Normal transaction as Fraud.\n",
    "* t-SNE plot showed good separation between the normal and fraudalant transaction in the scatterplot suggesting prediction model to show good accuracy in model developed training and testing within the dataset.\n",
    "\n",
    "### How to improve on fraud detection?\n",
    "\n",
    "* Of course, more data is always better, particularly for NN\n",
    "* Train a larger Autoencoder NN (any other method?)\n",
    "\n",
    "### Reference:\n",
    "\n",
    "* Thanks to [tensoflow Kaggle notebook by Currie32](https://www.kaggle.com/currie32/predicting-fraud-with-tensorflow) that I directly took help from to exercise this analysis in implementing Tensorflow\n",
    "* Documentation in [Keras model](https://keras.io/getting-started/sequential-model-guide/)\n",
    "* Great Medium blog about applying NN [Autoencoder on Fraud Detection](https://medium.com/@curiousily/credit-card-fraud-detection-using-autoencoders-in-keras-tensorflow-for-hackers-part-vii-20e0c85301bd)\n",
    "\n",
    "### If you have any suggestion, let me know!"
   ]
  }
 ],
 "metadata": {
  "kernelspec": {
   "display_name": "Python 3",
   "language": "python",
   "name": "python3"
  },
  "language_info": {
   "codemirror_mode": {
    "name": "ipython",
    "version": 3
   },
   "file_extension": ".py",
   "mimetype": "text/x-python",
   "name": "python",
   "nbconvert_exporter": "python",
   "pygments_lexer": "ipython3",
   "version": "3.6.6"
  }
 },
 "nbformat": 4,
 "nbformat_minor": 1
}
